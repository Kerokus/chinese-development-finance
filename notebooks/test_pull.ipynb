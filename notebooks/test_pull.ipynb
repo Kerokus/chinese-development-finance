{
 "cells": [
  {
   "cell_type": "code",
   "execution_count": 35,
   "metadata": {},
   "outputs": [],
   "source": [
    "import os\n",
    "import pandas as pd\n",
    "import numpy as np\n",
    "import requests\n",
    "from datetime import datetime, timedelta\n",
    "import matplotlib.pyplot as plt\n",
    "from matplotlib.ticker import FuncFormatter\n",
    "import plotly.express as px\n",
    "from plotly.subplots import make_subplots\n",
    "import plotly.graph_objects as go"
   ]
  },
  {
   "cell_type": "code",
   "execution_count": 2,
   "metadata": {},
   "outputs": [],
   "source": [
    "chinese_raw_df = pd.read_csv(\"../data/chinese_loan_data.csv\", low_memory=False)"
   ]
  },
  {
   "cell_type": "code",
   "execution_count": 3,
   "metadata": {},
   "outputs": [
    {
     "data": {
      "text/html": [
       "<div>\n",
       "<style scoped>\n",
       "    .dataframe tbody tr th:only-of-type {\n",
       "        vertical-align: middle;\n",
       "    }\n",
       "\n",
       "    .dataframe tbody tr th {\n",
       "        vertical-align: top;\n",
       "    }\n",
       "\n",
       "    .dataframe thead th {\n",
       "        text-align: right;\n",
       "    }\n",
       "</style>\n",
       "<table border=\"1\" class=\"dataframe\">\n",
       "  <thead>\n",
       "    <tr style=\"text-align: right;\">\n",
       "      <th></th>\n",
       "      <th>Recipient</th>\n",
       "      <th>Recipient ISO-3</th>\n",
       "      <th>Recipient Region</th>\n",
       "      <th>Commitment Year</th>\n",
       "      <th>Amount (Original Currency)</th>\n",
       "      <th>Amount (Nominal USD)</th>\n",
       "      <th>Interest Rate</th>\n",
       "      <th>Default Interest Rate</th>\n",
       "    </tr>\n",
       "  </thead>\n",
       "  <tbody>\n",
       "    <tr>\n",
       "      <th>0</th>\n",
       "      <td>Afghanistan</td>\n",
       "      <td>AFG</td>\n",
       "      <td>Asia</td>\n",
       "      <td>2021</td>\n",
       "      <td>550000000.0</td>\n",
       "      <td>7.111456e+06</td>\n",
       "      <td>NaN</td>\n",
       "      <td>NaN</td>\n",
       "    </tr>\n",
       "    <tr>\n",
       "      <th>1</th>\n",
       "      <td>Afghanistan</td>\n",
       "      <td>AFG</td>\n",
       "      <td>Asia</td>\n",
       "      <td>2021</td>\n",
       "      <td>12600000.0</td>\n",
       "      <td>1.260000e+07</td>\n",
       "      <td>NaN</td>\n",
       "      <td>NaN</td>\n",
       "    </tr>\n",
       "    <tr>\n",
       "      <th>2</th>\n",
       "      <td>Afghanistan</td>\n",
       "      <td>AFG</td>\n",
       "      <td>Asia</td>\n",
       "      <td>2021</td>\n",
       "      <td>14400000.0</td>\n",
       "      <td>1.440000e+07</td>\n",
       "      <td>NaN</td>\n",
       "      <td>NaN</td>\n",
       "    </tr>\n",
       "    <tr>\n",
       "      <th>3</th>\n",
       "      <td>Afghanistan</td>\n",
       "      <td>AFG</td>\n",
       "      <td>Asia</td>\n",
       "      <td>2021</td>\n",
       "      <td>13000000.0</td>\n",
       "      <td>1.300000e+07</td>\n",
       "      <td>NaN</td>\n",
       "      <td>NaN</td>\n",
       "    </tr>\n",
       "    <tr>\n",
       "      <th>4</th>\n",
       "      <td>Afghanistan</td>\n",
       "      <td>AFG</td>\n",
       "      <td>Asia</td>\n",
       "      <td>2021</td>\n",
       "      <td>7500000.0</td>\n",
       "      <td>7.500000e+06</td>\n",
       "      <td>NaN</td>\n",
       "      <td>NaN</td>\n",
       "    </tr>\n",
       "    <tr>\n",
       "      <th>...</th>\n",
       "      <td>...</td>\n",
       "      <td>...</td>\n",
       "      <td>...</td>\n",
       "      <td>...</td>\n",
       "      <td>...</td>\n",
       "      <td>...</td>\n",
       "      <td>...</td>\n",
       "      <td>...</td>\n",
       "    </tr>\n",
       "    <tr>\n",
       "      <th>20980</th>\n",
       "      <td>Zimbabwe</td>\n",
       "      <td>ZWE</td>\n",
       "      <td>Africa</td>\n",
       "      <td>2000</td>\n",
       "      <td>20000000.0</td>\n",
       "      <td>2.415899e+06</td>\n",
       "      <td>0.0</td>\n",
       "      <td>NaN</td>\n",
       "    </tr>\n",
       "    <tr>\n",
       "      <th>20981</th>\n",
       "      <td>Zimbabwe</td>\n",
       "      <td>ZWE</td>\n",
       "      <td>Africa</td>\n",
       "      <td>2000</td>\n",
       "      <td>5000000.0</td>\n",
       "      <td>6.039747e+05</td>\n",
       "      <td>NaN</td>\n",
       "      <td>NaN</td>\n",
       "    </tr>\n",
       "    <tr>\n",
       "      <th>20982</th>\n",
       "      <td>Zimbabwe</td>\n",
       "      <td>ZWE</td>\n",
       "      <td>Africa</td>\n",
       "      <td>2000</td>\n",
       "      <td>48200000.0</td>\n",
       "      <td>5.822316e+06</td>\n",
       "      <td>3.0</td>\n",
       "      <td>NaN</td>\n",
       "    </tr>\n",
       "    <tr>\n",
       "      <th>20983</th>\n",
       "      <td>Zimbabwe</td>\n",
       "      <td>ZWE</td>\n",
       "      <td>Africa</td>\n",
       "      <td>2000</td>\n",
       "      <td>NaN</td>\n",
       "      <td>NaN</td>\n",
       "      <td>NaN</td>\n",
       "      <td>NaN</td>\n",
       "    </tr>\n",
       "    <tr>\n",
       "      <th>20984</th>\n",
       "      <td>Zimbabwe</td>\n",
       "      <td>ZWE</td>\n",
       "      <td>Africa</td>\n",
       "      <td>2000</td>\n",
       "      <td>19931.0</td>\n",
       "      <td>1.993100e+04</td>\n",
       "      <td>NaN</td>\n",
       "      <td>NaN</td>\n",
       "    </tr>\n",
       "  </tbody>\n",
       "</table>\n",
       "<p>20985 rows × 8 columns</p>\n",
       "</div>"
      ],
      "text/plain": [
       "         Recipient Recipient ISO-3 Recipient Region  Commitment Year  \\\n",
       "0      Afghanistan             AFG             Asia             2021   \n",
       "1      Afghanistan             AFG             Asia             2021   \n",
       "2      Afghanistan             AFG             Asia             2021   \n",
       "3      Afghanistan             AFG             Asia             2021   \n",
       "4      Afghanistan             AFG             Asia             2021   \n",
       "...            ...             ...              ...              ...   \n",
       "20980     Zimbabwe             ZWE           Africa             2000   \n",
       "20981     Zimbabwe             ZWE           Africa             2000   \n",
       "20982     Zimbabwe             ZWE           Africa             2000   \n",
       "20983     Zimbabwe             ZWE           Africa             2000   \n",
       "20984     Zimbabwe             ZWE           Africa             2000   \n",
       "\n",
       "       Amount (Original Currency)  Amount (Nominal USD)  Interest Rate  \\\n",
       "0                     550000000.0          7.111456e+06            NaN   \n",
       "1                      12600000.0          1.260000e+07            NaN   \n",
       "2                      14400000.0          1.440000e+07            NaN   \n",
       "3                      13000000.0          1.300000e+07            NaN   \n",
       "4                       7500000.0          7.500000e+06            NaN   \n",
       "...                           ...                   ...            ...   \n",
       "20980                  20000000.0          2.415899e+06            0.0   \n",
       "20981                   5000000.0          6.039747e+05            NaN   \n",
       "20982                  48200000.0          5.822316e+06            3.0   \n",
       "20983                         NaN                   NaN            NaN   \n",
       "20984                     19931.0          1.993100e+04            NaN   \n",
       "\n",
       "       Default Interest Rate  \n",
       "0                        NaN  \n",
       "1                        NaN  \n",
       "2                        NaN  \n",
       "3                        NaN  \n",
       "4                        NaN  \n",
       "...                      ...  \n",
       "20980                    NaN  \n",
       "20981                    NaN  \n",
       "20982                    NaN  \n",
       "20983                    NaN  \n",
       "20984                    NaN  \n",
       "\n",
       "[20985 rows x 8 columns]"
      ]
     },
     "execution_count": 3,
     "metadata": {},
     "output_type": "execute_result"
    }
   ],
   "source": [
    "selected_columns = [\n",
    "    'Recipient',\n",
    "    'Recipient ISO-3',\n",
    "    'Recipient Region',\n",
    "    'Commitment Year',\n",
    "    'Amount (Original Currency)',\n",
    "    'Amount (Nominal USD)',\n",
    "    'Interest Rate',\n",
    "    'Default Interest Rate'\n",
    "]\n",
    "\n",
    "chinese_finance_df = chinese_raw_df[selected_columns]\n",
    "\n",
    "chinese_finance_df"
   ]
  },
  {
   "cell_type": "code",
   "execution_count": 27,
   "metadata": {},
   "outputs": [
    {
     "data": {
      "image/png": "[encoded data removed]",
      "text/plain": [
       "<Figure size 1000x600 with 1 Axes>"
      ]
     },
     "metadata": {},
     "output_type": "display_data"
    }
   ],
   "source": [
    "# Filter the DataFrame to include only rows where 'Recipient Region' is 'America'\n",
    "south_america_df = chinese_finance_df[chinese_finance_df['Recipient Region'] == 'America']\n",
    "\n",
    "# Group by 'Commitment Year' and sum 'Amount (Nominal USD)'\n",
    "yearly_sum_south_america = south_america_df.groupby('Commitment Year')[\n",
    "    'Amount (Nominal USD)'].sum().reset_index()\n",
    "\n",
    "def billions(x, pos):\n",
    "    'The two args are the value and tick position'\n",
    "    return '%1.1fB' % (x * 1e-9)\n",
    "\n",
    "formatter = FuncFormatter(billions)\n",
    "\n",
    "# Plotting the line graph\n",
    "plt.figure(figsize=(10, 6))\n",
    "plt.plot(yearly_sum_south_america['Commitment Year'],\n",
    "         yearly_sum_south_america['Amount (Nominal USD)'], marker='o')\n",
    "plt.xlabel('Commitment Year')\n",
    "plt.ylabel('Amount (Nominal USD)')\n",
    "plt.title('Yearly Sum of Amount (Nominal USD) for South America by Commitment Year')\n",
    "plt.grid(True)\n",
    "plt.gca().yaxis.set_major_formatter(formatter)\n",
    "plt.show()"
   ]
  },
  {
   "cell_type": "code",
   "execution_count": 22,
   "metadata": {},
   "outputs": [
    {
     "data": {
      "image/png": "[encoded data removed]",
      "text/plain": [
       "<Figure size 1200x800 with 1 Axes>"
      ]
     },
     "metadata": {},
     "output_type": "display_data"
    }
   ],
   "source": [
    "# Filter the DataFrame to include only rows where 'Recipient Region' is 'Africa'\n",
    "africa_df = chinese_finance_df[chinese_finance_df['Recipient Region'] == 'Africa']\n",
    "\n",
    "# Group by 'Recipient' and sum 'Amount (Nominal USD)'\n",
    "recipient_sum_africa = africa_df.groupby('Recipient')['Amount (Nominal USD)'].sum().reset_index()\n",
    "\n",
    "# Sort the DataFrame by 'Amount (Nominal USD)' and select the top 20 recipients\n",
    "top_20_recipients = recipient_sum_africa.sort_values(by='Amount (Nominal USD)', ascending=False).head(20)\n",
    "\n",
    "# Sort the top 20 recipients for better visualization\n",
    "top_20_recipients = top_20_recipients.sort_values(by='Amount (Nominal USD)', ascending=True)\n",
    "\n",
    "\n",
    "def billions(x, pos):\n",
    "    'The two args are the value and tick position'\n",
    "    return '%1.1fB' % (x * 1e-9)\n",
    "\n",
    "\n",
    "formatter = FuncFormatter(billions)\n",
    "\n",
    "# Plotting the horizontal bar graph\n",
    "plt.figure(figsize=(12, 8))\n",
    "bars = plt.barh(top_20_recipients['Recipient'], top_20_recipients['Amount (Nominal USD)'])\n",
    "plt.xlabel('Total Amount (Nominal USD)')\n",
    "plt.ylabel('Recipient')\n",
    "plt.title('Top 20 Total Amount by Recipient in Africa since 2000')\n",
    "\n",
    "# Adding the recipient names inside the bars\n",
    "for bar, recipient in zip(bars, top_20_recipients['Recipient']):\n",
    "    width = bar.get_width()\n",
    "    plt.text(width - (width * 0.03), bar.get_y() + bar.get_height()/2, \n",
    "             recipient, va='center', ha='right', color='white', fontsize=9)\n",
    "\n",
    "# Remove y-axis labels\n",
    "plt.yticks([])\n",
    "plt.gca().xaxis.set_major_formatter(formatter)\n",
    "plt.show()"
   ]
  },
  {
   "cell_type": "code",
   "execution_count": 7,
   "metadata": {},
   "outputs": [
    {
     "data": {
      "image/png": "[encoded data removed]",
      "text/plain": [
       "<Figure size 1200x800 with 1 Axes>"
      ]
     },
     "metadata": {},
     "output_type": "display_data"
    }
   ],
   "source": [
    "# Filter the DataFrame to include only rows where 'Recipient Region' is 'Africa'\n",
    "south_america_df = chinese_finance_df[chinese_finance_df['Recipient Region'] == 'America']\n",
    "\n",
    "# Group by 'Recipient' and sum 'Amount (Nominal USD)'\n",
    "recipient_sum_south_america = south_america_df.groupby(\n",
    "    'Recipient')['Amount (Nominal USD)'].sum().reset_index()\n",
    "\n",
    "# Sort the DataFrame by 'Amount (Nominal USD)' and select the top 20 recipients\n",
    "top_20_recipients_sa = recipient_sum_south_america.sort_values(\n",
    "    by='Amount (Nominal USD)', ascending=False).head(20)\n",
    "\n",
    "# Sort the top 20 recipients for better visualization\n",
    "top_20_recipients_sa = top_20_recipients_sa.sort_values(\n",
    "    by='Amount (Nominal USD)', ascending=True)\n",
    "\n",
    "\n",
    "def billions(x, pos):\n",
    "    'The two args are the value and tick position'\n",
    "    return '%1.1fB' % (x * 1e-9)\n",
    "\n",
    "\n",
    "formatter = FuncFormatter(billions)\n",
    "\n",
    "# Plotting the horizontal bar graph\n",
    "plt.figure(figsize=(12, 8))\n",
    "bars = plt.barh(top_20_recipients_sa['Recipient'],\n",
    "                top_20_recipients_sa['Amount (Nominal USD)'])\n",
    "plt.xlabel('Total Amount (Nominal USD)')\n",
    "plt.ylabel('Recipient')\n",
    "plt.title('Top 20 Total Amount by Recipient in South America since 2000')\n",
    "\n",
    "# Remove y-axis labels\n",
    "plt.gca().xaxis.set_major_formatter(formatter)\n",
    "plt.show()"
   ]
  },
  {
   "cell_type": "code",
   "execution_count": 43,
   "metadata": {},
   "outputs": [
    {
     "data": {
      "application/vnd.plotly.v1+json": {
       "config": {
        "plotlyServerURL": "https://plot.ly"
       },
       "data": [
        {
         "coloraxis": "coloraxis",
         "geo": "geo",
         "hovertemplate": "<b>%{hovertext}</b><br><br>Recipient=%{location}<br>Amount (Nominal USD)=%{z}<extra></extra>",
         "hovertext": [
          "Africa, regional",
          "Algeria",
          "Angola",
          "Benin",
          "Botswana",
          "Burkina Faso",
          "Burundi",
          "Cabo Verde",
          "Cameroon",
          "Central African Republic",
          "Chad",
          "Comoros",
          "Congo",
          "Cote d'Ivoire",
          "Democratic Republic of the Congo",
          "Djibouti",
          "Egypt",
          "Equatorial Guinea",
          "Eritrea",
          "Ethiopia",
          "Gabon",
          "Gambia",
          "Ghana",
          "Guinea",
          "Guinea-Bissau",
          "Kenya",
          "Lesotho",
          "Liberia",
          "Libya",
          "Madagascar",
          "Malawi",
          "Mali",
          "Mauritania",
          "Mauritius",
          "Morocco",
          "Mozambique",
          "Namibia",
          "Niger",
          "Nigeria",
          "Rwanda",
          "Sao Tome and Principe",
          "Senegal",
          "Seychelles",
          "Sierra Leone",
          "Somalia",
          "South Africa",
          "South Sudan",
          "Sudan",
          "Tanzania",
          "Togo",
          "Tunisia",
          "Uganda",
          "Zambia",
          "Zimbabwe"
         ],
         "locationmode": "country names",
         "locations": [
          "Africa, regional",
          "Algeria",
          "Angola",
          "Benin",
          "Botswana",
          "Burkina Faso",
          "Burundi",
          "Cabo Verde",
          "Cameroon",
          "Central African Republic",
          "Chad",
          "Comoros",
          "Congo",
          "Cote d'Ivoire",
          "Democratic Republic of the Congo",
          "Djibouti",
          "Egypt",
          "Equatorial Guinea",
          "Eritrea",
          "Ethiopia",
          "Gabon",
          "Gambia",
          "Ghana",
          "Guinea",
          "Guinea-Bissau",
          "Kenya",
          "Lesotho",
          "Liberia",
          "Libya",
          "Madagascar",
          "Malawi",
          "Mali",
          "Mauritania",
          "Mauritius",
          "Morocco",
          "Mozambique",
          "Namibia",
          "Niger",
          "Nigeria",
          "Rwanda",
          "Sao Tome and Principe",
          "Senegal",
          "Seychelles",
          "Sierra Leone",
          "Somalia",
          "South Africa",
          "South Sudan",
          "Sudan",
          "Tanzania",
          "Togo",
          "Tunisia",
          "Uganda",
          "Zambia",
          "Zimbabwe"
         ],
         "name": "",
         "type": "choropleth",
         "z": [
          24573369274.704117,
          3558772179.719116,
          83528238168.34207,
          3168729209.8182445,
          1753926104.8561223,
          4312244841.467305,
          555422108.0482984,
          625848463.6567277,
          8482296574.564401,
          691174878.4830995,
          4040249954.96649,
          582056445.7989035,
          11434836984.27968,
          6957235112.582997,
          14409840699.92017,
          2854666975.7414155,
          32106863012.5206,
          13486304976.764603,
          2559160242.097639,
          25143753954.327843,
          3691793429.118556,
          620217013.7586883,
          36578128956.07031,
          27432821787.845913,
          320833521.4362043,
          18334598755.012127,
          517493502.7757496,
          1227895305.549285,
          312853539.86372507,
          1215192547.1282153,
          2615312941.6317573,
          3636984609.4197974,
          2588980325.760833,
          1972091751.0886965,
          1755669455.7228873,
          8960254939.514204,
          3258674641.4306035,
          4323720291.05042,
          71843547478.79424,
          1256826042.8678696,
          344732742.1891097,
          5161739287.259564,
          266946836.20192993,
          5516157123.906372,
          72348282.27158591,
          26252219736.0724,
          8588718846.831875,
          17909597855.876766,
          14217419861.467104,
          1587294424.768133,
          652098834.4384769,
          4793294794.863979,
          14322916827.577333,
          17009805008.59201
         ]
        }
       ],
       "layout": {
        "coloraxis": {
         "colorbar": {
          "title": {
           "text": "Amount (Nominal USD)"
          }
         },
         "colorscale": [
          [
           0,
           "rgb(214, 249, 207)"
          ],
          [
           0.09090909090909091,
           "rgb(186, 228, 174)"
          ],
          [
           0.18181818181818182,
           "rgb(156, 209, 143)"
          ],
          [
           0.2727272727272727,
           "rgb(124, 191, 115)"
          ],
          [
           0.36363636363636365,
           "rgb(85, 174, 91)"
          ],
          [
           0.45454545454545453,
           "rgb(37, 157, 81)"
          ],
          [
           0.5454545454545454,
           "rgb(7, 138, 78)"
          ],
          [
           0.6363636363636364,
           "rgb(13, 117, 71)"
          ],
          [
           0.7272727272727273,
           "rgb(23, 95, 61)"
          ],
          [
           0.8181818181818182,
           "rgb(25, 75, 49)"
          ],
          [
           0.9090909090909091,
           "rgb(23, 55, 35)"
          ],
          [
           1,
           "rgb(17, 36, 20)"
          ]
         ]
        },
        "geo": {
         "center": {},
         "coastlinecolor": "Black",
         "domain": {
          "x": [
           0,
           1
          ],
          "y": [
           0,
           1
          ]
         },
         "landcolor": "White",
         "projection": {
          "type": "natural earth"
         },
         "scope": "africa",
         "showcoastlines": true,
         "showland": true
        },
        "legend": {
         "tracegroupgap": 0
        },
        "template": {
         "data": {
          "bar": [
           {
            "error_x": {
             "color": "#2a3f5f"
            },
            "error_y": {
             "color": "#2a3f5f"
            },
            "marker": {
             "line": {
              "color": "#E5ECF6",
              "width": 0.5
             },
             "pattern": {
              "fillmode": "overlay",
              "size": 10,
              "solidity": 0.2
             }
            },
            "type": "bar"
           }
          ],
          "barpolar": [
           {
            "marker": {
             "line": {
              "color": "#E5ECF6",
              "width": 0.5
             },
             "pattern": {
              "fillmode": "overlay",
              "size": 10,
              "solidity": 0.2
             }
            },
            "type": "barpolar"
           }
          ],
          "carpet": [
           {
            "aaxis": {
             "endlinecolor": "#2a3f5f",
             "gridcolor": "white",
             "linecolor": "white",
             "minorgridcolor": "white",
             "startlinecolor": "#2a3f5f"
            },
            "baxis": {
             "endlinecolor": "#2a3f5f",
             "gridcolor": "white",
             "linecolor": "white",
             "minorgridcolor": "white",
             "startlinecolor": "#2a3f5f"
            },
            "type": "carpet"
           }
          ],
          "choropleth": [
           {
            "colorbar": {
             "outlinewidth": 0,
             "ticks": ""
            },
            "type": "choropleth"
           }
          ],
          "contour": [
           {
            "colorbar": {
             "outlinewidth": 0,
             "ticks": ""
            },
            "colorscale": [
             [
              0,
              "#0d0887"
             ],
             [
              0.1111111111111111,
              "#46039f"
             ],
             [
              0.2222222222222222,
              "#7201a8"
             ],
             [
              0.3333333333333333,
              "#9c179e"
             ],
             [
              0.4444444444444444,
              "#bd3786"
             ],
             [
              0.5555555555555556,
              "#d8576b"
             ],
             [
              0.6666666666666666,
              "#ed7953"
             ],
             [
              0.7777777777777778,
              "#fb9f3a"
             ],
             [
              0.8888888888888888,
              "#fdca26"
             ],
             [
              1,
              "#f0f921"
             ]
            ],
            "type": "contour"
           }
          ],
          "contourcarpet": [
           {
            "colorbar": {
             "outlinewidth": 0,
             "ticks": ""
            },
            "type": "contourcarpet"
           }
          ],
          "heatmap": [
           {
            "colorbar": {
             "outlinewidth": 0,
             "ticks": ""
            },
            "colorscale": [
             [
              0,
              "#0d0887"
             ],
             [
              0.1111111111111111,
              "#46039f"
             ],
             [
              0.2222222222222222,
              "#7201a8"
             ],
             [
              0.3333333333333333,
              "#9c179e"
             ],
             [
              0.4444444444444444,
              "#bd3786"
             ],
             [
              0.5555555555555556,
              "#d8576b"
             ],
             [
              0.6666666666666666,
              "#ed7953"
             ],
             [
              0.7777777777777778,
              "#fb9f3a"
             ],
             [
              0.8888888888888888,
              "#fdca26"
             ],
             [
              1,
              "#f0f921"
             ]
            ],
            "type": "heatmap"
           }
          ],
          "heatmapgl": [
           {
            "colorbar": {
             "outlinewidth": 0,
             "ticks": ""
            },
            "colorscale": [
             [
              0,
              "#0d0887"
             ],
             [
              0.1111111111111111,
              "#46039f"
             ],
             [
              0.2222222222222222,
              "#7201a8"
             ],
             [
              0.3333333333333333,
              "#9c179e"
             ],
             [
              0.4444444444444444,
              "#bd3786"
             ],
             [
              0.5555555555555556,
              "#d8576b"
             ],
             [
              0.6666666666666666,
              "#ed7953"
             ],
             [
              0.7777777777777778,
              "#fb9f3a"
             ],
             [
              0.8888888888888888,
              "#fdca26"
             ],
             [
              1,
              "#f0f921"
             ]
            ],
            "type": "heatmapgl"
           }
          ],
          "histogram": [
           {
            "marker": {
             "pattern": {
              "fillmode": "overlay",
              "size": 10,
              "solidity": 0.2
             }
            },
            "type": "histogram"
           }
          ],
          "histogram2d": [
           {
            "colorbar": {
             "outlinewidth": 0,
             "ticks": ""
            },
            "colorscale": [
             [
              0,
              "#0d0887"
             ],
             [
              0.1111111111111111,
              "#46039f"
             ],
             [
              0.2222222222222222,
              "#7201a8"
             ],
             [
              0.3333333333333333,
              "#9c179e"
             ],
             [
              0.4444444444444444,
              "#bd3786"
             ],
             [
              0.5555555555555556,
              "#d8576b"
             ],
             [
              0.6666666666666666,
              "#ed7953"
             ],
             [
              0.7777777777777778,
              "#fb9f3a"
             ],
             [
              0.8888888888888888,
              "#fdca26"
             ],
             [
              1,
              "#f0f921"
             ]
            ],
            "type": "histogram2d"
           }
          ],
          "histogram2dcontour": [
           {
            "colorbar": {
             "outlinewidth": 0,
             "ticks": ""
            },
            "colorscale": [
             [
              0,
              "#0d0887"
             ],
             [
              0.1111111111111111,
              "#46039f"
             ],
             [
              0.2222222222222222,
              "#7201a8"
             ],
             [
              0.3333333333333333,
              "#9c179e"
             ],
             [
              0.4444444444444444,
              "#bd3786"
             ],
             [
              0.5555555555555556,
              "#d8576b"
             ],
             [
              0.6666666666666666,
              "#ed7953"
             ],
             [
              0.7777777777777778,
              "#fb9f3a"
             ],
             [
              0.8888888888888888,
              "#fdca26"
             ],
             [
              1,
              "#f0f921"
             ]
            ],
            "type": "histogram2dcontour"
           }
          ],
          "mesh3d": [
           {
            "colorbar": {
             "outlinewidth": 0,
             "ticks": ""
            },
            "type": "mesh3d"
           }
          ],
          "parcoords": [
           {
            "line": {
             "colorbar": {
              "outlinewidth": 0,
              "ticks": ""
             }
            },
            "type": "parcoords"
           }
          ],
          "pie": [
           {
            "automargin": true,
            "type": "pie"
           }
          ],
          "scatter": [
           {
            "fillpattern": {
             "fillmode": "overlay",
             "size": 10,
             "solidity": 0.2
            },
            "type": "scatter"
           }
          ],
          "scatter3d": [
           {
            "line": {
             "colorbar": {
              "outlinewidth": 0,
              "ticks": ""
             }
            },
            "marker": {
             "colorbar": {
              "outlinewidth": 0,
              "ticks": ""
             }
            },
            "type": "scatter3d"
           }
          ],
          "scattercarpet": [
           {
            "marker": {
             "colorbar": {
              "outlinewidth": 0,
              "ticks": ""
             }
            },
            "type": "scattercarpet"
           }
          ],
          "scattergeo": [
           {
            "marker": {
             "colorbar": {
              "outlinewidth": 0,
              "ticks": ""
             }
            },
            "type": "scattergeo"
           }
          ],
          "scattergl": [
           {
            "marker": {
             "colorbar": {
              "outlinewidth": 0,
              "ticks": ""
             }
            },
            "type": "scattergl"
           }
          ],
          "scattermapbox": [
           {
            "marker": {
             "colorbar": {
              "outlinewidth": 0,
              "ticks": ""
             }
            },
            "type": "scattermapbox"
           }
          ],
          "scatterpolar": [
           {
            "marker": {
             "colorbar": {
              "outlinewidth": 0,
              "ticks": ""
             }
            },
            "type": "scatterpolar"
           }
          ],
          "scatterpolargl": [
           {
            "marker": {
             "colorbar": {
              "outlinewidth": 0,
              "ticks": ""
             }
            },
            "type": "scatterpolargl"
           }
          ],
          "scatterternary": [
           {
            "marker": {
             "colorbar": {
              "outlinewidth": 0,
              "ticks": ""
             }
            },
            "type": "scatterternary"
           }
          ],
          "surface": [
           {
            "colorbar": {
             "outlinewidth": 0,
             "ticks": ""
            },
            "colorscale": [
             [
              0,
              "#0d0887"
             ],
             [
              0.1111111111111111,
              "#46039f"
             ],
             [
              0.2222222222222222,
              "#7201a8"
             ],
             [
              0.3333333333333333,
              "#9c179e"
             ],
             [
              0.4444444444444444,
              "#bd3786"
             ],
             [
              0.5555555555555556,
              "#d8576b"
             ],
             [
              0.6666666666666666,
              "#ed7953"
             ],
             [
              0.7777777777777778,
              "#fb9f3a"
             ],
             [
              0.8888888888888888,
              "#fdca26"
             ],
             [
              1,
              "#f0f921"
             ]
            ],
            "type": "surface"
           }
          ],
          "table": [
           {
            "cells": {
             "fill": {
              "color": "#EBF0F8"
             },
             "line": {
              "color": "white"
             }
            },
            "header": {
             "fill": {
              "color": "#C8D4E3"
             },
             "line": {
              "color": "white"
             }
            },
            "type": "table"
           }
          ]
         },
         "layout": {
          "annotationdefaults": {
           "arrowcolor": "#2a3f5f",
           "arrowhead": 0,
           "arrowwidth": 1
          },
          "autotypenumbers": "strict",
          "coloraxis": {
           "colorbar": {
            "outlinewidth": 0,
            "ticks": ""
           }
          },
          "colorscale": {
           "diverging": [
            [
             0,
             "#8e0152"
            ],
            [
             0.1,
             "#c51b7d"
            ],
            [
             0.2,
             "#de77ae"
            ],
            [
             0.3,
             "#f1b6da"
            ],
            [
             0.4,
             "#fde0ef"
            ],
            [
             0.5,
             "#f7f7f7"
            ],
            [
             0.6,
             "#e6f5d0"
            ],
            [
             0.7,
             "#b8e186"
            ],
            [
             0.8,
             "#7fbc41"
            ],
            [
             0.9,
             "#4d9221"
            ],
            [
             1,
             "#276419"
            ]
           ],
           "sequential": [
            [
             0,
             "#0d0887"
            ],
            [
             0.1111111111111111,
             "#46039f"
            ],
            [
             0.2222222222222222,
             "#7201a8"
            ],
            [
             0.3333333333333333,
             "#9c179e"
            ],
            [
             0.4444444444444444,
             "#bd3786"
            ],
            [
             0.5555555555555556,
             "#d8576b"
            ],
            [
             0.6666666666666666,
             "#ed7953"
            ],
            [
             0.7777777777777778,
             "#fb9f3a"
            ],
            [
             0.8888888888888888,
             "#fdca26"
            ],
            [
             1,
             "#f0f921"
            ]
           ],
           "sequentialminus": [
            [
             0,
             "#0d0887"
            ],
            [
             0.1111111111111111,
             "#46039f"
            ],
            [
             0.2222222222222222,
             "#7201a8"
            ],
            [
             0.3333333333333333,
             "#9c179e"
            ],
            [
             0.4444444444444444,
             "#bd3786"
            ],
            [
             0.5555555555555556,
             "#d8576b"
            ],
            [
             0.6666666666666666,
             "#ed7953"
            ],
            [
             0.7777777777777778,
             "#fb9f3a"
            ],
            [
             0.8888888888888888,
             "#fdca26"
            ],
            [
             1,
             "#f0f921"
            ]
           ]
          },
          "colorway": [
           "#636efa",
           "#EF553B",
           "#00cc96",
           "#ab63fa",
           "#FFA15A",
           "#19d3f3",
           "#FF6692",
           "#B6E880",
           "#FF97FF",
           "#FECB52"
          ],
          "font": {
           "color": "#2a3f5f"
          },
          "geo": {
           "bgcolor": "white",
           "lakecolor": "white",
           "landcolor": "#E5ECF6",
           "showlakes": true,
           "showland": true,
           "subunitcolor": "white"
          },
          "hoverlabel": {
           "align": "left"
          },
          "hovermode": "closest",
          "mapbox": {
           "style": "light"
          },
          "paper_bgcolor": "white",
          "plot_bgcolor": "#E5ECF6",
          "polar": {
           "angularaxis": {
            "gridcolor": "white",
            "linecolor": "white",
            "ticks": ""
           },
           "bgcolor": "#E5ECF6",
           "radialaxis": {
            "gridcolor": "white",
            "linecolor": "white",
            "ticks": ""
           }
          },
          "scene": {
           "xaxis": {
            "backgroundcolor": "#E5ECF6",
            "gridcolor": "white",
            "gridwidth": 2,
            "linecolor": "white",
            "showbackground": true,
            "ticks": "",
            "zerolinecolor": "white"
           },
           "yaxis": {
            "backgroundcolor": "#E5ECF6",
            "gridcolor": "white",
            "gridwidth": 2,
            "linecolor": "white",
            "showbackground": true,
            "ticks": "",
            "zerolinecolor": "white"
           },
           "zaxis": {
            "backgroundcolor": "#E5ECF6",
            "gridcolor": "white",
            "gridwidth": 2,
            "linecolor": "white",
            "showbackground": true,
            "ticks": "",
            "zerolinecolor": "white"
           }
          },
          "shapedefaults": {
           "line": {
            "color": "#2a3f5f"
           }
          },
          "ternary": {
           "aaxis": {
            "gridcolor": "white",
            "linecolor": "white",
            "ticks": ""
           },
           "baxis": {
            "gridcolor": "white",
            "linecolor": "white",
            "ticks": ""
           },
           "bgcolor": "#E5ECF6",
           "caxis": {
            "gridcolor": "white",
            "linecolor": "white",
            "ticks": ""
           }
          },
          "title": {
           "x": 0.05
          },
          "xaxis": {
           "automargin": true,
           "gridcolor": "white",
           "linecolor": "white",
           "ticks": "",
           "title": {
            "standoff": 15
           },
           "zerolinecolor": "white",
           "zerolinewidth": 2
          },
          "yaxis": {
           "automargin": true,
           "gridcolor": "white",
           "linecolor": "white",
           "ticks": "",
           "title": {
            "standoff": 15
           },
           "zerolinecolor": "white",
           "zerolinewidth": 2
          }
         }
        },
        "title": {
         "text": "Total Amount by Recipient in Africa 2000-2021"
        }
       }
      }
     },
     "metadata": {},
     "output_type": "display_data"
    }
   ],
   "source": [
    "# Filter the DataFrame to include only rows where 'Recipient Region' is 'Africa'\n",
    "africa_df = chinese_finance_df[chinese_finance_df['Recipient Region'] == 'Africa']\n",
    "\n",
    "# Group by 'Recipient' and sum 'Amount (Nominal USD)' for all years\n",
    "recipient_sum_total = africa_df.groupby(\n",
    "    'Recipient')['Amount (Nominal USD)'].sum().reset_index()\n",
    "\n",
    "# Create the choropleth map using Plotly\n",
    "fig = px.choropleth(recipient_sum_total,\n",
    "                    locations='Recipient',\n",
    "                    locationmode='country names',\n",
    "                    color='Amount (Nominal USD)',\n",
    "                    hover_name='Recipient',\n",
    "                    color_continuous_scale='Algae',\n",
    "                    projection='natural earth',\n",
    "                    title='Total Amount by Recipient in Africa 2000-2021',\n",
    "                    scope='africa')\n",
    "\n",
    "fig.update_geos(showcoastlines=True, coastlinecolor=\"Black\",\n",
    "                showland=True, landcolor=\"White\")\n",
    "\n",
    "fig.show()"
   ]
  },
  {
   "cell_type": "code",
   "execution_count": 40,
   "metadata": {},
   "outputs": [
    {
     "data": {
      "application/vnd.plotly.v1+json": {
       "config": {
        "plotlyServerURL": "https://plot.ly"
       },
       "data": [
        {
         "coloraxis": "coloraxis",
         "geo": "geo",
         "hovertemplate": "<b>%{hovertext}</b><br><br>Recipient=%{location}<br>Amount (Nominal USD)=%{z}<extra></extra>",
         "hovertext": [
          "Algeria",
          "Angola",
          "Benin",
          "Botswana",
          "Burundi",
          "Cabo Verde",
          "Cameroon",
          "Central African Republic",
          "Comoros",
          "Congo",
          "Cote d'Ivoire",
          "Democratic Republic of the Congo",
          "Djibouti",
          "Egypt",
          "Equatorial Guinea",
          "Eritrea",
          "Ethiopia",
          "Gabon",
          "Ghana",
          "Guinea",
          "Guinea-Bissau",
          "Kenya",
          "Lesotho",
          "Liberia",
          "Libya",
          "Madagascar",
          "Malawi",
          "Mali",
          "Mauritania",
          "Mauritius",
          "Morocco",
          "Mozambique",
          "Namibia",
          "Niger",
          "Nigeria",
          "Rwanda",
          "Senegal",
          "Seychelles",
          "Sierra Leone",
          "Somalia",
          "South Africa",
          "Sudan",
          "Tanzania",
          "Togo",
          "Tunisia",
          "Uganda",
          "Zambia",
          "Zimbabwe"
         ],
         "locationmode": "country names",
         "locations": [
          "Algeria",
          "Angola",
          "Benin",
          "Botswana",
          "Burundi",
          "Cabo Verde",
          "Cameroon",
          "Central African Republic",
          "Comoros",
          "Congo",
          "Cote d'Ivoire",
          "Democratic Republic of the Congo",
          "Djibouti",
          "Egypt",
          "Equatorial Guinea",
          "Eritrea",
          "Ethiopia",
          "Gabon",
          "Ghana",
          "Guinea",
          "Guinea-Bissau",
          "Kenya",
          "Lesotho",
          "Liberia",
          "Libya",
          "Madagascar",
          "Malawi",
          "Mali",
          "Mauritania",
          "Mauritius",
          "Morocco",
          "Mozambique",
          "Namibia",
          "Niger",
          "Nigeria",
          "Rwanda",
          "Senegal",
          "Seychelles",
          "Sierra Leone",
          "Somalia",
          "South Africa",
          "Sudan",
          "Tanzania",
          "Togo",
          "Tunisia",
          "Uganda",
          "Zambia",
          "Zimbabwe"
         ],
         "name": "",
         "type": "choropleth",
         "z": [
          30000000,
          1323901314.4129448,
          83162201.99020451,
          3661364.61937929,
          10500000,
          3783410.10669193,
          0,
          64887915.49407311,
          3016961.5728995674,
          551507000,
          0,
          1220454.87312643,
          0,
          15868381.110397,
          9182702.465403259,
          7322729.23875858,
          5315899.778860248,
          366136.461937929,
          5001022.743656321,
          67968500,
          2319471.3806627635,
          39838132.0554374,
          15623144.193828411,
          17247000,
          0,
          6102274.36563215,
          250000,
          12276659.57476404,
          143000000,
          6768191.786536873,
          2440909.74625286,
          7900000,
          36976103.873258285,
          3945568.5641300427,
          325664771.77408016,
          0,
          51232497.77373572,
          10198404.588098193,
          12440909.74625286,
          9202274.36563215,
          59294117.64,
          1015090454.8731265,
          271570.525743256,
          8436649.046022087,
          18306823.09689643,
          1283613.6461937928,
          16500000,
          102117276.36563215
         ]
        },
        {
         "coloraxis": "coloraxis",
         "geo": "geo2",
         "hovertemplate": "<b>%{hovertext}</b><br><br>Recipient=%{location}<br>Amount (Nominal USD)=%{z}<extra></extra>",
         "hovertext": [
          "Africa, regional",
          "Algeria",
          "Angola",
          "Benin",
          "Botswana",
          "Burundi",
          "Cabo Verde",
          "Cameroon",
          "Central African Republic",
          "Chad",
          "Comoros",
          "Congo",
          "Cote d'Ivoire",
          "Democratic Republic of the Congo",
          "Egypt",
          "Equatorial Guinea",
          "Eritrea",
          "Ethiopia",
          "Gabon",
          "Ghana",
          "Guinea-Bissau",
          "Kenya",
          "Lesotho",
          "Liberia",
          "Libya",
          "Madagascar",
          "Malawi",
          "Mali",
          "Mauritania",
          "Mauritius",
          "Morocco",
          "Mozambique",
          "Namibia",
          "Niger",
          "Nigeria",
          "Rwanda",
          "Senegal",
          "Seychelles",
          "Sierra Leone",
          "South Africa",
          "South Sudan",
          "Sudan",
          "Tanzania",
          "Togo",
          "Tunisia",
          "Uganda",
          "Zambia",
          "Zimbabwe"
         ],
         "locationmode": "country names",
         "locations": [
          "Africa, regional",
          "Algeria",
          "Angola",
          "Benin",
          "Botswana",
          "Burundi",
          "Cabo Verde",
          "Cameroon",
          "Central African Republic",
          "Chad",
          "Comoros",
          "Congo",
          "Cote d'Ivoire",
          "Democratic Republic of the Congo",
          "Egypt",
          "Equatorial Guinea",
          "Eritrea",
          "Ethiopia",
          "Gabon",
          "Ghana",
          "Guinea-Bissau",
          "Kenya",
          "Lesotho",
          "Liberia",
          "Libya",
          "Madagascar",
          "Malawi",
          "Mali",
          "Mauritania",
          "Mauritius",
          "Morocco",
          "Mozambique",
          "Namibia",
          "Niger",
          "Nigeria",
          "Rwanda",
          "Senegal",
          "Seychelles",
          "Sierra Leone",
          "South Africa",
          "South Sudan",
          "Sudan",
          "Tanzania",
          "Togo",
          "Tunisia",
          "Uganda",
          "Zambia",
          "Zimbabwe"
         ],
         "name": "",
         "type": "choropleth",
         "z": [
          10152506.05929447,
          47273707.2362646,
          3641699976.8136945,
          32500673.7249319,
          5909213.40453308,
          13218426.80906616,
          0,
          116822560.49792358,
          31641607.894497488,
          0,
          37270929.97839191,
          253436170.95066497,
          87456358.3870894,
          307236223.86566633,
          1100000,
          2405062219.312403,
          66000000,
          1381363025.442243,
          151781550.004628,
          11223716666,
          15478356.06636618,
          183769552.16987094,
          12170696.4739528,
          16606050.015427016,
          0,
          3638258.509851668,
          61056733.10352344,
          163980671.97579208,
          109763638.98920181,
          2531.19069797439,
          0,
          93633934.4667186,
          1559266.1885970028,
          2280143.486893329,
          24119600000,
          11909213.404533079,
          104222028.71393348,
          8236955.026699901,
          9000000,
          386164213.8468607,
          0,
          640512788.0961196,
          252666507.38678235,
          58564332.13774782,
          2954606.70226654,
          3658733.6850979105,
          252748943.03999078,
          386850496.07203066
         ]
        },
        {
         "coloraxis": "coloraxis",
         "geo": "geo3",
         "hovertemplate": "<b>%{hovertext}</b><br><br>Recipient=%{location}<br>Amount (Nominal USD)=%{z}<extra></extra>",
         "hovertext": [
          "Africa, regional",
          "Algeria",
          "Angola",
          "Benin",
          "Botswana",
          "Burundi",
          "Cabo Verde",
          "Cameroon",
          "Central African Republic",
          "Chad",
          "Comoros",
          "Congo",
          "Cote d'Ivoire",
          "Democratic Republic of the Congo",
          "Djibouti",
          "Egypt",
          "Equatorial Guinea",
          "Eritrea",
          "Ethiopia",
          "Gabon",
          "Ghana",
          "Guinea",
          "Guinea-Bissau",
          "Kenya",
          "Lesotho",
          "Liberia",
          "Madagascar",
          "Malawi",
          "Mali",
          "Mauritania",
          "Mauritius",
          "Morocco",
          "Mozambique",
          "Namibia",
          "Niger",
          "Nigeria",
          "Rwanda",
          "Sao Tome and Principe",
          "Senegal",
          "Seychelles",
          "Sierra Leone",
          "Somalia",
          "South Africa",
          "South Sudan",
          "Sudan",
          "Tanzania",
          "Togo",
          "Tunisia",
          "Uganda",
          "Zambia",
          "Zimbabwe"
         ],
         "locationmode": "country names",
         "locations": [
          "Africa, regional",
          "Algeria",
          "Angola",
          "Benin",
          "Botswana",
          "Burundi",
          "Cabo Verde",
          "Cameroon",
          "Central African Republic",
          "Chad",
          "Comoros",
          "Congo",
          "Cote d'Ivoire",
          "Democratic Republic of the Congo",
          "Djibouti",
          "Egypt",
          "Equatorial Guinea",
          "Eritrea",
          "Ethiopia",
          "Gabon",
          "Ghana",
          "Guinea",
          "Guinea-Bissau",
          "Kenya",
          "Lesotho",
          "Liberia",
          "Madagascar",
          "Malawi",
          "Mali",
          "Mauritania",
          "Mauritius",
          "Morocco",
          "Mozambique",
          "Namibia",
          "Niger",
          "Nigeria",
          "Rwanda",
          "Sao Tome and Principe",
          "Senegal",
          "Seychelles",
          "Sierra Leone",
          "Somalia",
          "South Africa",
          "South Sudan",
          "Sudan",
          "Tanzania",
          "Togo",
          "Tunisia",
          "Uganda",
          "Zambia",
          "Zimbabwe"
         ],
         "name": "",
         "type": "choropleth",
         "z": [
          366477500.4551348,
          0,
          17430036105.001873,
          290223555.0471064,
          14728972.14359753,
          948235.45984023,
          15376623.589042423,
          2171440706.6248255,
          24132798.890614368,
          2190759.99661848,
          150065040.41734177,
          8000000,
          813605183.3383999,
          622120265.35,
          24420139,
          154772997.281075,
          3333033662,
          97454599.456215,
          2242114483.1358023,
          1333947347.1884584,
          116317166.76755247,
          79671537.99369167,
          6418255.707160364,
          2498842977.01262,
          21773789.30556159,
          69700522.09182477,
          5691373.818738332,
          904713380.6730236,
          13706502.1966852,
          79989070.43444191,
          22200975.63151443,
          9909644.663196132,
          6381457.76357292,
          537000000,
          139119722.35460865,
          130537.22142821,
          0,
          0,
          2518157218.3136163,
          262738.203052806,
          329137887.617766,
          2060000,
          2207816023.390356,
          1992208989.4684584,
          35400439.6424421,
          333240309.8761675,
          82238262.43215823,
          57680346.59589423,
          1149628435.7359142,
          1356478191.0390239,
          2486210316.8364305
         ]
        },
        {
         "coloraxis": "coloraxis",
         "geo": "geo4",
         "hovertemplate": "<b>%{hovertext}</b><br><br>Recipient=%{location}<br>Amount (Nominal USD)=%{z}<extra></extra>",
         "hovertext": [
          "Africa, regional",
          "Algeria",
          "Angola",
          "Benin",
          "Botswana",
          "Burkina Faso",
          "Burundi",
          "Cabo Verde",
          "Cameroon",
          "Central African Republic",
          "Chad",
          "Comoros",
          "Congo",
          "Cote d'Ivoire",
          "Democratic Republic of the Congo",
          "Djibouti",
          "Egypt",
          "Equatorial Guinea",
          "Ethiopia",
          "Gabon",
          "Gambia",
          "Ghana",
          "Guinea",
          "Guinea-Bissau",
          "Kenya",
          "Lesotho",
          "Liberia",
          "Libya",
          "Madagascar",
          "Malawi",
          "Mali",
          "Mauritania",
          "Mauritius",
          "Morocco",
          "Mozambique",
          "Namibia",
          "Niger",
          "Nigeria",
          "Rwanda",
          "Sao Tome and Principe",
          "Senegal",
          "Seychelles",
          "Sierra Leone",
          "Somalia",
          "South Africa",
          "South Sudan",
          "Sudan",
          "Tanzania",
          "Togo",
          "Tunisia",
          "Uganda",
          "Zambia",
          "Zimbabwe"
         ],
         "locationmode": "country names",
         "locations": [
          "Africa, regional",
          "Algeria",
          "Angola",
          "Benin",
          "Botswana",
          "Burkina Faso",
          "Burundi",
          "Cabo Verde",
          "Cameroon",
          "Central African Republic",
          "Chad",
          "Comoros",
          "Congo",
          "Cote d'Ivoire",
          "Democratic Republic of the Congo",
          "Djibouti",
          "Egypt",
          "Equatorial Guinea",
          "Ethiopia",
          "Gabon",
          "Gambia",
          "Ghana",
          "Guinea",
          "Guinea-Bissau",
          "Kenya",
          "Lesotho",
          "Liberia",
          "Libya",
          "Madagascar",
          "Malawi",
          "Mali",
          "Mauritania",
          "Mauritius",
          "Morocco",
          "Mozambique",
          "Namibia",
          "Niger",
          "Nigeria",
          "Rwanda",
          "Sao Tome and Principe",
          "Senegal",
          "Seychelles",
          "Sierra Leone",
          "Somalia",
          "South Africa",
          "South Sudan",
          "Sudan",
          "Tanzania",
          "Togo",
          "Tunisia",
          "Uganda",
          "Zambia",
          "Zimbabwe"
         ],
         "name": "",
         "type": "choropleth",
         "z": [
          281306818.1818182,
          21289153.6231884,
          59587754.95435368,
          1762408.955298042,
          3143191.3992785253,
          210476862.07896218,
          1022927.0674351645,
          52500,
          6538650.887326395,
          3318404.09437273,
          3165056.35389079,
          124637.6811594194,
          200745,
          1058620746.0662947,
          154481763.043478,
          350000,
          2614020979.827547,
          2008100,
          13663554.739735859,
          51018009.090909,
          293099.0371660853,
          1011965577.1385844,
          830493600,
          299360,
          36675625.195526935,
          71407797.53060356,
          4623315,
          3759747.82,
          49319082.52736366,
          162901111.96182016,
          132417.9971854966,
          267416.4,
          0,
          1846348.6575342459,
          289741558.7,
          1762222.1359223295,
          8713695.436265387,
          3258368335.5529637,
          229529655.93867737,
          1051650,
          1459153.133670832,
          174216,
          5350,
          1293815,
          685749933.4854367,
          23810149.12,
          2580000,
          50918457.3007383,
          33000,
          0,
          641362979.8074424,
          203546567,
          8477741.904924722
         ]
        }
       ],
       "layout": {
        "annotations": [
         {
          "font": {
           "size": 16
          },
          "showarrow": false,
          "text": "2005",
          "x": 0.225,
          "xanchor": "center",
          "xref": "paper",
          "y": 1,
          "yanchor": "bottom",
          "yref": "paper"
         },
         {
          "font": {
           "size": 16
          },
          "showarrow": false,
          "text": "2010",
          "x": 0.775,
          "xanchor": "center",
          "xref": "paper",
          "y": 1,
          "yanchor": "bottom",
          "yref": "paper"
         },
         {
          "font": {
           "size": 16
          },
          "showarrow": false,
          "text": "2015",
          "x": 0.225,
          "xanchor": "center",
          "xref": "paper",
          "y": 0.375,
          "yanchor": "bottom",
          "yref": "paper"
         },
         {
          "font": {
           "size": 16
          },
          "showarrow": false,
          "text": "2020",
          "x": 0.775,
          "xanchor": "center",
          "xref": "paper",
          "y": 0.375,
          "yanchor": "bottom",
          "yref": "paper"
         }
        ],
        "geo": {
         "domain": {
          "x": [
           0,
           0.45
          ],
          "y": [
           0.625,
           1
          ]
         }
        },
        "geo2": {
         "domain": {
          "x": [
           0.55,
           1
          ],
          "y": [
           0.625,
           1
          ]
         }
        },
        "geo3": {
         "domain": {
          "x": [
           0,
           0.45
          ],
          "y": [
           0,
           0.375
          ]
         }
        },
        "geo4": {
         "domain": {
          "x": [
           0.55,
           1
          ],
          "y": [
           0,
           0.375
          ]
         }
        },
        "height": 800,
        "template": {
         "data": {
          "bar": [
           {
            "error_x": {
             "color": "#2a3f5f"
            },
            "error_y": {
             "color": "#2a3f5f"
            },
            "marker": {
             "line": {
              "color": "#E5ECF6",
              "width": 0.5
             },
             "pattern": {
              "fillmode": "overlay",
              "size": 10,
              "solidity": 0.2
             }
            },
            "type": "bar"
           }
          ],
          "barpolar": [
           {
            "marker": {
             "line": {
              "color": "#E5ECF6",
              "width": 0.5
             },
             "pattern": {
              "fillmode": "overlay",
              "size": 10,
              "solidity": 0.2
             }
            },
            "type": "barpolar"
           }
          ],
          "carpet": [
           {
            "aaxis": {
             "endlinecolor": "#2a3f5f",
             "gridcolor": "white",
             "linecolor": "white",
             "minorgridcolor": "white",
             "startlinecolor": "#2a3f5f"
            },
            "baxis": {
             "endlinecolor": "#2a3f5f",
             "gridcolor": "white",
             "linecolor": "white",
             "minorgridcolor": "white",
             "startlinecolor": "#2a3f5f"
            },
            "type": "carpet"
           }
          ],
          "choropleth": [
           {
            "colorbar": {
             "outlinewidth": 0,
             "ticks": ""
            },
            "type": "choropleth"
           }
          ],
          "contour": [
           {
            "colorbar": {
             "outlinewidth": 0,
             "ticks": ""
            },
            "colorscale": [
             [
              0,
              "#0d0887"
             ],
             [
              0.1111111111111111,
              "#46039f"
             ],
             [
              0.2222222222222222,
              "#7201a8"
             ],
             [
              0.3333333333333333,
              "#9c179e"
             ],
             [
              0.4444444444444444,
              "#bd3786"
             ],
             [
              0.5555555555555556,
              "#d8576b"
             ],
             [
              0.6666666666666666,
              "#ed7953"
             ],
             [
              0.7777777777777778,
              "#fb9f3a"
             ],
             [
              0.8888888888888888,
              "#fdca26"
             ],
             [
              1,
              "#f0f921"
             ]
            ],
            "type": "contour"
           }
          ],
          "contourcarpet": [
           {
            "colorbar": {
             "outlinewidth": 0,
             "ticks": ""
            },
            "type": "contourcarpet"
           }
          ],
          "heatmap": [
           {
            "colorbar": {
             "outlinewidth": 0,
             "ticks": ""
            },
            "colorscale": [
             [
              0,
              "#0d0887"
             ],
             [
              0.1111111111111111,
              "#46039f"
             ],
             [
              0.2222222222222222,
              "#7201a8"
             ],
             [
              0.3333333333333333,
              "#9c179e"
             ],
             [
              0.4444444444444444,
              "#bd3786"
             ],
             [
              0.5555555555555556,
              "#d8576b"
             ],
             [
              0.6666666666666666,
              "#ed7953"
             ],
             [
              0.7777777777777778,
              "#fb9f3a"
             ],
             [
              0.8888888888888888,
              "#fdca26"
             ],
             [
              1,
              "#f0f921"
             ]
            ],
            "type": "heatmap"
           }
          ],
          "heatmapgl": [
           {
            "colorbar": {
             "outlinewidth": 0,
             "ticks": ""
            },
            "colorscale": [
             [
              0,
              "#0d0887"
             ],
             [
              0.1111111111111111,
              "#46039f"
             ],
             [
              0.2222222222222222,
              "#7201a8"
             ],
             [
              0.3333333333333333,
              "#9c179e"
             ],
             [
              0.4444444444444444,
              "#bd3786"
             ],
             [
              0.5555555555555556,
              "#d8576b"
             ],
             [
              0.6666666666666666,
              "#ed7953"
             ],
             [
              0.7777777777777778,
              "#fb9f3a"
             ],
             [
              0.8888888888888888,
              "#fdca26"
             ],
             [
              1,
              "#f0f921"
             ]
            ],
            "type": "heatmapgl"
           }
          ],
          "histogram": [
           {
            "marker": {
             "pattern": {
              "fillmode": "overlay",
              "size": 10,
              "solidity": 0.2
             }
            },
            "type": "histogram"
           }
          ],
          "histogram2d": [
           {
            "colorbar": {
             "outlinewidth": 0,
             "ticks": ""
            },
            "colorscale": [
             [
              0,
              "#0d0887"
             ],
             [
              0.1111111111111111,
              "#46039f"
             ],
             [
              0.2222222222222222,
              "#7201a8"
             ],
             [
              0.3333333333333333,
              "#9c179e"
             ],
             [
              0.4444444444444444,
              "#bd3786"
             ],
             [
              0.5555555555555556,
              "#d8576b"
             ],
             [
              0.6666666666666666,
              "#ed7953"
             ],
             [
              0.7777777777777778,
              "#fb9f3a"
             ],
             [
              0.8888888888888888,
              "#fdca26"
             ],
             [
              1,
              "#f0f921"
             ]
            ],
            "type": "histogram2d"
           }
          ],
          "histogram2dcontour": [
           {
            "colorbar": {
             "outlinewidth": 0,
             "ticks": ""
            },
            "colorscale": [
             [
              0,
              "#0d0887"
             ],
             [
              0.1111111111111111,
              "#46039f"
             ],
             [
              0.2222222222222222,
              "#7201a8"
             ],
             [
              0.3333333333333333,
              "#9c179e"
             ],
             [
              0.4444444444444444,
              "#bd3786"
             ],
             [
              0.5555555555555556,
              "#d8576b"
             ],
             [
              0.6666666666666666,
              "#ed7953"
             ],
             [
              0.7777777777777778,
              "#fb9f3a"
             ],
             [
              0.8888888888888888,
              "#fdca26"
             ],
             [
              1,
              "#f0f921"
             ]
            ],
            "type": "histogram2dcontour"
           }
          ],
          "mesh3d": [
           {
            "colorbar": {
             "outlinewidth": 0,
             "ticks": ""
            },
            "type": "mesh3d"
           }
          ],
          "parcoords": [
           {
            "line": {
             "colorbar": {
              "outlinewidth": 0,
              "ticks": ""
             }
            },
            "type": "parcoords"
           }
          ],
          "pie": [
           {
            "automargin": true,
            "type": "pie"
           }
          ],
          "scatter": [
           {
            "fillpattern": {
             "fillmode": "overlay",
             "size": 10,
             "solidity": 0.2
            },
            "type": "scatter"
           }
          ],
          "scatter3d": [
           {
            "line": {
             "colorbar": {
              "outlinewidth": 0,
              "ticks": ""
             }
            },
            "marker": {
             "colorbar": {
              "outlinewidth": 0,
              "ticks": ""
             }
            },
            "type": "scatter3d"
           }
          ],
          "scattercarpet": [
           {
            "marker": {
             "colorbar": {
              "outlinewidth": 0,
              "ticks": ""
             }
            },
            "type": "scattercarpet"
           }
          ],
          "scattergeo": [
           {
            "marker": {
             "colorbar": {
              "outlinewidth": 0,
              "ticks": ""
             }
            },
            "type": "scattergeo"
           }
          ],
          "scattergl": [
           {
            "marker": {
             "colorbar": {
              "outlinewidth": 0,
              "ticks": ""
             }
            },
            "type": "scattergl"
           }
          ],
          "scattermapbox": [
           {
            "marker": {
             "colorbar": {
              "outlinewidth": 0,
              "ticks": ""
             }
            },
            "type": "scattermapbox"
           }
          ],
          "scatterpolar": [
           {
            "marker": {
             "colorbar": {
              "outlinewidth": 0,
              "ticks": ""
             }
            },
            "type": "scatterpolar"
           }
          ],
          "scatterpolargl": [
           {
            "marker": {
             "colorbar": {
              "outlinewidth": 0,
              "ticks": ""
             }
            },
            "type": "scatterpolargl"
           }
          ],
          "scatterternary": [
           {
            "marker": {
             "colorbar": {
              "outlinewidth": 0,
              "ticks": ""
             }
            },
            "type": "scatterternary"
           }
          ],
          "surface": [
           {
            "colorbar": {
             "outlinewidth": 0,
             "ticks": ""
            },
            "colorscale": [
             [
              0,
              "#0d0887"
             ],
             [
              0.1111111111111111,
              "#46039f"
             ],
             [
              0.2222222222222222,
              "#7201a8"
             ],
             [
              0.3333333333333333,
              "#9c179e"
             ],
             [
              0.4444444444444444,
              "#bd3786"
             ],
             [
              0.5555555555555556,
              "#d8576b"
             ],
             [
              0.6666666666666666,
              "#ed7953"
             ],
             [
              0.7777777777777778,
              "#fb9f3a"
             ],
             [
              0.8888888888888888,
              "#fdca26"
             ],
             [
              1,
              "#f0f921"
             ]
            ],
            "type": "surface"
           }
          ],
          "table": [
           {
            "cells": {
             "fill": {
              "color": "#EBF0F8"
             },
             "line": {
              "color": "white"
             }
            },
            "header": {
             "fill": {
              "color": "#C8D4E3"
             },
             "line": {
              "color": "white"
             }
            },
            "type": "table"
           }
          ]
         },
         "layout": {
          "annotationdefaults": {
           "arrowcolor": "#2a3f5f",
           "arrowhead": 0,
           "arrowwidth": 1
          },
          "autotypenumbers": "strict",
          "coloraxis": {
           "colorbar": {
            "outlinewidth": 0,
            "ticks": ""
           }
          },
          "colorscale": {
           "diverging": [
            [
             0,
             "#8e0152"
            ],
            [
             0.1,
             "#c51b7d"
            ],
            [
             0.2,
             "#de77ae"
            ],
            [
             0.3,
             "#f1b6da"
            ],
            [
             0.4,
             "#fde0ef"
            ],
            [
             0.5,
             "#f7f7f7"
            ],
            [
             0.6,
             "#e6f5d0"
            ],
            [
             0.7,
             "#b8e186"
            ],
            [
             0.8,
             "#7fbc41"
            ],
            [
             0.9,
             "#4d9221"
            ],
            [
             1,
             "#276419"
            ]
           ],
           "sequential": [
            [
             0,
             "#0d0887"
            ],
            [
             0.1111111111111111,
             "#46039f"
            ],
            [
             0.2222222222222222,
             "#7201a8"
            ],
            [
             0.3333333333333333,
             "#9c179e"
            ],
            [
             0.4444444444444444,
             "#bd3786"
            ],
            [
             0.5555555555555556,
             "#d8576b"
            ],
            [
             0.6666666666666666,
             "#ed7953"
            ],
            [
             0.7777777777777778,
             "#fb9f3a"
            ],
            [
             0.8888888888888888,
             "#fdca26"
            ],
            [
             1,
             "#f0f921"
            ]
           ],
           "sequentialminus": [
            [
             0,
             "#0d0887"
            ],
            [
             0.1111111111111111,
             "#46039f"
            ],
            [
             0.2222222222222222,
             "#7201a8"
            ],
            [
             0.3333333333333333,
             "#9c179e"
            ],
            [
             0.4444444444444444,
             "#bd3786"
            ],
            [
             0.5555555555555556,
             "#d8576b"
            ],
            [
             0.6666666666666666,
             "#ed7953"
            ],
            [
             0.7777777777777778,
             "#fb9f3a"
            ],
            [
             0.8888888888888888,
             "#fdca26"
            ],
            [
             1,
             "#f0f921"
            ]
           ]
          },
          "colorway": [
           "#636efa",
           "#EF553B",
           "#00cc96",
           "#ab63fa",
           "#FFA15A",
           "#19d3f3",
           "#FF6692",
           "#B6E880",
           "#FF97FF",
           "#FECB52"
          ],
          "font": {
           "color": "#2a3f5f"
          },
          "geo": {
           "bgcolor": "white",
           "lakecolor": "white",
           "landcolor": "#E5ECF6",
           "showlakes": true,
           "showland": true,
           "subunitcolor": "white"
          },
          "hoverlabel": {
           "align": "left"
          },
          "hovermode": "closest",
          "mapbox": {
           "style": "light"
          },
          "paper_bgcolor": "white",
          "plot_bgcolor": "#E5ECF6",
          "polar": {
           "angularaxis": {
            "gridcolor": "white",
            "linecolor": "white",
            "ticks": ""
           },
           "bgcolor": "#E5ECF6",
           "radialaxis": {
            "gridcolor": "white",
            "linecolor": "white",
            "ticks": ""
           }
          },
          "scene": {
           "xaxis": {
            "backgroundcolor": "#E5ECF6",
            "gridcolor": "white",
            "gridwidth": 2,
            "linecolor": "white",
            "showbackground": true,
            "ticks": "",
            "zerolinecolor": "white"
           },
           "yaxis": {
            "backgroundcolor": "#E5ECF6",
            "gridcolor": "white",
            "gridwidth": 2,
            "linecolor": "white",
            "showbackground": true,
            "ticks": "",
            "zerolinecolor": "white"
           },
           "zaxis": {
            "backgroundcolor": "#E5ECF6",
            "gridcolor": "white",
            "gridwidth": 2,
            "linecolor": "white",
            "showbackground": true,
            "ticks": "",
            "zerolinecolor": "white"
           }
          },
          "shapedefaults": {
           "line": {
            "color": "#2a3f5f"
           }
          },
          "ternary": {
           "aaxis": {
            "gridcolor": "white",
            "linecolor": "white",
            "ticks": ""
           },
           "baxis": {
            "gridcolor": "white",
            "linecolor": "white",
            "ticks": ""
           },
           "bgcolor": "#E5ECF6",
           "caxis": {
            "gridcolor": "white",
            "linecolor": "white",
            "ticks": ""
           }
          },
          "title": {
           "x": 0.05
          },
          "xaxis": {
           "automargin": true,
           "gridcolor": "white",
           "linecolor": "white",
           "ticks": "",
           "title": {
            "standoff": 15
           },
           "zerolinecolor": "white",
           "zerolinewidth": 2
          },
          "yaxis": {
           "automargin": true,
           "gridcolor": "white",
           "linecolor": "white",
           "ticks": "",
           "title": {
            "standoff": 15
           },
           "zerolinecolor": "white",
           "zerolinewidth": 2
          }
         }
        },
        "title": {
         "text": "Total Amount by Recipient in Africa for Selected Years"
        },
        "width": 1200
       }
      }
     },
     "metadata": {},
     "output_type": "display_data"
    }
   ],
   "source": [
    "# Assuming chinese_finance_df is your DataFrame\n",
    "\n",
    "# Filter for Africa\n",
    "africa_df = chinese_finance_df[chinese_finance_df['Recipient Region'] == 'Africa']\n",
    "\n",
    "\n",
    "def create_choropleth(year, africa_df):\n",
    "    df_year = africa_df[africa_df['Commitment Year'] == year]\n",
    "    recipient_sum_year = df_year.groupby(\n",
    "        'Recipient')['Amount (Nominal USD)'].sum().reset_index()\n",
    "\n",
    "    fig = px.choropleth(recipient_sum_year,\n",
    "                        locations='Recipient',\n",
    "                        locationmode='country names',\n",
    "                        color='Amount (Nominal USD)',\n",
    "                        hover_name='Recipient',\n",
    "                        color_continuous_scale='Algae',\n",
    "                        title=f'Total Amount by Recipient in Africa ({year})')\n",
    "    fig.update_geos(scope='africa', showcoastlines=True,\n",
    "                    coastlinecolor=\"Black\", showland=True, landcolor=\"White\")\n",
    "    return fig\n",
    "\n",
    "\n",
    "# Create subplots\n",
    "fig = make_subplots(rows=2, cols=2, subplot_titles=('2005', '2010', '2015', '2020'),\n",
    "                    specs=[[{'type': 'choropleth'}, {'type': 'choropleth'}],\n",
    "                           [{'type': 'choropleth'}, {'type': 'choropleth'}]])\n",
    "\n",
    "# Put the subplots on the map\n",
    "years = [2005, 2010, 2015, 2020]\n",
    "for i, year in enumerate(years):\n",
    "    choropleth = create_choropleth(year, africa_df)\n",
    "    for trace in choropleth.data:\n",
    "        fig.add_trace(trace, row=i//2+1, col=i % 2+1)\n",
    "\n",
    "# Update layout\n",
    "fig.update_layout(height=800, width=1200,\n",
    "                  title_text=\"Total Amount by Recipient in Africa from 2005 to 2020\")\n",
    "\n",
    "fig.show()"
   ]
  },
  {
   "cell_type": "code",
   "execution_count": 51,
   "metadata": {},
   "outputs": [
    {
     "name": "stderr",
     "output_type": "stream",
     "text": [
      "C:\\Users\\darks\\AppData\\Local\\Temp\\ipykernel_9212\\3283917966.py:7: SettingWithCopyWarning:\n",
      "\n",
      "\n",
      "A value is trying to be set on a copy of a slice from a DataFrame.\n",
      "Try using .loc[row_indexer,col_indexer] = value instead\n",
      "\n",
      "See the caveats in the documentation: https://pandas.pydata.org/pandas-docs/stable/user_guide/indexing.html#returning-a-view-versus-a-copy\n",
      "\n"
     ]
    },
    {
     "data": {
      "application/vnd.plotly.v1+json": {
       "config": {
        "plotlyServerURL": "https://plot.ly"
       },
       "data": [
        {
         "coloraxis": "coloraxis",
         "geo": "geo",
         "hovertemplate": "<b>%{hovertext}</b><br><br>Commitment Year=2000<br>Recipient=%{location}<br>Amount (Nominal USD)=%{z}<extra></extra>",
         "hovertext": [
          "Africa, regional",
          "Angola",
          "South Africa",
          "Mali",
          "Madagascar",
          "Sudan",
          "Benin",
          "Kenya",
          "Guinea-Bissau",
          "Zimbabwe",
          "Botswana",
          "Ghana",
          "Tanzania",
          "Gabon",
          "Ethiopia",
          "Eritrea",
          "Togo",
          "Burundi",
          "Equatorial Guinea",
          "Tunisia",
          "Democratic Republic of the Congo",
          "Cote d'Ivoire",
          "Cabo Verde",
          "Congo",
          "Comoros",
          "Uganda",
          "Central African Republic",
          "Zambia",
          "Mauritius",
          "Morocco",
          "Guinea",
          "Cameroon",
          "Mozambique",
          "Sierra Leone",
          "Rwanda",
          "Seychelles",
          "Namibia",
          "Algeria"
         ],
         "locationmode": "country names",
         "locations": [
          "Africa, regional",
          "Angola",
          "South Africa",
          "Mali",
          "Madagascar",
          "Sudan",
          "Benin",
          "Kenya",
          "Guinea-Bissau",
          "Zimbabwe",
          "Botswana",
          "Ghana",
          "Tanzania",
          "Gabon",
          "Ethiopia",
          "Eritrea",
          "Togo",
          "Burundi",
          "Equatorial Guinea",
          "Tunisia",
          "Democratic Republic of the Congo",
          "Cote d'Ivoire",
          "Cabo Verde",
          "Congo",
          "Comoros",
          "Uganda",
          "Central African Republic",
          "Zambia",
          "Mauritius",
          "Morocco",
          "Guinea",
          "Cameroon",
          "Mozambique",
          "Sierra Leone",
          "Rwanda",
          "Seychelles",
          "Namibia",
          "Algeria"
         ],
         "name": "",
         "type": "choropleth",
         "z": [
          1000000000,
          0,
          0,
          24158989.10320414,
          12960533.7707152,
          341719873.63790053,
          18119241.82740312,
          160000,
          0,
          8862121.011772715,
          2354356.42227386,
          36168781.1735953,
          6481439.87436641,
          6039747.27580104,
          224158.9891032041,
          9663595.64128166,
          0,
          0,
          0,
          3000000,
          19660392.791281663,
          1207949.4551602,
          2778283.74686847,
          58229742.023369126,
          5002759.34884895,
          4187327.7300638203,
          0,
          6144643.3109966405,
          8861197.563948244,
          9474723.416494405,
          2416000,
          0,
          7807696.73096125,
          250000,
          33944093.12332352,
          250000,
          7768125.35507677,
          0
         ]
        }
       ],
       "frames": [
        {
         "data": [
          {
           "coloraxis": "coloraxis",
           "geo": "geo",
           "hovertemplate": "<b>%{hovertext}</b><br><br>Commitment Year=2000<br>Recipient=%{location}<br>Amount (Nominal USD)=%{z}<extra></extra>",
           "hovertext": [
            "Africa, regional",
            "Angola",
            "South Africa",
            "Mali",
            "Madagascar",
            "Sudan",
            "Benin",
            "Kenya",
            "Guinea-Bissau",
            "Zimbabwe",
            "Botswana",
            "Ghana",
            "Tanzania",
            "Gabon",
            "Ethiopia",
            "Eritrea",
            "Togo",
            "Burundi",
            "Equatorial Guinea",
            "Tunisia",
            "Democratic Republic of the Congo",
            "Cote d'Ivoire",
            "Cabo Verde",
            "Congo",
            "Comoros",
            "Uganda",
            "Central African Republic",
            "Zambia",
            "Mauritius",
            "Morocco",
            "Guinea",
            "Cameroon",
            "Mozambique",
            "Sierra Leone",
            "Rwanda",
            "Seychelles",
            "Namibia",
            "Algeria"
           ],
           "locationmode": "country names",
           "locations": [
            "Africa, regional",
            "Angola",
            "South Africa",
            "Mali",
            "Madagascar",
            "Sudan",
            "Benin",
            "Kenya",
            "Guinea-Bissau",
            "Zimbabwe",
            "Botswana",
            "Ghana",
            "Tanzania",
            "Gabon",
            "Ethiopia",
            "Eritrea",
            "Togo",
            "Burundi",
            "Equatorial Guinea",
            "Tunisia",
            "Democratic Republic of the Congo",
            "Cote d'Ivoire",
            "Cabo Verde",
            "Congo",
            "Comoros",
            "Uganda",
            "Central African Republic",
            "Zambia",
            "Mauritius",
            "Morocco",
            "Guinea",
            "Cameroon",
            "Mozambique",
            "Sierra Leone",
            "Rwanda",
            "Seychelles",
            "Namibia",
            "Algeria"
           ],
           "name": "",
           "type": "choropleth",
           "z": [
            1000000000,
            0,
            0,
            24158989.10320414,
            12960533.7707152,
            341719873.63790053,
            18119241.82740312,
            160000,
            0,
            8862121.011772715,
            2354356.42227386,
            36168781.1735953,
            6481439.87436641,
            6039747.27580104,
            224158.9891032041,
            9663595.64128166,
            0,
            0,
            0,
            3000000,
            19660392.791281663,
            1207949.4551602,
            2778283.74686847,
            58229742.023369126,
            5002759.34884895,
            4187327.7300638203,
            0,
            6144643.3109966405,
            8861197.563948244,
            9474723.416494405,
            2416000,
            0,
            7807696.73096125,
            250000,
            33944093.12332352,
            250000,
            7768125.35507677,
            0
           ]
          }
         ],
         "name": "2000"
        },
        {
         "data": [
          {
           "coloraxis": "coloraxis",
           "geo": "geo",
           "hovertemplate": "<b>%{hovertext}</b><br><br>Commitment Year=2001<br>Recipient=%{location}<br>Amount (Nominal USD)=%{z}<extra></extra>",
           "hovertext": [
            "Rwanda",
            "Democratic Republic of the Congo",
            "Kenya",
            "Djibouti",
            "Guinea-Bissau",
            "Guinea",
            "Cameroon",
            "Zimbabwe",
            "Sierra Leone",
            "Equatorial Guinea",
            "Ghana",
            "Botswana",
            "Togo",
            "Niger",
            "Nigeria",
            "Tanzania",
            "Eritrea",
            "Gabon",
            "Burundi",
            "Sudan",
            "Benin",
            "Seychelles",
            "Morocco",
            "Africa, regional",
            "Mauritius",
            "Mozambique",
            "Zambia",
            "Central African Republic",
            "Angola",
            "South Africa",
            "Uganda",
            "Lesotho",
            "Mali",
            "Comoros",
            "Ethiopia",
            "Congo",
            "Cabo Verde",
            "Namibia",
            "Madagascar"
           ],
           "locationmode": "country names",
           "locations": [
            "Rwanda",
            "Democratic Republic of the Congo",
            "Kenya",
            "Djibouti",
            "Guinea-Bissau",
            "Guinea",
            "Cameroon",
            "Zimbabwe",
            "Sierra Leone",
            "Equatorial Guinea",
            "Ghana",
            "Botswana",
            "Togo",
            "Niger",
            "Nigeria",
            "Tanzania",
            "Eritrea",
            "Gabon",
            "Burundi",
            "Sudan",
            "Benin",
            "Seychelles",
            "Morocco",
            "Africa, regional",
            "Mauritius",
            "Mozambique",
            "Zambia",
            "Central African Republic",
            "Angola",
            "South Africa",
            "Uganda",
            "Lesotho",
            "Mali",
            "Comoros",
            "Ethiopia",
            "Congo",
            "Cabo Verde",
            "Namibia",
            "Madagascar"
           ],
           "name": "",
           "type": "choropleth",
           "z": [
            23806344.8778314,
            15705775.85611212,
            19782770.65661381,
            2410000,
            7581966.66808766,
            80922777.76,
            58525352.412838,
            12061868.408936497,
            2416290.87811212,
            52242413.8053967,
            3628001.7797646415,
            16621454.390560621,
            29284956.41938049,
            21746617.9030091,
            0,
            82409541.53931987,
            6000000,
            12095952.1358293,
            49386618.17923006,
            237137852.85711005,
            9665163.5124485,
            193303.27024897,
            27787345.0982894,
            1993439.9744425,
            9546499.467424411,
            46342259.3474153,
            79431639.03000847,
            9380000,
            88762908.7811212,
            36000000,
            68479565.33528036,
            5223164.099128572,
            53140727.19528031,
            7416290.878112121,
            139872218.1585841,
            54533332.52964114,
            8666805.240319122,
            4448770.47736203,
            33624436.31716819
           ]
          }
         ],
         "name": "2001"
        },
        {
         "data": [
          {
           "coloraxis": "coloraxis",
           "geo": "geo",
           "hovertemplate": "<b>%{hovertext}</b><br><br>Commitment Year=2002<br>Recipient=%{location}<br>Amount (Nominal USD)=%{z}<extra></extra>",
           "hovertext": [
            "Comoros",
            "Zambia",
            "Eritrea",
            "Cameroon",
            "Rwanda",
            "Cote d'Ivoire",
            "Cabo Verde",
            "Togo",
            "Central African Republic",
            "Equatorial Guinea",
            "Uganda",
            "Democratic Republic of the Congo",
            "Nigeria",
            "Tunisia",
            "Seychelles",
            "Burundi",
            "Egypt",
            "Djibouti",
            "Congo",
            "Morocco",
            "Gabon",
            "Sudan",
            "Benin",
            "Mali",
            "Guinea-Bissau",
            "Ethiopia",
            "South Africa",
            "Lesotho",
            "Guinea",
            "Zimbabwe",
            "Kenya",
            "Angola",
            "Mozambique",
            "Mauritania",
            "Sierra Leone",
            "Botswana",
            "Niger",
            "Tanzania",
            "Madagascar",
            "Mauritius",
            "Namibia",
            "Ghana",
            "Algeria"
           ],
           "locationmode": "country names",
           "locations": [
            "Comoros",
            "Zambia",
            "Eritrea",
            "Cameroon",
            "Rwanda",
            "Cote d'Ivoire",
            "Cabo Verde",
            "Togo",
            "Central African Republic",
            "Equatorial Guinea",
            "Uganda",
            "Democratic Republic of the Congo",
            "Nigeria",
            "Tunisia",
            "Seychelles",
            "Burundi",
            "Egypt",
            "Djibouti",
            "Congo",
            "Morocco",
            "Gabon",
            "Sudan",
            "Benin",
            "Mali",
            "Guinea-Bissau",
            "Ethiopia",
            "South Africa",
            "Lesotho",
            "Guinea",
            "Zimbabwe",
            "Kenya",
            "Angola",
            "Mozambique",
            "Mauritania",
            "Sierra Leone",
            "Botswana",
            "Niger",
            "Tanzania",
            "Madagascar",
            "Mauritius",
            "Namibia",
            "Ghana",
            "Algeria"
           ],
           "name": "",
           "type": "choropleth",
           "z": [
            35763.4360884571,
            17279167.80063821,
            2400000,
            103391.578846686,
            14624493.31575406,
            59200837.43328418,
            5262677.751558057,
            362449.331575406,
            13990544.198810695,
            6000000,
            8024797.32630162,
            23919494.9530881,
            401147313.27716935,
            4832657.75433874,
            0,
            0,
            26955124.33310898,
            4668866.663459535,
            9665315.50867751,
            10366050.883056618,
            338286.042803713,
            63708986.63150812,
            27332657.75433874,
            2440000,
            6942359.72439925,
            6256608.502721942,
            73000000,
            2285182.70433723,
            9625000,
            25948602.879763305,
            24273520.058291256,
            342804082.21929234,
            5520000,
            604082.219292344,
            6257083.6274301,
            0,
            10755079.832280893,
            39058318.95723978,
            4800000,
            14497973.26301617,
            10431984.11668699,
            56200000,
            9000000
           ]
          }
         ],
         "name": "2002"
        },
        {
         "data": [
          {
           "coloraxis": "coloraxis",
           "geo": "geo",
           "hovertemplate": "<b>%{hovertext}</b><br><br>Commitment Year=2003<br>Recipient=%{location}<br>Amount (Nominal USD)=%{z}<extra></extra>",
           "hovertext": [
            "Seychelles",
            "Comoros",
            "Liberia",
            "Mozambique",
            "South Africa",
            "Mali",
            "Uganda",
            "Central African Republic",
            "Mauritania",
            "Cameroon",
            "Mauritius",
            "Madagascar",
            "Lesotho",
            "Ethiopia",
            "Congo",
            "Niger",
            "Eritrea",
            "Morocco",
            "Tanzania",
            "Togo",
            "Equatorial Guinea",
            "Sierra Leone",
            "Ghana",
            "Rwanda",
            "Nigeria",
            "Guinea",
            "Djibouti",
            "Guinea-Bissau",
            "Sudan",
            "Democratic Republic of the Congo",
            "Cote d'Ivoire",
            "Namibia",
            "Kenya",
            "Egypt",
            "Tunisia",
            "Gabon",
            "Benin",
            "Angola",
            "Zambia",
            "Botswana",
            "Algeria",
            "Cabo Verde",
            "Zimbabwe",
            "Burundi",
            "Africa, regional"
           ],
           "locationmode": "country names",
           "locations": [
            "Seychelles",
            "Comoros",
            "Liberia",
            "Mozambique",
            "South Africa",
            "Mali",
            "Uganda",
            "Central African Republic",
            "Mauritania",
            "Cameroon",
            "Mauritius",
            "Madagascar",
            "Lesotho",
            "Ethiopia",
            "Congo",
            "Niger",
            "Eritrea",
            "Morocco",
            "Tanzania",
            "Togo",
            "Equatorial Guinea",
            "Sierra Leone",
            "Ghana",
            "Rwanda",
            "Nigeria",
            "Guinea",
            "Djibouti",
            "Guinea-Bissau",
            "Sudan",
            "Democratic Republic of the Congo",
            "Cote d'Ivoire",
            "Namibia",
            "Kenya",
            "Egypt",
            "Tunisia",
            "Gabon",
            "Benin",
            "Angola",
            "Zambia",
            "Botswana",
            "Algeria",
            "Cabo Verde",
            "Zimbabwe",
            "Burundi",
            "Africa, regional"
           ],
           "name": "",
           "type": "choropleth",
           "z": [
            3916305.69067195,
            0,
            10000000,
            1500000,
            52000000,
            4880000,
            3884458.53600793,
            4679407.145699192,
            1208152.84533597,
            6508058.501838867,
            35643798.62976449,
            3624458.53600793,
            8392872.529917205,
            14418626.3882881,
            276454229.0403168,
            7431512.460448554,
            5000000,
            5436687.804011888,
            9865222.76268781,
            2893526.064579661,
            10269299.1853558,
            250000,
            43090277.13339935,
            3816728.77638628,
            6067301.763946841,
            8456750,
            29989274.69318824,
            5208152.845335976,
            1189351859.02,
            6524014.40761268,
            0,
            39578645.989367634,
            444466.8898434904,
            1208152.84533597,
            10873375.608023781,
            4832611.3813439,
            0,
            11300000,
            8060000,
            33454087.30813716,
            20604076.422667988,
            0,
            358160140,
            3624458.53600793,
            0
           ]
          }
         ],
         "name": "2003"
        },
        {
         "data": [
          {
           "coloraxis": "coloraxis",
           "geo": "geo",
           "hovertemplate": "<b>%{hovertext}</b><br><br>Commitment Year=2004<br>Recipient=%{location}<br>Amount (Nominal USD)=%{z}<extra></extra>",
           "hovertext": [
            "Tanzania",
            "Morocco",
            "Somalia",
            "Burundi",
            "Egypt",
            "Benin",
            "Sudan",
            "Congo",
            "Seychelles",
            "Cote d'Ivoire",
            "Botswana",
            "Mauritania",
            "South Africa",
            "Ghana",
            "Uganda",
            "Mali",
            "Comoros",
            "Democratic Republic of the Congo",
            "Guinea-Bissau",
            "Sierra Leone",
            "Djibouti",
            "Liberia",
            "Rwanda",
            "Kenya",
            "Zambia",
            "Cameroon",
            "Eritrea",
            "Zimbabwe",
            "Namibia",
            "Cabo Verde",
            "Algeria",
            "Angola",
            "Togo",
            "Nigeria",
            "Tunisia",
            "Madagascar",
            "Africa, regional",
            "Lesotho",
            "Guinea",
            "Equatorial Guinea",
            "Ethiopia",
            "Niger",
            "Central African Republic",
            "Mozambique",
            "Gabon",
            "Mauritius"
           ],
           "locationmode": "country names",
           "locations": [
            "Tanzania",
            "Morocco",
            "Somalia",
            "Burundi",
            "Egypt",
            "Benin",
            "Sudan",
            "Congo",
            "Seychelles",
            "Cote d'Ivoire",
            "Botswana",
            "Mauritania",
            "South Africa",
            "Ghana",
            "Uganda",
            "Mali",
            "Comoros",
            "Democratic Republic of the Congo",
            "Guinea-Bissau",
            "Sierra Leone",
            "Djibouti",
            "Liberia",
            "Rwanda",
            "Kenya",
            "Zambia",
            "Cameroon",
            "Eritrea",
            "Zimbabwe",
            "Namibia",
            "Cabo Verde",
            "Algeria",
            "Angola",
            "Togo",
            "Nigeria",
            "Tunisia",
            "Madagascar",
            "Africa, regional",
            "Lesotho",
            "Guinea",
            "Equatorial Guinea",
            "Ethiopia",
            "Niger",
            "Central African Republic",
            "Mozambique",
            "Gabon",
            "Mauritius"
           ],
           "name": "",
           "type": "choropleth",
           "z": [
            25995829.35088196,
            604089.054671673,
            136245.3432803004,
            9273847.348180493,
            13289959.202776821,
            2257398.839965247,
            396791256.1107318,
            3500000,
            120817.810934334,
            2416356.21868669,
            24590341.339953944,
            500000,
            73538636.4,
            2485356.21868669,
            7600000,
            14437728.406653,
            9098458.60688375,
            9665396.556716729,
            6341689.054671673,
            3000000,
            1738342.24233732,
            4212267.16401502,
            0,
            3513138.080720424,
            9453157.71073175,
            0,
            1812267.16401502,
            49562470.07060047,
            4887443.978952586,
            2500000,
            49208178.10934334,
            2434646085.52,
            17875957.150339562,
            2262000,
            63245707.66790548,
            14237619.30297939,
            120817.810934334,
            2416356.21868669,
            50326411.9363605,
            3761783.36125144,
            115796.464170483,
            60408.9054671673,
            2778809.651489694,
            3600000,
            17040890.54671673,
            4866640.364914053
           ]
          }
         ],
         "name": "2004"
        },
        {
         "data": [
          {
           "coloraxis": "coloraxis",
           "geo": "geo",
           "hovertemplate": "<b>%{hovertext}</b><br><br>Commitment Year=2005<br>Recipient=%{location}<br>Amount (Nominal USD)=%{z}<extra></extra>",
           "hovertext": [
            "Cote d'Ivoire",
            "Mali",
            "Zambia",
            "Senegal",
            "Mozambique",
            "Guinea",
            "Djibouti",
            "Democratic Republic of the Congo",
            "Madagascar",
            "Eritrea",
            "Seychelles",
            "Namibia",
            "Algeria",
            "Morocco",
            "Equatorial Guinea",
            "Togo",
            "Rwanda",
            "Tunisia",
            "Ethiopia",
            "Gabon",
            "Egypt",
            "Burundi",
            "Malawi",
            "Tanzania",
            "Botswana",
            "Sierra Leone",
            "South Africa",
            "Ghana",
            "Libya",
            "Angola",
            "Liberia",
            "Guinea-Bissau",
            "Mauritius",
            "Lesotho",
            "Cabo Verde",
            "Comoros",
            "Kenya",
            "Mauritania",
            "Nigeria",
            "Central African Republic",
            "Uganda",
            "Benin",
            "Zimbabwe",
            "Somalia",
            "Sudan",
            "Congo",
            "Niger",
            "Cameroon"
           ],
           "locationmode": "country names",
           "locations": [
            "Cote d'Ivoire",
            "Mali",
            "Zambia",
            "Senegal",
            "Mozambique",
            "Guinea",
            "Djibouti",
            "Democratic Republic of the Congo",
            "Madagascar",
            "Eritrea",
            "Seychelles",
            "Namibia",
            "Algeria",
            "Morocco",
            "Equatorial Guinea",
            "Togo",
            "Rwanda",
            "Tunisia",
            "Ethiopia",
            "Gabon",
            "Egypt",
            "Burundi",
            "Malawi",
            "Tanzania",
            "Botswana",
            "Sierra Leone",
            "South Africa",
            "Ghana",
            "Libya",
            "Angola",
            "Liberia",
            "Guinea-Bissau",
            "Mauritius",
            "Lesotho",
            "Cabo Verde",
            "Comoros",
            "Kenya",
            "Mauritania",
            "Nigeria",
            "Central African Republic",
            "Uganda",
            "Benin",
            "Zimbabwe",
            "Somalia",
            "Sudan",
            "Congo",
            "Niger",
            "Cameroon"
           ],
           "name": "",
           "type": "choropleth",
           "z": [
            0,
            12276659.57476404,
            16500000,
            51232497.77373572,
            7900000,
            67968500,
            0,
            1220454.87312643,
            6102274.36563215,
            7322729.23875858,
            10198404.588098193,
            36976103.873258285,
            30000000,
            2440909.74625286,
            9182702.465403259,
            8436649.046022087,
            0,
            18306823.09689643,
            5315899.778860248,
            366136.461937929,
            15868381.110397,
            10500000,
            250000,
            271570.525743256,
            3661364.61937929,
            12440909.74625286,
            59294117.64,
            5001022.743656321,
            0,
            1323901314.4129448,
            17247000,
            2319471.3806627635,
            6768191.786536873,
            15623144.193828411,
            3783410.10669193,
            3016961.5728995674,
            39838132.0554374,
            143000000,
            325664771.77408016,
            64887915.49407311,
            1283613.6461937928,
            83162201.99020451,
            102117276.36563215,
            9202274.36563215,
            1015090454.8731265,
            551507000,
            3945568.5641300427,
            0
           ]
          }
         ],
         "name": "2005"
        },
        {
         "data": [
          {
           "coloraxis": "coloraxis",
           "geo": "geo",
           "hovertemplate": "<b>%{hovertext}</b><br><br>Commitment Year=2006<br>Recipient=%{location}<br>Amount (Nominal USD)=%{z}<extra></extra>",
           "hovertext": [
            "Uganda",
            "Guinea-Bissau",
            "Democratic Republic of the Congo",
            "Equatorial Guinea",
            "Ghana",
            "Egypt",
            "Kenya",
            "Gabon",
            "Sierra Leone",
            "Africa, regional",
            "Lesotho",
            "Togo",
            "Sudan",
            "Botswana",
            "Tanzania",
            "Chad",
            "Djibouti",
            "Ethiopia",
            "Congo",
            "Central African Republic",
            "South Africa",
            "Mauritania",
            "Burundi",
            "Benin",
            "Seychelles",
            "Rwanda",
            "Zimbabwe",
            "Zambia",
            "Mozambique",
            "Eritrea",
            "Nigeria",
            "Cote d'Ivoire",
            "Senegal",
            "Niger",
            "Madagascar",
            "Mauritius",
            "Liberia",
            "Mali",
            "Comoros",
            "Guinea",
            "Morocco",
            "Tunisia",
            "Cabo Verde",
            "Angola",
            "Namibia",
            "Cameroon"
           ],
           "locationmode": "country names",
           "locations": [
            "Uganda",
            "Guinea-Bissau",
            "Democratic Republic of the Congo",
            "Equatorial Guinea",
            "Ghana",
            "Egypt",
            "Kenya",
            "Gabon",
            "Sierra Leone",
            "Africa, regional",
            "Lesotho",
            "Togo",
            "Sudan",
            "Botswana",
            "Tanzania",
            "Chad",
            "Djibouti",
            "Ethiopia",
            "Congo",
            "Central African Republic",
            "South Africa",
            "Mauritania",
            "Burundi",
            "Benin",
            "Seychelles",
            "Rwanda",
            "Zimbabwe",
            "Zambia",
            "Mozambique",
            "Eritrea",
            "Nigeria",
            "Cote d'Ivoire",
            "Senegal",
            "Niger",
            "Madagascar",
            "Mauritius",
            "Liberia",
            "Mali",
            "Comoros",
            "Guinea",
            "Morocco",
            "Tunisia",
            "Cabo Verde",
            "Angola",
            "Namibia",
            "Cameroon"
           ],
           "name": "",
           "type": "choropleth",
           "z": [
            21482953.060482766,
            400000,
            205278537.1345456,
            2077120000,
            222750866.25755638,
            10661815.94614552,
            69816172.71309045,
            8780319.01447278,
            5090313.371955301,
            224660327.67840987,
            4930052.759300251,
            43268482.2486295,
            449761769.2892587,
            26924969.3167274,
            26003295.229352668,
            0,
            18290000,
            548726644.7263952,
            1989757165.2607584,
            17910957.294955373,
            2508662.57556365,
            2884961.9618981984,
            8225987.72669096,
            7517052.781000552,
            120491.39437051129,
            35840676.067047305,
            327029344.7701093,
            240548787.72211283,
            20000,
            20821899.3771783,
            425644490.7950182,
            40644501.33059126,
            92169704.47013208,
            35434858.87983655,
            31394657.80189129,
            26892305.88804409,
            63205433.12877818,
            7525987.72669096,
            1379764.41656,
            19742248.592154775,
            8772076.20369646,
            61084201.19986215,
            2608966.41873896,
            1208134483.1263347,
            2510418.639366545,
            934334.0770812157
           ]
          }
         ],
         "name": "2006"
        },
        {
         "data": [
          {
           "coloraxis": "coloraxis",
           "geo": "geo",
           "hovertemplate": "<b>%{hovertext}</b><br><br>Commitment Year=2007<br>Recipient=%{location}<br>Amount (Nominal USD)=%{z}<extra></extra>",
           "hovertext": [
            "Ethiopia",
            "Central African Republic",
            "Gabon",
            "Egypt",
            "Eritrea",
            "Sierra Leone",
            "Zimbabwe",
            "Mauritius",
            "Equatorial Guinea",
            "Somalia",
            "Seychelles",
            "Togo",
            "Namibia",
            "Zambia",
            "Kenya",
            "Algeria",
            "Cameroon",
            "Congo",
            "Botswana",
            "Mauritania",
            "Ghana",
            "Benin",
            "Angola",
            "Cabo Verde",
            "Tunisia",
            "Nigeria",
            "Mali",
            "Liberia",
            "Cote d'Ivoire",
            "Comoros",
            "Sudan",
            "Mozambique",
            "Niger",
            "Senegal",
            "Guinea",
            "Democratic Republic of the Congo",
            "Guinea-Bissau",
            "Madagascar",
            "Burundi",
            "Tanzania",
            "South Sudan",
            "Uganda",
            "Lesotho",
            "Africa, regional",
            "Rwanda",
            "Malawi",
            "South Africa",
            "Chad",
            "Djibouti"
           ],
           "locationmode": "country names",
           "locations": [
            "Ethiopia",
            "Central African Republic",
            "Gabon",
            "Egypt",
            "Eritrea",
            "Sierra Leone",
            "Zimbabwe",
            "Mauritius",
            "Equatorial Guinea",
            "Somalia",
            "Seychelles",
            "Togo",
            "Namibia",
            "Zambia",
            "Kenya",
            "Algeria",
            "Cameroon",
            "Congo",
            "Botswana",
            "Mauritania",
            "Ghana",
            "Benin",
            "Angola",
            "Cabo Verde",
            "Tunisia",
            "Nigeria",
            "Mali",
            "Liberia",
            "Cote d'Ivoire",
            "Comoros",
            "Sudan",
            "Mozambique",
            "Niger",
            "Senegal",
            "Guinea",
            "Democratic Republic of the Congo",
            "Guinea-Bissau",
            "Madagascar",
            "Burundi",
            "Tanzania",
            "South Sudan",
            "Uganda",
            "Lesotho",
            "Africa, regional",
            "Rwanda",
            "Malawi",
            "South Africa",
            "Chad",
            "Djibouti"
           ],
           "name": "",
           "type": "choropleth",
           "z": [
            1651391808.2999043,
            22162314.300885838,
            3984635.6456751404,
            206992570.74976104,
            142925132.82047606,
            39205921.3305421,
            315269732.67612994,
            44700281.09837502,
            591889976.5091308,
            1632000,
            50528779.241210245,
            23145228.63503185,
            452610273.66947514,
            102976253.93887201,
            181355345.02645293,
            513147.141499522,
            124446194.14566624,
            609173063.9153999,
            19607364.16884495,
            57000000,
            362042062,
            21035426.3992353,
            4672115940.119752,
            29662143.82211928,
            5390328.014804039,
            13073407.21316156,
            102825063.9658063,
            11649184.61461282,
            39972109.07395453,
            3606785.37488051,
            1326075253.9436433,
            306819231.3309423,
            5587535.137296871,
            130885991.94745722,
            27286258.9499522,
            314060627.5267564,
            77225496.6893188,
            132025686.43314078,
            34477964.6537717,
            4513044.73741436,
            394414.244985662,
            103276754.26833713,
            10724305.30014896,
            0,
            34193602.75584771,
            50000000,
            4341185.305917622,
            483798987.6456508,
            7501642.27427226
           ]
          }
         ],
         "name": "2007"
        },
        {
         "data": [
          {
           "coloraxis": "coloraxis",
           "geo": "geo",
           "hovertemplate": "<b>%{hovertext}</b><br><br>Commitment Year=2008<br>Recipient=%{location}<br>Amount (Nominal USD)=%{z}<extra></extra>",
           "hovertext": [
            "Mozambique",
            "Morocco",
            "Algeria",
            "South Sudan",
            "Gabon",
            "Guinea",
            "Rwanda",
            "Sudan",
            "Ethiopia",
            "Tanzania",
            "Guinea-Bissau",
            "Seychelles",
            "Benin",
            "Sierra Leone",
            "Lesotho",
            "Liberia",
            "Kenya",
            "Africa, regional",
            "Ghana",
            "Botswana",
            "Cote d'Ivoire",
            "Malawi",
            "Djibouti",
            "Burundi",
            "Nigeria",
            "Democratic Republic of the Congo",
            "Angola",
            "Tunisia",
            "Mali",
            "Congo",
            "South Africa",
            "Niger",
            "Cabo Verde",
            "Zimbabwe",
            "Chad",
            "Uganda",
            "Mauritania",
            "Central African Republic",
            "Somalia",
            "Mauritius",
            "Cameroon",
            "Comoros",
            "Egypt",
            "Togo",
            "Equatorial Guinea",
            "Eritrea",
            "Namibia",
            "Madagascar",
            "Zambia"
           ],
           "locationmode": "country names",
           "locations": [
            "Mozambique",
            "Morocco",
            "Algeria",
            "South Sudan",
            "Gabon",
            "Guinea",
            "Rwanda",
            "Sudan",
            "Ethiopia",
            "Tanzania",
            "Guinea-Bissau",
            "Seychelles",
            "Benin",
            "Sierra Leone",
            "Lesotho",
            "Liberia",
            "Kenya",
            "Africa, regional",
            "Ghana",
            "Botswana",
            "Cote d'Ivoire",
            "Malawi",
            "Djibouti",
            "Burundi",
            "Nigeria",
            "Democratic Republic of the Congo",
            "Angola",
            "Tunisia",
            "Mali",
            "Congo",
            "South Africa",
            "Niger",
            "Cabo Verde",
            "Zimbabwe",
            "Chad",
            "Uganda",
            "Mauritania",
            "Central African Republic",
            "Somalia",
            "Mauritius",
            "Cameroon",
            "Comoros",
            "Egypt",
            "Togo",
            "Equatorial Guinea",
            "Eritrea",
            "Namibia",
            "Madagascar",
            "Zambia"
           ],
           "name": "",
           "type": "choropleth",
           "z": [
            70732597.5174548,
            520718982.85977393,
            0,
            1419413.107471742,
            374316478.64483047,
            10000000,
            1598567.81293597,
            3843981280.3799076,
            238323482.5653097,
            118902461.04421291,
            30600000,
            16737201.177479971,
            28776524.29886964,
            0,
            36702733.52988697,
            25430131.07471742,
            184118145.49935785,
            50000000,
            980210763.6848032,
            7765778.973434666,
            93404405.62597856,
            71007178.35046043,
            45935868.421052724,
            16939027.392423533,
            628922209.8087213,
            6338511331.679703,
            265348686.6,
            0,
            95342530.18626995,
            113726625.54120052,
            0,
            891726433.6517893,
            29642453.50189557,
            148287134.0184175,
            0,
            15564560.84118421,
            688468158.347676,
            20060906.089156102,
            1500000,
            11481833.195249,
            27411597.06162137,
            1007178.35046043,
            1510116.6814164969,
            16175262.556057725,
            119316143.21401635,
            0,
            50849941.745318845,
            2693603,
            315000000
           ]
          }
         ],
         "name": "2008"
        },
        {
         "data": [
          {
           "coloraxis": "coloraxis",
           "geo": "geo",
           "hovertemplate": "<b>%{hovertext}</b><br><br>Commitment Year=2009<br>Recipient=%{location}<br>Amount (Nominal USD)=%{z}<extra></extra>",
           "hovertext": [
            "Sudan",
            "Senegal",
            "Guinea",
            "Zambia",
            "Congo",
            "Sierra Leone",
            "Africa, regional",
            "Comoros",
            "Togo",
            "Rwanda",
            "Mozambique",
            "Cote d'Ivoire",
            "Ghana",
            "Mali",
            "Tunisia",
            "Lesotho",
            "Benin",
            "Cameroon",
            "Mauritius",
            "Kenya",
            "Somalia",
            "Madagascar",
            "Central African Republic",
            "Mauritania",
            "Uganda",
            "Chad",
            "Niger",
            "Algeria",
            "Guinea-Bissau",
            "Zimbabwe",
            "Cabo Verde",
            "Equatorial Guinea",
            "Angola",
            "Namibia",
            "Eritrea",
            "Djibouti",
            "Gabon",
            "Nigeria",
            "South Sudan",
            "Egypt",
            "Morocco",
            "South Africa",
            "Malawi",
            "Botswana",
            "Ethiopia",
            "Tanzania",
            "Democratic Republic of the Congo",
            "Liberia",
            "Seychelles",
            "Libya",
            "Burundi"
           ],
           "locationmode": "country names",
           "locations": [
            "Sudan",
            "Senegal",
            "Guinea",
            "Zambia",
            "Congo",
            "Sierra Leone",
            "Africa, regional",
            "Comoros",
            "Togo",
            "Rwanda",
            "Mozambique",
            "Cote d'Ivoire",
            "Ghana",
            "Mali",
            "Tunisia",
            "Lesotho",
            "Benin",
            "Cameroon",
            "Mauritius",
            "Kenya",
            "Somalia",
            "Madagascar",
            "Central African Republic",
            "Mauritania",
            "Uganda",
            "Chad",
            "Niger",
            "Algeria",
            "Guinea-Bissau",
            "Zimbabwe",
            "Cabo Verde",
            "Equatorial Guinea",
            "Angola",
            "Namibia",
            "Eritrea",
            "Djibouti",
            "Gabon",
            "Nigeria",
            "South Sudan",
            "Egypt",
            "Morocco",
            "South Africa",
            "Malawi",
            "Botswana",
            "Ethiopia",
            "Tanzania",
            "Democratic Republic of the Congo",
            "Liberia",
            "Seychelles",
            "Libya",
            "Burundi"
           ],
           "name": "",
           "type": "choropleth",
           "z": [
            2001678130.0754933,
            20000000,
            0,
            172433215.96825778,
            17954279.01875206,
            0,
            307500000,
            11070766.0676552,
            431280385.0235629,
            96710192.157554,
            2414550000,
            21954164.94548371,
            214023752.21678144,
            22730358.050885737,
            89224292.95723423,
            5939.07503453293,
            19066820.37684738,
            213003865.9095117,
            1131733657.7807477,
            195290228.7035295,
            646380.617052165,
            7237242,
            7015912.90894878,
            325268459.0910678,
            73161575.40823619,
            29861645.8786416,
            196014447.69224888,
            1389191.80988076,
            9069680,
            995409643.1936516,
            24425329.5931407,
            969318269.9670242,
            9758544095.124367,
            19257531.921829745,
            13929338,
            12588733.066486198,
            130873750.42340325,
            14070394.791124374,
            1858873.30664862,
            122333764.96760847,
            2699414.64660393,
            1121631191.8192024,
            95019162.76879999,
            969453962.3824712,
            1180643066.2559817,
            933794313.7189591,
            206259361.98329526,
            17926987.527184945,
            6025000,
            300000000,
            7811792.08671258
           ]
          }
         ],
         "name": "2009"
        },
        {
         "data": [
          {
           "coloraxis": "coloraxis",
           "geo": "geo",
           "hovertemplate": "<b>%{hovertext}</b><br><br>Commitment Year=2010<br>Recipient=%{location}<br>Amount (Nominal USD)=%{z}<extra></extra>",
           "hovertext": [
            "Uganda",
            "Mauritius",
            "Cabo Verde",
            "Equatorial Guinea",
            "Senegal",
            "Libya",
            "Guinea-Bissau",
            "Cameroon",
            "Egypt",
            "Niger",
            "Zimbabwe",
            "Chad",
            "South Africa",
            "Zambia",
            "Seychelles",
            "Gabon",
            "Mauritania",
            "Central African Republic",
            "Kenya",
            "Madagascar",
            "Botswana",
            "Tanzania",
            "Algeria",
            "Democratic Republic of the Congo",
            "Togo",
            "Morocco",
            "Angola",
            "Liberia",
            "Ghana",
            "Cote d'Ivoire",
            "Burundi",
            "Eritrea",
            "Mozambique",
            "Rwanda",
            "Namibia",
            "Tunisia",
            "South Sudan",
            "Ethiopia",
            "Benin",
            "Mali",
            "Sierra Leone",
            "Africa, regional",
            "Sudan",
            "Lesotho",
            "Congo",
            "Comoros",
            "Malawi",
            "Nigeria"
           ],
           "locationmode": "country names",
           "locations": [
            "Uganda",
            "Mauritius",
            "Cabo Verde",
            "Equatorial Guinea",
            "Senegal",
            "Libya",
            "Guinea-Bissau",
            "Cameroon",
            "Egypt",
            "Niger",
            "Zimbabwe",
            "Chad",
            "South Africa",
            "Zambia",
            "Seychelles",
            "Gabon",
            "Mauritania",
            "Central African Republic",
            "Kenya",
            "Madagascar",
            "Botswana",
            "Tanzania",
            "Algeria",
            "Democratic Republic of the Congo",
            "Togo",
            "Morocco",
            "Angola",
            "Liberia",
            "Ghana",
            "Cote d'Ivoire",
            "Burundi",
            "Eritrea",
            "Mozambique",
            "Rwanda",
            "Namibia",
            "Tunisia",
            "South Sudan",
            "Ethiopia",
            "Benin",
            "Mali",
            "Sierra Leone",
            "Africa, regional",
            "Sudan",
            "Lesotho",
            "Congo",
            "Comoros",
            "Malawi",
            "Nigeria"
           ],
           "name": "",
           "type": "choropleth",
           "z": [
            3658733.6850979105,
            2531.19069797439,
            0,
            2405062219.312403,
            104222028.71393348,
            0,
            15478356.06636618,
            116822560.49792358,
            1100000,
            2280143.486893329,
            386850496.07203066,
            0,
            386164213.8468607,
            252748943.03999078,
            8236955.026699901,
            151781550.004628,
            109763638.98920181,
            31641607.894497488,
            183769552.16987094,
            3638258.509851668,
            5909213.40453308,
            252666507.38678235,
            47273707.2362646,
            307236223.86566633,
            58564332.13774782,
            0,
            3641699976.8136945,
            16606050.015427016,
            11223716666,
            87456358.3870894,
            13218426.80906616,
            66000000,
            93633934.4667186,
            11909213.404533079,
            1559266.1885970028,
            2954606.70226654,
            0,
            1381363025.442243,
            32500673.7249319,
            163980671.97579208,
            9000000,
            10152506.05929447,
            640512788.0961196,
            12170696.4739528,
            253436170.95066497,
            37270929.97839191,
            61056733.10352344,
            24119600000
           ]
          }
         ],
         "name": "2010"
        },
        {
         "data": [
          {
           "coloraxis": "coloraxis",
           "geo": "geo",
           "hovertemplate": "<b>%{hovertext}</b><br><br>Commitment Year=2011<br>Recipient=%{location}<br>Amount (Nominal USD)=%{z}<extra></extra>",
           "hovertext": [
            "Mali",
            "Libya",
            "South Africa",
            "Zimbabwe",
            "Angola",
            "Liberia",
            "Africa, regional",
            "Nigeria",
            "Somalia",
            "Malawi",
            "Morocco",
            "Seychelles",
            "South Sudan",
            "Madagascar",
            "Lesotho",
            "Mauritania",
            "Guinea-Bissau",
            "Mozambique",
            "Mauritius",
            "Botswana",
            "Cabo Verde",
            "Ethiopia",
            "Ghana",
            "Rwanda",
            "Congo",
            "Zambia",
            "Djibouti",
            "Tunisia",
            "Cote d'Ivoire",
            "Democratic Republic of the Congo",
            "Burundi",
            "Gabon",
            "Sierra Leone",
            "Chad",
            "Senegal",
            "Tanzania",
            "Benin",
            "Namibia",
            "Guinea",
            "Togo",
            "Cameroon",
            "Central African Republic",
            "Egypt",
            "Uganda",
            "Sudan",
            "Equatorial Guinea",
            "Niger",
            "Kenya",
            "Eritrea",
            "Algeria"
           ],
           "locationmode": "country names",
           "locations": [
            "Mali",
            "Libya",
            "South Africa",
            "Zimbabwe",
            "Angola",
            "Liberia",
            "Africa, regional",
            "Nigeria",
            "Somalia",
            "Malawi",
            "Morocco",
            "Seychelles",
            "South Sudan",
            "Madagascar",
            "Lesotho",
            "Mauritania",
            "Guinea-Bissau",
            "Mozambique",
            "Mauritius",
            "Botswana",
            "Cabo Verde",
            "Ethiopia",
            "Ghana",
            "Rwanda",
            "Congo",
            "Zambia",
            "Djibouti",
            "Tunisia",
            "Cote d'Ivoire",
            "Democratic Republic of the Congo",
            "Burundi",
            "Gabon",
            "Sierra Leone",
            "Chad",
            "Senegal",
            "Tanzania",
            "Benin",
            "Namibia",
            "Guinea",
            "Togo",
            "Cameroon",
            "Central African Republic",
            "Egypt",
            "Uganda",
            "Sudan",
            "Equatorial Guinea",
            "Niger",
            "Kenya",
            "Eritrea",
            "Algeria"
           ],
           "name": "",
           "type": "choropleth",
           "z": [
            164148310.02490702,
            3093792.04372507,
            497625000,
            1756993458.9593573,
            2256044620.1244264,
            41714507.01729672,
            228585397.8486148,
            0,
            15963966.9456213,
            83573036.10253786,
            237483463.1897156,
            49099014.0748584,
            39797920.4372507,
            2322413,
            47115934.69166634,
            69610320.983814,
            695846.915626986,
            183418598.40735686,
            17894652.12570958,
            3064751.179826288,
            17047861.29302647,
            1656640632.9592357,
            3240508449.0712824,
            15468960.21862536,
            186932355.3191706,
            749433722.3116335,
            9281376.1311752,
            12874679.03369362,
            147791393.64811677,
            1290383124.2190652,
            86976198.736683,
            266667902.808693,
            43393088.6121509,
            2541689893.237215,
            84412309.8934069,
            296705095.48525673,
            41559041.28570842,
            20428785.762448497,
            39136469.35312203,
            84596791.82868126,
            584573289.4835418,
            94153000.697645,
            22817828.492947936,
            574060867.6834143,
            267760661.5522833,
            385116993.31635296,
            321288829.4471423,
            425857301.08026785,
            123000000,
            0
           ]
          }
         ],
         "name": "2011"
        },
        {
         "data": [
          {
           "coloraxis": "coloraxis",
           "geo": "geo",
           "hovertemplate": "<b>%{hovertext}</b><br><br>Commitment Year=2012<br>Recipient=%{location}<br>Amount (Nominal USD)=%{z}<extra></extra>",
           "hovertext": [
            "South Africa",
            "Namibia",
            "Egypt",
            "Djibouti",
            "Seychelles",
            "Algeria",
            "Democratic Republic of the Congo",
            "Malawi",
            "Togo",
            "Cote d'Ivoire",
            "Cameroon",
            "Africa, regional",
            "Zimbabwe",
            "Uganda",
            "Senegal",
            "Mauritania",
            "Central African Republic",
            "Niger",
            "Chad",
            "Cabo Verde",
            "Comoros",
            "Nigeria",
            "Mali",
            "Congo",
            "Tunisia",
            "Burundi",
            "Equatorial Guinea",
            "Mauritius",
            "Rwanda",
            "Tanzania",
            "South Sudan",
            "Ethiopia",
            "Sudan",
            "Mozambique",
            "Lesotho",
            "Morocco",
            "Guinea-Bissau",
            "Guinea",
            "Angola",
            "Benin",
            "Liberia",
            "Kenya",
            "Eritrea",
            "Madagascar",
            "Zambia",
            "Sierra Leone",
            "Ghana",
            "Botswana"
           ],
           "locationmode": "country names",
           "locations": [
            "South Africa",
            "Namibia",
            "Egypt",
            "Djibouti",
            "Seychelles",
            "Algeria",
            "Democratic Republic of the Congo",
            "Malawi",
            "Togo",
            "Cote d'Ivoire",
            "Cameroon",
            "Africa, regional",
            "Zimbabwe",
            "Uganda",
            "Senegal",
            "Mauritania",
            "Central African Republic",
            "Niger",
            "Chad",
            "Cabo Verde",
            "Comoros",
            "Nigeria",
            "Mali",
            "Congo",
            "Tunisia",
            "Burundi",
            "Equatorial Guinea",
            "Mauritius",
            "Rwanda",
            "Tanzania",
            "South Sudan",
            "Ethiopia",
            "Sudan",
            "Mozambique",
            "Lesotho",
            "Morocco",
            "Guinea-Bissau",
            "Guinea",
            "Angola",
            "Benin",
            "Liberia",
            "Kenya",
            "Eritrea",
            "Madagascar",
            "Zambia",
            "Sierra Leone",
            "Ghana",
            "Botswana"
           ],
           "name": "",
           "type": "choropleth",
           "z": [
            635325000,
            1445407987.2617028,
            455115548.6425634,
            89290746.70083468,
            17129549.83008847,
            15851304.6480012,
            94211428.82,
            229500000,
            255951122.17044967,
            170447320.58239385,
            916795196.3687325,
            193823307.4096128,
            1315760122.2236946,
            20045975.978347413,
            225093352.08431727,
            1552087.03542644,
            66599523.025538,
            12922194.086506639,
            113810749.61264062,
            95899676.05702701,
            14988758.512082925,
            732174015.5974709,
            47082106.27076021,
            2216212122.4015493,
            16926491.33851444,
            26592422.23892212,
            504000000,
            125534159.35596491,
            210683307.40961277,
            1752659452.605793,
            6000000,
            286335349.5444212,
            3530183884.9440036,
            1535149402.376373,
            45343102.1599792,
            0,
            0,
            702000000,
            1875566304.6480012,
            110485371.54123884,
            58540142.6200031,
            1433009107.990316,
            165203219.282408,
            14875644,
            22085980.77120338,
            1215534278.5550413,
            1353272702.2194319,
            513627149.070228
           ]
          }
         ],
         "name": "2012"
        },
        {
         "data": [
          {
           "coloraxis": "coloraxis",
           "geo": "geo",
           "hovertemplate": "<b>%{hovertext}</b><br><br>Commitment Year=2013<br>Recipient=%{location}<br>Amount (Nominal USD)=%{z}<extra></extra>",
           "hovertext": [
            "Morocco",
            "Sudan",
            "Ghana",
            "Benin",
            "South Sudan",
            "Central African Republic",
            "Chad",
            "Madagascar",
            "Lesotho",
            "Comoros",
            "Niger",
            "Nigeria",
            "Somalia",
            "Guinea",
            "Guinea-Bissau",
            "Mauritius",
            "Uganda",
            "Senegal",
            "Cameroon",
            "Kenya",
            "Africa, regional",
            "Mauritania",
            "Cabo Verde",
            "Algeria",
            "Seychelles",
            "Equatorial Guinea",
            "Sao Tome and Principe",
            "Zambia",
            "Egypt",
            "Eritrea",
            "Botswana",
            "Togo",
            "Namibia",
            "Angola",
            "Malawi",
            "Djibouti",
            "South Africa",
            "Tunisia",
            "Ethiopia",
            "Libya",
            "Tanzania",
            "Mali",
            "Rwanda",
            "Congo",
            "Liberia",
            "Mozambique",
            "Cote d'Ivoire",
            "Democratic Republic of the Congo",
            "Sierra Leone",
            "Zimbabwe",
            "Burundi",
            "Gabon"
           ],
           "locationmode": "country names",
           "locations": [
            "Morocco",
            "Sudan",
            "Ghana",
            "Benin",
            "South Sudan",
            "Central African Republic",
            "Chad",
            "Madagascar",
            "Lesotho",
            "Comoros",
            "Niger",
            "Nigeria",
            "Somalia",
            "Guinea",
            "Guinea-Bissau",
            "Mauritius",
            "Uganda",
            "Senegal",
            "Cameroon",
            "Kenya",
            "Africa, regional",
            "Mauritania",
            "Cabo Verde",
            "Algeria",
            "Seychelles",
            "Equatorial Guinea",
            "Sao Tome and Principe",
            "Zambia",
            "Egypt",
            "Eritrea",
            "Botswana",
            "Togo",
            "Namibia",
            "Angola",
            "Malawi",
            "Djibouti",
            "South Africa",
            "Tunisia",
            "Ethiopia",
            "Libya",
            "Tanzania",
            "Mali",
            "Rwanda",
            "Congo",
            "Liberia",
            "Mozambique",
            "Cote d'Ivoire",
            "Democratic Republic of the Congo",
            "Sierra Leone",
            "Zimbabwe",
            "Burundi",
            "Gabon"
           ],
           "name": "",
           "type": "choropleth",
           "z": [
            9758181.47378365,
            50074728.24253127,
            280370109.21796566,
            545833858.8757284,
            468050000,
            0,
            204400000,
            19516362.9475673,
            0,
            16803459.707363736,
            1404902492.5401452,
            8785332559.280052,
            0,
            420650000,
            8417080,
            8302586.070610925,
            8131817.89481971,
            157155904.65135434,
            1025478824.5928193,
            460342411.2965491,
            99631679.233734,
            542224541.2643677,
            26415397.24953232,
            0,
            4971002.58985949,
            407556337.8180853,
            0,
            734538724.3208736,
            24395453.6844591,
            107000000,
            13510908.6317115,
            37650316.8530152,
            104702525.84419091,
            4680139184.529279,
            72276487.16973644,
            880266936.438819,
            6617966408.465127,
            35777391.1012292,
            8246715828.117319,
            0,
            424116086.39409167,
            426277298.5068893,
            18124689.723223,
            2015506622.6580684,
            535850000,
            967214819.008145,
            544380407.8472129,
            18733669.83481971,
            90477974.8065303,
            1778784102.4737835,
            15630545.431585576,
            683318805.2977715
           ]
          }
         ],
         "name": "2013"
        },
        {
         "data": [
          {
           "coloraxis": "coloraxis",
           "geo": "geo",
           "hovertemplate": "<b>%{hovertext}</b><br><br>Commitment Year=2014<br>Recipient=%{location}<br>Amount (Nominal USD)=%{z}<extra></extra>",
           "hovertext": [
            "Morocco",
            "Sierra Leone",
            "Niger",
            "Mauritius",
            "Mozambique",
            "Algeria",
            "Namibia",
            "Zimbabwe",
            "Benin",
            "Somalia",
            "Sudan",
            "Ghana",
            "Rwanda",
            "Gabon",
            "Nigeria",
            "Ethiopia",
            "Botswana",
            "Tanzania",
            "Eritrea",
            "Zambia",
            "Equatorial Guinea",
            "Egypt",
            "Guinea",
            "Togo",
            "Democratic Republic of the Congo",
            "Burundi",
            "Cote d'Ivoire",
            "Congo",
            "Tunisia",
            "Comoros",
            "Chad",
            "Central African Republic",
            "Cabo Verde",
            "Uganda",
            "Cameroon",
            "Senegal",
            "Djibouti",
            "Guinea-Bissau",
            "Africa, regional",
            "Kenya",
            "Mauritania",
            "Seychelles",
            "Mali",
            "Malawi",
            "Angola",
            "South Africa",
            "Liberia",
            "South Sudan",
            "Lesotho",
            "Madagascar"
           ],
           "locationmode": "country names",
           "locations": [
            "Morocco",
            "Sierra Leone",
            "Niger",
            "Mauritius",
            "Mozambique",
            "Algeria",
            "Namibia",
            "Zimbabwe",
            "Benin",
            "Somalia",
            "Sudan",
            "Ghana",
            "Rwanda",
            "Gabon",
            "Nigeria",
            "Ethiopia",
            "Botswana",
            "Tanzania",
            "Eritrea",
            "Zambia",
            "Equatorial Guinea",
            "Egypt",
            "Guinea",
            "Togo",
            "Democratic Republic of the Congo",
            "Burundi",
            "Cote d'Ivoire",
            "Congo",
            "Tunisia",
            "Comoros",
            "Chad",
            "Central African Republic",
            "Cabo Verde",
            "Uganda",
            "Cameroon",
            "Senegal",
            "Djibouti",
            "Guinea-Bissau",
            "Africa, regional",
            "Kenya",
            "Mauritania",
            "Seychelles",
            "Mali",
            "Malawi",
            "Angola",
            "South Africa",
            "Liberia",
            "South Sudan",
            "Lesotho",
            "Madagascar"
           ],
           "name": "",
           "type": "choropleth",
           "z": [
            406291665.6122522,
            21595721.049027517,
            105725224.173288,
            36713628.91004008,
            666219650.3583667,
            0,
            157931686.5542125,
            445670093.1286466,
            7902286.620165839,
            40000,
            1896074484.5972776,
            173960563.546142,
            54738545.578911155,
            0,
            2706454781.921475,
            2139360763.8221555,
            8134401.380024568,
            800321033.8892052,
            127813628.9100401,
            826357524.6919589,
            100000,
            48795256.96790552,
            222985277.32228023,
            198789364.8545084,
            243024070.51194555,
            57715768.128134534,
            979519673.1956542,
            442974521.75804573,
            53567154.88736415,
            33960843.60792161,
            0,
            0,
            177100000,
            1272715475.3600001,
            608295960.8881465,
            97196697.91402361,
            36500000,
            20162297.93838911,
            2282530084.342935,
            3745168872.8764787,
            45143346.0711289,
            0,
            1804427186.2364507,
            42515037.180090696,
            4528399493.188477,
            197000000,
            112935211.50967184,
            1442253445.0048513,
            12545630.6374783,
            0
           ]
          }
         ],
         "name": "2014"
        },
        {
         "data": [
          {
           "coloraxis": "coloraxis",
           "geo": "geo",
           "hovertemplate": "<b>%{hovertext}</b><br><br>Commitment Year=2015<br>Recipient=%{location}<br>Amount (Nominal USD)=%{z}<extra></extra>",
           "hovertext": [
            "Rwanda",
            "Seychelles",
            "Malawi",
            "Burundi",
            "Cote d'Ivoire",
            "Zimbabwe",
            "Kenya",
            "Congo",
            "Mali",
            "Algeria",
            "Tunisia",
            "Comoros",
            "Guinea",
            "Chad",
            "Central African Republic",
            "Uganda",
            "Mauritania",
            "Cabo Verde",
            "Niger",
            "Nigeria",
            "Cameroon",
            "Africa, regional",
            "Somalia",
            "Mauritius",
            "Democratic Republic of the Congo",
            "Sierra Leone",
            "Togo",
            "Madagascar",
            "Gabon",
            "Mozambique",
            "Lesotho",
            "Senegal",
            "Morocco",
            "Ghana",
            "Angola",
            "Sudan",
            "Tanzania",
            "Namibia",
            "Liberia",
            "Eritrea",
            "Zambia",
            "South Africa",
            "Equatorial Guinea",
            "South Sudan",
            "Sao Tome and Principe",
            "Egypt",
            "Benin",
            "Guinea-Bissau",
            "Djibouti",
            "Botswana",
            "Ethiopia"
           ],
           "locationmode": "country names",
           "locations": [
            "Rwanda",
            "Seychelles",
            "Malawi",
            "Burundi",
            "Cote d'Ivoire",
            "Zimbabwe",
            "Kenya",
            "Congo",
            "Mali",
            "Algeria",
            "Tunisia",
            "Comoros",
            "Guinea",
            "Chad",
            "Central African Republic",
            "Uganda",
            "Mauritania",
            "Cabo Verde",
            "Niger",
            "Nigeria",
            "Cameroon",
            "Africa, regional",
            "Somalia",
            "Mauritius",
            "Democratic Republic of the Congo",
            "Sierra Leone",
            "Togo",
            "Madagascar",
            "Gabon",
            "Mozambique",
            "Lesotho",
            "Senegal",
            "Morocco",
            "Ghana",
            "Angola",
            "Sudan",
            "Tanzania",
            "Namibia",
            "Liberia",
            "Eritrea",
            "Zambia",
            "South Africa",
            "Equatorial Guinea",
            "South Sudan",
            "Sao Tome and Principe",
            "Egypt",
            "Benin",
            "Guinea-Bissau",
            "Djibouti",
            "Botswana",
            "Ethiopia"
           ],
           "name": "",
           "type": "choropleth",
           "z": [
            0,
            262738.203052806,
            904713380.6730236,
            948235.45984023,
            813605183.3383999,
            2486210316.8364305,
            2498842977.01262,
            8000000,
            13706502.1966852,
            0,
            57680346.59589423,
            150065040.41734177,
            79671537.99369167,
            2190759.99661848,
            24132798.890614368,
            1149628435.7359142,
            79989070.43444191,
            15376623.589042423,
            139119722.35460865,
            130537.22142821,
            2171440706.6248255,
            366477500.4551348,
            2060000,
            22200975.63151443,
            622120265.35,
            329137887.617766,
            82238262.43215823,
            5691373.818738332,
            1333947347.1884584,
            6381457.76357292,
            21773789.30556159,
            2518157218.3136163,
            9909644.663196132,
            116317166.76755247,
            17430036105.001873,
            35400439.6424421,
            333240309.8761675,
            537000000,
            69700522.09182477,
            97454599.456215,
            1356478191.0390239,
            2207816023.390356,
            3333033662,
            1992208989.4684584,
            0,
            154772997.281075,
            290223555.0471064,
            6418255.707160364,
            24420139,
            14728972.14359753,
            2242114483.1358023
           ]
          }
         ],
         "name": "2015"
        },
        {
         "data": [
          {
           "coloraxis": "coloraxis",
           "geo": "geo",
           "hovertemplate": "<b>%{hovertext}</b><br><br>Commitment Year=2016<br>Recipient=%{location}<br>Amount (Nominal USD)=%{z}<extra></extra>",
           "hovertext": [
            "Nigeria",
            "Sao Tome and Principe",
            "Rwanda",
            "Uganda",
            "Ghana",
            "Seychelles",
            "Benin",
            "Zambia",
            "Gambia",
            "Gabon",
            "Ethiopia",
            "Tanzania",
            "Eritrea",
            "Botswana",
            "Equatorial Guinea",
            "Egypt",
            "Djibouti",
            "Togo",
            "Democratic Republic of the Congo",
            "Cote d'Ivoire",
            "Burundi",
            "Congo",
            "Tunisia",
            "Comoros",
            "Chad",
            "Central African Republic",
            "Cabo Verde",
            "Cameroon",
            "Sudan",
            "Guinea",
            "Senegal",
            "Kenya",
            "Africa, regional",
            "Niger",
            "Zimbabwe",
            "Namibia",
            "Mozambique",
            "Sierra Leone",
            "Morocco",
            "Mauritius",
            "Algeria",
            "Guinea-Bissau",
            "Somalia",
            "Mali",
            "Mauritania",
            "Lesotho",
            "Madagascar",
            "South Africa",
            "South Sudan",
            "Liberia",
            "Angola",
            "Malawi"
           ],
           "locationmode": "country names",
           "locations": [
            "Nigeria",
            "Sao Tome and Principe",
            "Rwanda",
            "Uganda",
            "Ghana",
            "Seychelles",
            "Benin",
            "Zambia",
            "Gambia",
            "Gabon",
            "Ethiopia",
            "Tanzania",
            "Eritrea",
            "Botswana",
            "Equatorial Guinea",
            "Egypt",
            "Djibouti",
            "Togo",
            "Democratic Republic of the Congo",
            "Cote d'Ivoire",
            "Burundi",
            "Congo",
            "Tunisia",
            "Comoros",
            "Chad",
            "Central African Republic",
            "Cabo Verde",
            "Cameroon",
            "Sudan",
            "Guinea",
            "Senegal",
            "Kenya",
            "Africa, regional",
            "Niger",
            "Zimbabwe",
            "Namibia",
            "Mozambique",
            "Sierra Leone",
            "Morocco",
            "Mauritius",
            "Algeria",
            "Guinea-Bissau",
            "Somalia",
            "Mali",
            "Mauritania",
            "Lesotho",
            "Madagascar",
            "South Africa",
            "South Sudan",
            "Liberia",
            "Angola",
            "Malawi"
           ],
           "name": "",
           "type": "choropleth",
           "z": [
            6490117231.078191,
            0,
            115437934.409413,
            122757016.6322184,
            2206052885.18691,
            33120707.8882751,
            85627427.62081143,
            2470981237.564437,
            45146271.1533276,
            248315238.82334885,
            832284777.90674,
            8201182546.159118,
            44621892.627773,
            12039005.6408873,
            316355967.09841883,
            2845221514.938583,
            1174472829.25,
            226081134.0349646,
            2115739795.8,
            92012017.60421003,
            87524378.52555461,
            1956115506.2202816,
            0,
            5708118.329282111,
            159558.8030201967,
            101178.02131758,
            90505848.84434728,
            909592094.237401,
            63056402.557080284,
            0,
            107630563.53844765,
            5048263602.26221,
            12025306802.10273,
            61369203.5926377,
            5031305511.2817745,
            18012141.147658326,
            35414627.11533276,
            223156022.56354943,
            181648757.0511092,
            232349347.17313737,
            17461072.806402,
            45012000,
            2000000,
            306019502.8204437,
            63243106.31141839,
            28559.599360228178,
            146194640.395759,
            1651006349.5687575,
            2090752437.8525555,
            58558645.42599434,
            19574084716.531155,
            75597917.04853639
           ]
          }
         ],
         "name": "2016"
        },
        {
         "data": [
          {
           "coloraxis": "coloraxis",
           "geo": "geo",
           "hovertemplate": "<b>%{hovertext}</b><br><br>Commitment Year=2017<br>Recipient=%{location}<br>Amount (Nominal USD)=%{z}<extra></extra>",
           "hovertext": [
            "Uganda",
            "South Sudan",
            "Zimbabwe",
            "Zambia",
            "Somalia",
            "Sudan",
            "Sierra Leone",
            "South Africa",
            "Togo",
            "Tanzania",
            "Tunisia",
            "Seychelles",
            "Lesotho",
            "Mauritania",
            "Cabo Verde",
            "Democratic Republic of the Congo",
            "Botswana",
            "Niger",
            "Burundi",
            "Central African Republic",
            "Ghana",
            "Namibia",
            "Algeria",
            "Malawi",
            "Liberia",
            "Guinea",
            "Mozambique",
            "Cote d'Ivoire",
            "Congo",
            "Guinea-Bissau",
            "Morocco",
            "Mauritius",
            "Kenya",
            "Gambia",
            "Senegal",
            "Chad",
            "Africa, regional",
            "Egypt",
            "Madagascar",
            "Sao Tome and Principe",
            "Angola",
            "Comoros",
            "Eritrea",
            "Equatorial Guinea",
            "Djibouti",
            "Ethiopia",
            "Cameroon",
            "Benin",
            "Nigeria",
            "Gabon",
            "Rwanda",
            "Mali"
           ],
           "locationmode": "country names",
           "locations": [
            "Uganda",
            "South Sudan",
            "Zimbabwe",
            "Zambia",
            "Somalia",
            "Sudan",
            "Sierra Leone",
            "South Africa",
            "Togo",
            "Tanzania",
            "Tunisia",
            "Seychelles",
            "Lesotho",
            "Mauritania",
            "Cabo Verde",
            "Democratic Republic of the Congo",
            "Botswana",
            "Niger",
            "Burundi",
            "Central African Republic",
            "Ghana",
            "Namibia",
            "Algeria",
            "Malawi",
            "Liberia",
            "Guinea",
            "Mozambique",
            "Cote d'Ivoire",
            "Congo",
            "Guinea-Bissau",
            "Morocco",
            "Mauritius",
            "Kenya",
            "Gambia",
            "Senegal",
            "Chad",
            "Africa, regional",
            "Egypt",
            "Madagascar",
            "Sao Tome and Principe",
            "Angola",
            "Comoros",
            "Eritrea",
            "Equatorial Guinea",
            "Djibouti",
            "Ethiopia",
            "Cameroon",
            "Benin",
            "Nigeria",
            "Gabon",
            "Rwanda",
            "Mali"
           ],
           "name": "",
           "type": "choropleth",
           "z": [
            34621902.55922184,
            21581213.783369154,
            195375560.53645992,
            2727170803.8034744,
            13036500,
            376671608.2024469,
            1319001400,
            4860653417.690581,
            20717885.28227309,
            327462481.1630547,
            114758094.28562196,
            18890667.79945965,
            3015878.299220898,
            48044492.357928306,
            78181340.72006561,
            1663617681.2787714,
            1015481.8829641212,
            16283000.595012762,
            33641704.61873856,
            2646062.309154167,
            10512626507.467339,
            33752674.7824225,
            3254596978.974676,
            79666811.54379117,
            10000,
            21550787192.894314,
            2093917423.7714102,
            185439986.21059737,
            464885925.4479583,
            23529598.2848673,
            0,
            20960318.013436038,
            2083517343.354248,
            467062500.6499476,
            99698097.93075158,
            320503702.5582872,
            454064795.4423957,
            4190661887.7561607,
            173750776.90327403,
            228583110.16083306,
            2610029244.743669,
            10905713.276284609,
            591939.579493519,
            949496422.0116467,
            246212220.8597905,
            1417569720.586937,
            985979723.6107602,
            144987372.03678247,
            12603987171.603773,
            170000000,
            46472000,
            183480126.8147972
           ]
          }
         ],
         "name": "2017"
        },
        {
         "data": [
          {
           "coloraxis": "coloraxis",
           "geo": "geo",
           "hovertemplate": "<b>%{hovertext}</b><br><br>Commitment Year=2018<br>Recipient=%{location}<br>Amount (Nominal USD)=%{z}<extra></extra>",
           "hovertext": [
            "Congo",
            "South Sudan",
            "Tunisia",
            "Benin",
            "Lesotho",
            "Comoros",
            "Liberia",
            "South Africa",
            "Madagascar",
            "Senegal",
            "Ghana",
            "Kenya",
            "Egypt",
            "Burkina Faso",
            "Equatorial Guinea",
            "Togo",
            "Tanzania",
            "Eritrea",
            "Ethiopia",
            "Burundi",
            "Botswana",
            "Democratic Republic of the Congo",
            "Gambia",
            "Sudan",
            "Cote d'Ivoire",
            "Guinea",
            "Zambia",
            "Guinea-Bissau",
            "Gabon",
            "Malawi",
            "Libya",
            "Djibouti",
            "Mozambique",
            "Algeria",
            "Cabo Verde",
            "Niger",
            "Morocco",
            "Seychelles",
            "Sierra Leone",
            "Cameroon",
            "Nigeria",
            "Africa, regional",
            "Mauritius",
            "Namibia",
            "Rwanda",
            "Mauritania",
            "Chad",
            "Sao Tome and Principe",
            "Uganda",
            "Mali",
            "Angola",
            "Zimbabwe",
            "Somalia",
            "Central African Republic"
           ],
           "locationmode": "country names",
           "locations": [
            "Congo",
            "South Sudan",
            "Tunisia",
            "Benin",
            "Lesotho",
            "Comoros",
            "Liberia",
            "South Africa",
            "Madagascar",
            "Senegal",
            "Ghana",
            "Kenya",
            "Egypt",
            "Burkina Faso",
            "Equatorial Guinea",
            "Togo",
            "Tanzania",
            "Eritrea",
            "Ethiopia",
            "Burundi",
            "Botswana",
            "Democratic Republic of the Congo",
            "Gambia",
            "Sudan",
            "Cote d'Ivoire",
            "Guinea",
            "Zambia",
            "Guinea-Bissau",
            "Gabon",
            "Malawi",
            "Libya",
            "Djibouti",
            "Mozambique",
            "Algeria",
            "Cabo Verde",
            "Niger",
            "Morocco",
            "Seychelles",
            "Sierra Leone",
            "Cameroon",
            "Nigeria",
            "Africa, regional",
            "Mauritius",
            "Namibia",
            "Rwanda",
            "Mauritania",
            "Chad",
            "Sao Tome and Principe",
            "Uganda",
            "Mali",
            "Angola",
            "Zimbabwe",
            "Somalia",
            "Central African Republic"
           ],
           "name": "",
           "type": "choropleth",
           "z": [
            46818427.20892562,
            1684063238.9038758,
            34788651.17353989,
            1534316,
            212628243.6676579,
            251974080.3877262,
            104509344.11,
            5920960703.5568285,
            371925503.0940429,
            505453742.24265456,
            3005824678.5193453,
            444803799.6002603,
            5477919518.610299,
            380875197.343784,
            2024958.6267371143,
            15731620.784344846,
            273240087.6728021,
            1617600000,
            2955973371.426065,
            75085895.52044564,
            38944115.183337234,
            405482312.69,
            46751012.99868407,
            150962320.90126607,
            1264169726.6475348,
            2950597949.0905495,
            3715485795.09783,
            33500000,
            165881665.50799102,
            528858738.07395214,
            6000000,
            7350000,
            120600000,
            30385368.94719227,
            23551.1808642373,
            7635488.830807162,
            296846261.8770154,
            13277646.3635979,
            12801806.409299992,
            392157433.2288435,
            8343219094.65185,
            1876169690,
            127634078.61572915,
            235596682.80478868,
            146169347.20647433,
            151494146.3151592,
            120553536.2121974,
            85063154.3438188,
            201672019.30120292,
            172538022.91923302,
            6549365397.90334,
            179142571.5240804,
            7537100,
            37273160.85865446
           ]
          }
         ],
         "name": "2018"
        },
        {
         "data": [
          {
           "coloraxis": "coloraxis",
           "geo": "geo",
           "hovertemplate": "<b>%{hovertext}</b><br><br>Commitment Year=2019<br>Recipient=%{location}<br>Amount (Nominal USD)=%{z}<extra></extra>",
           "hovertext": [
            "Botswana",
            "Namibia",
            "Sudan",
            "Senegal",
            "Burkina Faso",
            "Tanzania",
            "Rwanda",
            "Gambia",
            "Zimbabwe",
            "Cameroon",
            "Equatorial Guinea",
            "Seychelles",
            "Niger",
            "Egypt",
            "Togo",
            "Eritrea",
            "Africa, regional",
            "Cabo Verde",
            "Ethiopia",
            "Nigeria",
            "Sao Tome and Principe",
            "Democratic Republic of the Congo",
            "Gabon",
            "Cote d'Ivoire",
            "Lesotho",
            "Somalia",
            "Djibouti",
            "Liberia",
            "Mauritania",
            "Benin",
            "Burundi",
            "Ghana",
            "Chad",
            "Congo",
            "Kenya",
            "Mauritius",
            "South Africa",
            "South Sudan",
            "Mali",
            "Angola",
            "Sierra Leone",
            "Zambia",
            "Uganda",
            "Guinea-Bissau",
            "Algeria",
            "Morocco",
            "Tunisia",
            "Central African Republic",
            "Guinea",
            "Mozambique",
            "Malawi",
            "Madagascar",
            "Comoros"
           ],
           "locationmode": "country names",
           "locations": [
            "Botswana",
            "Namibia",
            "Sudan",
            "Senegal",
            "Burkina Faso",
            "Tanzania",
            "Rwanda",
            "Gambia",
            "Zimbabwe",
            "Cameroon",
            "Equatorial Guinea",
            "Seychelles",
            "Niger",
            "Egypt",
            "Togo",
            "Eritrea",
            "Africa, regional",
            "Cabo Verde",
            "Ethiopia",
            "Nigeria",
            "Sao Tome and Principe",
            "Democratic Republic of the Congo",
            "Gabon",
            "Cote d'Ivoire",
            "Lesotho",
            "Somalia",
            "Djibouti",
            "Liberia",
            "Mauritania",
            "Benin",
            "Burundi",
            "Ghana",
            "Chad",
            "Congo",
            "Kenya",
            "Mauritius",
            "South Africa",
            "South Sudan",
            "Mali",
            "Angola",
            "Sierra Leone",
            "Zambia",
            "Uganda",
            "Guinea-Bissau",
            "Algeria",
            "Morocco",
            "Tunisia",
            "Central African Republic",
            "Guinea",
            "Mozambique",
            "Malawi",
            "Madagascar",
            "Comoros"
           ],
           "name": "",
           "type": "choropleth",
           "z": [
            31703087.353691,
            1184436.808025938,
            26523820.3226365,
            323786719.34029853,
            1690968526.962701,
            85455897.14529529,
            86487745.3115228,
            51539807.82245321,
            951720247.4958144,
            195776344.5606432,
            1314692677.88603,
            22052117.575079657,
            1040000000,
            12107269920.609407,
            1745697.91481057,
            0,
            5116500654.164061,
            13515594.541490227,
            69079321.02301797,
            2415568264.449658,
            28147914.913012378,
            301098000,
            36029396.9415891,
            1268644120.2356043,
            1000000,
            0,
            240000000,
            38424528.128828555,
            206845011.9335752,
            351180410.33016,
            39210.6043794307,
            1419761465.7815747,
            216458358.1420802,
            62817909.278985634,
            768052523.5922284,
            26114275.65375845,
            992941868.9025966,
            814228751.602408,
            0,
            134427774,
            133082616.65850401,
            250089183.30800298,
            307889573.0545714,
            6931910.16131828,
            0,
            14562581.7705076,
            63214033.02128807,
            64161056.2918306,
            327500000,
            37000000,
            61310534.07239355,
            159584686.40908715,
            13220135.848960161
           ]
          }
         ],
         "name": "2019"
        },
        {
         "data": [
          {
           "coloraxis": "coloraxis",
           "geo": "geo",
           "hovertemplate": "<b>%{hovertext}</b><br><br>Commitment Year=2020<br>Recipient=%{location}<br>Amount (Nominal USD)=%{z}<extra></extra>",
           "hovertext": [
            "Burundi",
            "Burkina Faso",
            "Cote d'Ivoire",
            "Comoros",
            "Chad",
            "Cabo Verde",
            "Togo",
            "Congo",
            "Central African Republic",
            "Cameroon",
            "Democratic Republic of the Congo",
            "Tunisia",
            "Guinea-Bissau",
            "Egypt",
            "Angola",
            "Malawi",
            "Somalia",
            "Mali",
            "Mauritania",
            "Mauritius",
            "Algeria",
            "Sierra Leone",
            "Djibouti",
            "Morocco",
            "Namibia",
            "Africa, regional",
            "Seychelles",
            "Niger",
            "Nigeria",
            "Rwanda",
            "Sao Tome and Principe",
            "Senegal",
            "Mozambique",
            "Libya",
            "Madagascar",
            "South Africa",
            "Equatorial Guinea",
            "Botswana",
            "Tanzania",
            "Ethiopia",
            "Gabon",
            "Gambia",
            "Sudan",
            "Liberia",
            "Ghana",
            "Benin",
            "Uganda",
            "Zambia",
            "South Sudan",
            "Kenya",
            "Zimbabwe",
            "Lesotho",
            "Guinea"
           ],
           "locationmode": "country names",
           "locations": [
            "Burundi",
            "Burkina Faso",
            "Cote d'Ivoire",
            "Comoros",
            "Chad",
            "Cabo Verde",
            "Togo",
            "Congo",
            "Central African Republic",
            "Cameroon",
            "Democratic Republic of the Congo",
            "Tunisia",
            "Guinea-Bissau",
            "Egypt",
            "Angola",
            "Malawi",
            "Somalia",
            "Mali",
            "Mauritania",
            "Mauritius",
            "Algeria",
            "Sierra Leone",
            "Djibouti",
            "Morocco",
            "Namibia",
            "Africa, regional",
            "Seychelles",
            "Niger",
            "Nigeria",
            "Rwanda",
            "Sao Tome and Principe",
            "Senegal",
            "Mozambique",
            "Libya",
            "Madagascar",
            "South Africa",
            "Equatorial Guinea",
            "Botswana",
            "Tanzania",
            "Ethiopia",
            "Gabon",
            "Gambia",
            "Sudan",
            "Liberia",
            "Ghana",
            "Benin",
            "Uganda",
            "Zambia",
            "South Sudan",
            "Kenya",
            "Zimbabwe",
            "Lesotho",
            "Guinea"
           ],
           "name": "",
           "type": "choropleth",
           "z": [
            1022927.0674351645,
            210476862.07896218,
            1058620746.0662947,
            124637.6811594194,
            3165056.35389079,
            52500,
            33000,
            200745,
            3318404.09437273,
            6538650.887326395,
            154481763.043478,
            0,
            299360,
            2614020979.827547,
            59587754.95435368,
            162901111.96182016,
            1293815,
            132417.9971854966,
            267416.4,
            0,
            21289153.6231884,
            5350,
            350000,
            1846348.6575342459,
            1762222.1359223295,
            281306818.1818182,
            174216,
            8713695.436265387,
            3258368335.5529637,
            229529655.93867737,
            1051650,
            1459153.133670832,
            289741558.7,
            3759747.82,
            49319082.52736366,
            685749933.4854367,
            2008100,
            3143191.3992785253,
            50918457.3007383,
            13663554.739735859,
            51018009.090909,
            293099.0371660853,
            2580000,
            4623315,
            1011965577.1385844,
            1762408.955298042,
            641362979.8074424,
            203546567,
            23810149.12,
            36675625.195526935,
            8477741.904924722,
            71407797.53060356,
            830493600
           ]
          }
         ],
         "name": "2020"
        },
        {
         "data": [
          {
           "coloraxis": "coloraxis",
           "geo": "geo",
           "hovertemplate": "<b>%{hovertext}</b><br><br>Commitment Year=2021<br>Recipient=%{location}<br>Amount (Nominal USD)=%{z}<extra></extra>",
           "hovertext": [
            "Algeria",
            "Burundi",
            "Africa, regional",
            "Burkina Faso",
            "Zambia",
            "Uganda",
            "Botswana",
            "Angola",
            "Benin",
            "Gabon",
            "Cameroon",
            "Liberia",
            "Libya",
            "Madagascar",
            "Malawi",
            "Somalia",
            "Mali",
            "Mauritania",
            "Sierra Leone",
            "South Africa",
            "Mauritius",
            "Mozambique",
            "Namibia",
            "Seychelles",
            "Niger",
            "Nigeria",
            "Rwanda",
            "Sao Tome and Principe",
            "Senegal",
            "Morocco",
            "Lesotho",
            "Kenya",
            "South Sudan",
            "Central African Republic",
            "Chad",
            "Tunisia",
            "Comoros",
            "Congo",
            "Cote d'Ivoire",
            "Togo",
            "Democratic Republic of the Congo",
            "Djibouti",
            "Egypt",
            "Equatorial Guinea",
            "Tanzania",
            "Eritrea",
            "Ethiopia",
            "Sudan",
            "Gambia",
            "Ghana",
            "Guinea",
            "Guinea-Bissau",
            "Cabo Verde",
            "Zimbabwe"
           ],
           "locationmode": "country names",
           "locations": [
            "Algeria",
            "Burundi",
            "Africa, regional",
            "Burkina Faso",
            "Zambia",
            "Uganda",
            "Botswana",
            "Angola",
            "Benin",
            "Gabon",
            "Cameroon",
            "Liberia",
            "Libya",
            "Madagascar",
            "Malawi",
            "Somalia",
            "Mali",
            "Mauritania",
            "Sierra Leone",
            "South Africa",
            "Mauritius",
            "Mozambique",
            "Namibia",
            "Seychelles",
            "Niger",
            "Nigeria",
            "Rwanda",
            "Sao Tome and Principe",
            "Senegal",
            "Morocco",
            "Lesotho",
            "Kenya",
            "South Sudan",
            "Central African Republic",
            "Chad",
            "Tunisia",
            "Comoros",
            "Congo",
            "Cote d'Ivoire",
            "Togo",
            "Democratic Republic of the Congo",
            "Djibouti",
            "Egypt",
            "Equatorial Guinea",
            "Tanzania",
            "Eritrea",
            "Ethiopia",
            "Sudan",
            "Gambia",
            "Ghana",
            "Guinea",
            "Guinea-Bissau",
            "Cabo Verde",
            "Zimbabwe"
           ],
           "name": "",
           "type": "choropleth",
           "z": [
            61200000,
            16786698.98449612,
            54545454,
            2029924255.081858,
            46173289.1472868,
            149804391.01964086,
            3672148.664259928,
            83300000,
            1338200000,
            26164705.8823529,
            137912995.8960327,
            36752036.12093016,
            0,
            19673293.994996257,
            97066813.58309126,
            17300000,
            15434419.447099345,
            51869333.1991006,
            2050060458.6802099,
            176697023.42516914,
            59392819.31007751,
            66771682.620155,
            72016992.37393913,
            11641917.677944377,
            30777833.4806051,
            571743598.014151,
            77269944.78019637,
            1886912.7714454848,
            643185305.3117647,
            9022271.714922048,
            4160120,
            487703718.8982121,
            2300000,
            204281319.31545633,
            3657706.526247453,
            3600000,
            5400000,
            96435925.19791533,
            86347854.73675,
            32472000,
            52906976.744186,
            23400000,
            3765952219.8731003,
            27757050.187349185,
            172156868.64862204,
            0,
            117364815.49485011,
            4500000,
            9424322.097109824,
            108151301.94594595,
            32255813.9534883,
            14700000,
            2400000,
            130806452.76
           ]
          }
         ],
         "name": "2021"
        }
       ],
       "layout": {
        "coloraxis": {
         "colorbar": {
          "title": {
           "text": "Amount (Nominal USD)"
          }
         },
         "colorscale": [
          [
           0,
           "rgb(214, 249, 207)"
          ],
          [
           0.09090909090909091,
           "rgb(186, 228, 174)"
          ],
          [
           0.18181818181818182,
           "rgb(156, 209, 143)"
          ],
          [
           0.2727272727272727,
           "rgb(124, 191, 115)"
          ],
          [
           0.36363636363636365,
           "rgb(85, 174, 91)"
          ],
          [
           0.45454545454545453,
           "rgb(37, 157, 81)"
          ],
          [
           0.5454545454545454,
           "rgb(7, 138, 78)"
          ],
          [
           0.6363636363636364,
           "rgb(13, 117, 71)"
          ],
          [
           0.7272727272727273,
           "rgb(23, 95, 61)"
          ],
          [
           0.8181818181818182,
           "rgb(25, 75, 49)"
          ],
          [
           0.9090909090909091,
           "rgb(23, 55, 35)"
          ],
          [
           1,
           "rgb(17, 36, 20)"
          ]
         ]
        },
        "geo": {
         "center": {},
         "coastlinecolor": "Black",
         "domain": {
          "x": [
           0,
           1
          ],
          "y": [
           0,
           1
          ]
         },
         "landcolor": "White",
         "scope": "africa",
         "showcoastlines": true,
         "showland": true
        },
        "legend": {
         "tracegroupgap": 0
        },
        "sliders": [
         {
          "active": 0,
          "currentvalue": {
           "prefix": "Commitment Year="
          },
          "len": 0.9,
          "pad": {
           "b": 10,
           "t": 60
          },
          "steps": [
           {
            "args": [
             [
              "2000"
             ],
             {
              "frame": {
               "duration": 0,
               "redraw": true
              },
              "fromcurrent": true,
              "mode": "immediate",
              "transition": {
               "duration": 0,
               "easing": "linear"
              }
             }
            ],
            "label": "2000",
            "method": "animate"
           },
           {
            "args": [
             [
              "2001"
             ],
             {
              "frame": {
               "duration": 0,
               "redraw": true
              },
              "fromcurrent": true,
              "mode": "immediate",
              "transition": {
               "duration": 0,
               "easing": "linear"
              }
             }
            ],
            "label": "2001",
            "method": "animate"
           },
           {
            "args": [
             [
              "2002"
             ],
             {
              "frame": {
               "duration": 0,
               "redraw": true
              },
              "fromcurrent": true,
              "mode": "immediate",
              "transition": {
               "duration": 0,
               "easing": "linear"
              }
             }
            ],
            "label": "2002",
            "method": "animate"
           },
           {
            "args": [
             [
              "2003"
             ],
             {
              "frame": {
               "duration": 0,
               "redraw": true
              },
              "fromcurrent": true,
              "mode": "immediate",
              "transition": {
               "duration": 0,
               "easing": "linear"
              }
             }
            ],
            "label": "2003",
            "method": "animate"
           },
           {
            "args": [
             [
              "2004"
             ],
             {
              "frame": {
               "duration": 0,
               "redraw": true
              },
              "fromcurrent": true,
              "mode": "immediate",
              "transition": {
               "duration": 0,
               "easing": "linear"
              }
             }
            ],
            "label": "2004",
            "method": "animate"
           },
           {
            "args": [
             [
              "2005"
             ],
             {
              "frame": {
               "duration": 0,
               "redraw": true
              },
              "fromcurrent": true,
              "mode": "immediate",
              "transition": {
               "duration": 0,
               "easing": "linear"
              }
             }
            ],
            "label": "2005",
            "method": "animate"
           },
           {
            "args": [
             [
              "2006"
             ],
             {
              "frame": {
               "duration": 0,
               "redraw": true
              },
              "fromcurrent": true,
              "mode": "immediate",
              "transition": {
               "duration": 0,
               "easing": "linear"
              }
             }
            ],
            "label": "2006",
            "method": "animate"
           },
           {
            "args": [
             [
              "2007"
             ],
             {
              "frame": {
               "duration": 0,
               "redraw": true
              },
              "fromcurrent": true,
              "mode": "immediate",
              "transition": {
               "duration": 0,
               "easing": "linear"
              }
             }
            ],
            "label": "2007",
            "method": "animate"
           },
           {
            "args": [
             [
              "2008"
             ],
             {
              "frame": {
               "duration": 0,
               "redraw": true
              },
              "fromcurrent": true,
              "mode": "immediate",
              "transition": {
               "duration": 0,
               "easing": "linear"
              }
             }
            ],
            "label": "2008",
            "method": "animate"
           },
           {
            "args": [
             [
              "2009"
             ],
             {
              "frame": {
               "duration": 0,
               "redraw": true
              },
              "fromcurrent": true,
              "mode": "immediate",
              "transition": {
               "duration": 0,
               "easing": "linear"
              }
             }
            ],
            "label": "2009",
            "method": "animate"
           },
           {
            "args": [
             [
              "2010"
             ],
             {
              "frame": {
               "duration": 0,
               "redraw": true
              },
              "fromcurrent": true,
              "mode": "immediate",
              "transition": {
               "duration": 0,
               "easing": "linear"
              }
             }
            ],
            "label": "2010",
            "method": "animate"
           },
           {
            "args": [
             [
              "2011"
             ],
             {
              "frame": {
               "duration": 0,
               "redraw": true
              },
              "fromcurrent": true,
              "mode": "immediate",
              "transition": {
               "duration": 0,
               "easing": "linear"
              }
             }
            ],
            "label": "2011",
            "method": "animate"
           },
           {
            "args": [
             [
              "2012"
             ],
             {
              "frame": {
               "duration": 0,
               "redraw": true
              },
              "fromcurrent": true,
              "mode": "immediate",
              "transition": {
               "duration": 0,
               "easing": "linear"
              }
             }
            ],
            "label": "2012",
            "method": "animate"
           },
           {
            "args": [
             [
              "2013"
             ],
             {
              "frame": {
               "duration": 0,
               "redraw": true
              },
              "fromcurrent": true,
              "mode": "immediate",
              "transition": {
               "duration": 0,
               "easing": "linear"
              }
             }
            ],
            "label": "2013",
            "method": "animate"
           },
           {
            "args": [
             [
              "2014"
             ],
             {
              "frame": {
               "duration": 0,
               "redraw": true
              },
              "fromcurrent": true,
              "mode": "immediate",
              "transition": {
               "duration": 0,
               "easing": "linear"
              }
             }
            ],
            "label": "2014",
            "method": "animate"
           },
           {
            "args": [
             [
              "2015"
             ],
             {
              "frame": {
               "duration": 0,
               "redraw": true
              },
              "fromcurrent": true,
              "mode": "immediate",
              "transition": {
               "duration": 0,
               "easing": "linear"
              }
             }
            ],
            "label": "2015",
            "method": "animate"
           },
           {
            "args": [
             [
              "2016"
             ],
             {
              "frame": {
               "duration": 0,
               "redraw": true
              },
              "fromcurrent": true,
              "mode": "immediate",
              "transition": {
               "duration": 0,
               "easing": "linear"
              }
             }
            ],
            "label": "2016",
            "method": "animate"
           },
           {
            "args": [
             [
              "2017"
             ],
             {
              "frame": {
               "duration": 0,
               "redraw": true
              },
              "fromcurrent": true,
              "mode": "immediate",
              "transition": {
               "duration": 0,
               "easing": "linear"
              }
             }
            ],
            "label": "2017",
            "method": "animate"
           },
           {
            "args": [
             [
              "2018"
             ],
             {
              "frame": {
               "duration": 0,
               "redraw": true
              },
              "fromcurrent": true,
              "mode": "immediate",
              "transition": {
               "duration": 0,
               "easing": "linear"
              }
             }
            ],
            "label": "2018",
            "method": "animate"
           },
           {
            "args": [
             [
              "2019"
             ],
             {
              "frame": {
               "duration": 0,
               "redraw": true
              },
              "fromcurrent": true,
              "mode": "immediate",
              "transition": {
               "duration": 0,
               "easing": "linear"
              }
             }
            ],
            "label": "2019",
            "method": "animate"
           },
           {
            "args": [
             [
              "2020"
             ],
             {
              "frame": {
               "duration": 0,
               "redraw": true
              },
              "fromcurrent": true,
              "mode": "immediate",
              "transition": {
               "duration": 0,
               "easing": "linear"
              }
             }
            ],
            "label": "2020",
            "method": "animate"
           },
           {
            "args": [
             [
              "2021"
             ],
             {
              "frame": {
               "duration": 0,
               "redraw": true
              },
              "fromcurrent": true,
              "mode": "immediate",
              "transition": {
               "duration": 0,
               "easing": "linear"
              }
             }
            ],
            "label": "2021",
            "method": "animate"
           }
          ],
          "x": 0.1,
          "xanchor": "left",
          "y": 0,
          "yanchor": "top"
         }
        ],
        "template": {
         "data": {
          "bar": [
           {
            "error_x": {
             "color": "#2a3f5f"
            },
            "error_y": {
             "color": "#2a3f5f"
            },
            "marker": {
             "line": {
              "color": "#E5ECF6",
              "width": 0.5
             },
             "pattern": {
              "fillmode": "overlay",
              "size": 10,
              "solidity": 0.2
             }
            },
            "type": "bar"
           }
          ],
          "barpolar": [
           {
            "marker": {
             "line": {
              "color": "#E5ECF6",
              "width": 0.5
             },
             "pattern": {
              "fillmode": "overlay",
              "size": 10,
              "solidity": 0.2
             }
            },
            "type": "barpolar"
           }
          ],
          "carpet": [
           {
            "aaxis": {
             "endlinecolor": "#2a3f5f",
             "gridcolor": "white",
             "linecolor": "white",
             "minorgridcolor": "white",
             "startlinecolor": "#2a3f5f"
            },
            "baxis": {
             "endlinecolor": "#2a3f5f",
             "gridcolor": "white",
             "linecolor": "white",
             "minorgridcolor": "white",
             "startlinecolor": "#2a3f5f"
            },
            "type": "carpet"
           }
          ],
          "choropleth": [
           {
            "colorbar": {
             "outlinewidth": 0,
             "ticks": ""
            },
            "type": "choropleth"
           }
          ],
          "contour": [
           {
            "colorbar": {
             "outlinewidth": 0,
             "ticks": ""
            },
            "colorscale": [
             [
              0,
              "#0d0887"
             ],
             [
              0.1111111111111111,
              "#46039f"
             ],
             [
              0.2222222222222222,
              "#7201a8"
             ],
             [
              0.3333333333333333,
              "#9c179e"
             ],
             [
              0.4444444444444444,
              "#bd3786"
             ],
             [
              0.5555555555555556,
              "#d8576b"
             ],
             [
              0.6666666666666666,
              "#ed7953"
             ],
             [
              0.7777777777777778,
              "#fb9f3a"
             ],
             [
              0.8888888888888888,
              "#fdca26"
             ],
             [
              1,
              "#f0f921"
             ]
            ],
            "type": "contour"
           }
          ],
          "contourcarpet": [
           {
            "colorbar": {
             "outlinewidth": 0,
             "ticks": ""
            },
            "type": "contourcarpet"
           }
          ],
          "heatmap": [
           {
            "colorbar": {
             "outlinewidth": 0,
             "ticks": ""
            },
            "colorscale": [
             [
              0,
              "#0d0887"
             ],
             [
              0.1111111111111111,
              "#46039f"
             ],
             [
              0.2222222222222222,
              "#7201a8"
             ],
             [
              0.3333333333333333,
              "#9c179e"
             ],
             [
              0.4444444444444444,
              "#bd3786"
             ],
             [
              0.5555555555555556,
              "#d8576b"
             ],
             [
              0.6666666666666666,
              "#ed7953"
             ],
             [
              0.7777777777777778,
              "#fb9f3a"
             ],
             [
              0.8888888888888888,
              "#fdca26"
             ],
             [
              1,
              "#f0f921"
             ]
            ],
            "type": "heatmap"
           }
          ],
          "heatmapgl": [
           {
            "colorbar": {
             "outlinewidth": 0,
             "ticks": ""
            },
            "colorscale": [
             [
              0,
              "#0d0887"
             ],
             [
              0.1111111111111111,
              "#46039f"
             ],
             [
              0.2222222222222222,
              "#7201a8"
             ],
             [
              0.3333333333333333,
              "#9c179e"
             ],
             [
              0.4444444444444444,
              "#bd3786"
             ],
             [
              0.5555555555555556,
              "#d8576b"
             ],
             [
              0.6666666666666666,
              "#ed7953"
             ],
             [
              0.7777777777777778,
              "#fb9f3a"
             ],
             [
              0.8888888888888888,
              "#fdca26"
             ],
             [
              1,
              "#f0f921"
             ]
            ],
            "type": "heatmapgl"
           }
          ],
          "histogram": [
           {
            "marker": {
             "pattern": {
              "fillmode": "overlay",
              "size": 10,
              "solidity": 0.2
             }
            },
            "type": "histogram"
           }
          ],
          "histogram2d": [
           {
            "colorbar": {
             "outlinewidth": 0,
             "ticks": ""
            },
            "colorscale": [
             [
              0,
              "#0d0887"
             ],
             [
              0.1111111111111111,
              "#46039f"
             ],
             [
              0.2222222222222222,
              "#7201a8"
             ],
             [
              0.3333333333333333,
              "#9c179e"
             ],
             [
              0.4444444444444444,
              "#bd3786"
             ],
             [
              0.5555555555555556,
              "#d8576b"
             ],
             [
              0.6666666666666666,
              "#ed7953"
             ],
             [
              0.7777777777777778,
              "#fb9f3a"
             ],
             [
              0.8888888888888888,
              "#fdca26"
             ],
             [
              1,
              "#f0f921"
             ]
            ],
            "type": "histogram2d"
           }
          ],
          "histogram2dcontour": [
           {
            "colorbar": {
             "outlinewidth": 0,
             "ticks": ""
            },
            "colorscale": [
             [
              0,
              "#0d0887"
             ],
             [
              0.1111111111111111,
              "#46039f"
             ],
             [
              0.2222222222222222,
              "#7201a8"
             ],
             [
              0.3333333333333333,
              "#9c179e"
             ],
             [
              0.4444444444444444,
              "#bd3786"
             ],
             [
              0.5555555555555556,
              "#d8576b"
             ],
             [
              0.6666666666666666,
              "#ed7953"
             ],
             [
              0.7777777777777778,
              "#fb9f3a"
             ],
             [
              0.8888888888888888,
              "#fdca26"
             ],
             [
              1,
              "#f0f921"
             ]
            ],
            "type": "histogram2dcontour"
           }
          ],
          "mesh3d": [
           {
            "colorbar": {
             "outlinewidth": 0,
             "ticks": ""
            },
            "type": "mesh3d"
           }
          ],
          "parcoords": [
           {
            "line": {
             "colorbar": {
              "outlinewidth": 0,
              "ticks": ""
             }
            },
            "type": "parcoords"
           }
          ],
          "pie": [
           {
            "automargin": true,
            "type": "pie"
           }
          ],
          "scatter": [
           {
            "fillpattern": {
             "fillmode": "overlay",
             "size": 10,
             "solidity": 0.2
            },
            "type": "scatter"
           }
          ],
          "scatter3d": [
           {
            "line": {
             "colorbar": {
              "outlinewidth": 0,
              "ticks": ""
             }
            },
            "marker": {
             "colorbar": {
              "outlinewidth": 0,
              "ticks": ""
             }
            },
            "type": "scatter3d"
           }
          ],
          "scattercarpet": [
           {
            "marker": {
             "colorbar": {
              "outlinewidth": 0,
              "ticks": ""
             }
            },
            "type": "scattercarpet"
           }
          ],
          "scattergeo": [
           {
            "marker": {
             "colorbar": {
              "outlinewidth": 0,
              "ticks": ""
             }
            },
            "type": "scattergeo"
           }
          ],
          "scattergl": [
           {
            "marker": {
             "colorbar": {
              "outlinewidth": 0,
              "ticks": ""
             }
            },
            "type": "scattergl"
           }
          ],
          "scattermapbox": [
           {
            "marker": {
             "colorbar": {
              "outlinewidth": 0,
              "ticks": ""
             }
            },
            "type": "scattermapbox"
           }
          ],
          "scatterpolar": [
           {
            "marker": {
             "colorbar": {
              "outlinewidth": 0,
              "ticks": ""
             }
            },
            "type": "scatterpolar"
           }
          ],
          "scatterpolargl": [
           {
            "marker": {
             "colorbar": {
              "outlinewidth": 0,
              "ticks": ""
             }
            },
            "type": "scatterpolargl"
           }
          ],
          "scatterternary": [
           {
            "marker": {
             "colorbar": {
              "outlinewidth": 0,
              "ticks": ""
             }
            },
            "type": "scatterternary"
           }
          ],
          "surface": [
           {
            "colorbar": {
             "outlinewidth": 0,
             "ticks": ""
            },
            "colorscale": [
             [
              0,
              "#0d0887"
             ],
             [
              0.1111111111111111,
              "#46039f"
             ],
             [
              0.2222222222222222,
              "#7201a8"
             ],
             [
              0.3333333333333333,
              "#9c179e"
             ],
             [
              0.4444444444444444,
              "#bd3786"
             ],
             [
              0.5555555555555556,
              "#d8576b"
             ],
             [
              0.6666666666666666,
              "#ed7953"
             ],
             [
              0.7777777777777778,
              "#fb9f3a"
             ],
             [
              0.8888888888888888,
              "#fdca26"
             ],
             [
              1,
              "#f0f921"
             ]
            ],
            "type": "surface"
           }
          ],
          "table": [
           {
            "cells": {
             "fill": {
              "color": "#EBF0F8"
             },
             "line": {
              "color": "white"
             }
            },
            "header": {
             "fill": {
              "color": "#C8D4E3"
             },
             "line": {
              "color": "white"
             }
            },
            "type": "table"
           }
          ]
         },
         "layout": {
          "annotationdefaults": {
           "arrowcolor": "#2a3f5f",
           "arrowhead": 0,
           "arrowwidth": 1
          },
          "autotypenumbers": "strict",
          "coloraxis": {
           "colorbar": {
            "outlinewidth": 0,
            "ticks": ""
           }
          },
          "colorscale": {
           "diverging": [
            [
             0,
             "#8e0152"
            ],
            [
             0.1,
             "#c51b7d"
            ],
            [
             0.2,
             "#de77ae"
            ],
            [
             0.3,
             "#f1b6da"
            ],
            [
             0.4,
             "#fde0ef"
            ],
            [
             0.5,
             "#f7f7f7"
            ],
            [
             0.6,
             "#e6f5d0"
            ],
            [
             0.7,
             "#b8e186"
            ],
            [
             0.8,
             "#7fbc41"
            ],
            [
             0.9,
             "#4d9221"
            ],
            [
             1,
             "#276419"
            ]
           ],
           "sequential": [
            [
             0,
             "#0d0887"
            ],
            [
             0.1111111111111111,
             "#46039f"
            ],
            [
             0.2222222222222222,
             "#7201a8"
            ],
            [
             0.3333333333333333,
             "#9c179e"
            ],
            [
             0.4444444444444444,
             "#bd3786"
            ],
            [
             0.5555555555555556,
             "#d8576b"
            ],
            [
             0.6666666666666666,
             "#ed7953"
            ],
            [
             0.7777777777777778,
             "#fb9f3a"
            ],
            [
             0.8888888888888888,
             "#fdca26"
            ],
            [
             1,
             "#f0f921"
            ]
           ],
           "sequentialminus": [
            [
             0,
             "#0d0887"
            ],
            [
             0.1111111111111111,
             "#46039f"
            ],
            [
             0.2222222222222222,
             "#7201a8"
            ],
            [
             0.3333333333333333,
             "#9c179e"
            ],
            [
             0.4444444444444444,
             "#bd3786"
            ],
            [
             0.5555555555555556,
             "#d8576b"
            ],
            [
             0.6666666666666666,
             "#ed7953"
            ],
            [
             0.7777777777777778,
             "#fb9f3a"
            ],
            [
             0.8888888888888888,
             "#fdca26"
            ],
            [
             1,
             "#f0f921"
            ]
           ]
          },
          "colorway": [
           "#636efa",
           "#EF553B",
           "#00cc96",
           "#ab63fa",
           "#FFA15A",
           "#19d3f3",
           "#FF6692",
           "#B6E880",
           "#FF97FF",
           "#FECB52"
          ],
          "font": {
           "color": "#2a3f5f"
          },
          "geo": {
           "bgcolor": "white",
           "lakecolor": "white",
           "landcolor": "#E5ECF6",
           "showlakes": true,
           "showland": true,
           "subunitcolor": "white"
          },
          "hoverlabel": {
           "align": "left"
          },
          "hovermode": "closest",
          "mapbox": {
           "style": "light"
          },
          "paper_bgcolor": "white",
          "plot_bgcolor": "#E5ECF6",
          "polar": {
           "angularaxis": {
            "gridcolor": "white",
            "linecolor": "white",
            "ticks": ""
           },
           "bgcolor": "#E5ECF6",
           "radialaxis": {
            "gridcolor": "white",
            "linecolor": "white",
            "ticks": ""
           }
          },
          "scene": {
           "xaxis": {
            "backgroundcolor": "#E5ECF6",
            "gridcolor": "white",
            "gridwidth": 2,
            "linecolor": "white",
            "showbackground": true,
            "ticks": "",
            "zerolinecolor": "white"
           },
           "yaxis": {
            "backgroundcolor": "#E5ECF6",
            "gridcolor": "white",
            "gridwidth": 2,
            "linecolor": "white",
            "showbackground": true,
            "ticks": "",
            "zerolinecolor": "white"
           },
           "zaxis": {
            "backgroundcolor": "#E5ECF6",
            "gridcolor": "white",
            "gridwidth": 2,
            "linecolor": "white",
            "showbackground": true,
            "ticks": "",
            "zerolinecolor": "white"
           }
          },
          "shapedefaults": {
           "line": {
            "color": "#2a3f5f"
           }
          },
          "ternary": {
           "aaxis": {
            "gridcolor": "white",
            "linecolor": "white",
            "ticks": ""
           },
           "baxis": {
            "gridcolor": "white",
            "linecolor": "white",
            "ticks": ""
           },
           "bgcolor": "#E5ECF6",
           "caxis": {
            "gridcolor": "white",
            "linecolor": "white",
            "ticks": ""
           }
          },
          "title": {
           "x": 0.05
          },
          "xaxis": {
           "automargin": true,
           "gridcolor": "white",
           "linecolor": "white",
           "ticks": "",
           "title": {
            "standoff": 15
           },
           "zerolinecolor": "white",
           "zerolinewidth": 2
          },
          "yaxis": {
           "automargin": true,
           "gridcolor": "white",
           "linecolor": "white",
           "ticks": "",
           "title": {
            "standoff": 15
           },
           "zerolinecolor": "white",
           "zerolinewidth": 2
          }
         }
        },
        "title": {
         "text": "Chinese Loans in Africa from 2000 to 2021"
        },
        "updatemenus": [
         {
          "buttons": [
           {
            "args": [
             null,
             {
              "frame": {
               "duration": 500,
               "redraw": true
              },
              "fromcurrent": true,
              "mode": "immediate",
              "transition": {
               "duration": 500,
               "easing": "linear"
              }
             }
            ],
            "label": "&#9654;",
            "method": "animate"
           },
           {
            "args": [
             [
              null
             ],
             {
              "frame": {
               "duration": 0,
               "redraw": true
              },
              "fromcurrent": true,
              "mode": "immediate",
              "transition": {
               "duration": 0,
               "easing": "linear"
              }
             }
            ],
            "label": "&#9724;",
            "method": "animate"
           }
          ],
          "direction": "left",
          "pad": {
           "r": 10,
           "t": 70
          },
          "showactive": false,
          "type": "buttons",
          "x": 0.1,
          "xanchor": "right",
          "y": 0,
          "yanchor": "top"
         }
        ]
       }
      }
     },
     "metadata": {},
     "output_type": "display_data"
    }
   ],
   "source": [
    "# We animate this now.\n",
    "\n",
    "# Filter region to Africa\n",
    "africa_df = chinese_finance_df[chinese_finance_df['Recipient Region'] == 'Africa']\n",
    "\n",
    "# The years were looping weirdly, so we're setting them as an integer.\n",
    "africa_df['Commitment Year'] = africa_df['Commitment Year'].astype(int)\n",
    "\n",
    "# We want totals for each year. Groupby 'Recipient' and 'Commitment Year', then sum 'Amount (Nominal USD)'\n",
    "recipient_sum_yearly = africa_df.groupby(['Recipient', 'Commitment Year'])[\n",
    "    'Amount (Nominal USD)'].sum().reset_index()\n",
    "\n",
    "# Now that we've set them as integers we sort the years to make sure they're in order.\n",
    "recipient_sum_yearly = recipient_sum_yearly.sort_values(by='Commitment Year')\n",
    "\n",
    "# Create the animated choropleth map using Plotly. Algae color scheme is best for my colorblind ass.\n",
    "fig = px.choropleth(recipient_sum_yearly,\n",
    "                    locations='Recipient',\n",
    "                    locationmode='country names',\n",
    "                    color='Amount (Nominal USD)',\n",
    "                    hover_name='Recipient',\n",
    "                    animation_frame='Commitment Year',\n",
    "                    color_continuous_scale='Algae',\n",
    "                    scope='africa',\n",
    "                    title='Chinese Loans in Africa from 2000 to 2021')\n",
    "\n",
    "fig.update_geos(showcoastlines=True, coastlinecolor=\"Black\",\n",
    "                showland=True, landcolor=\"White\")\n",
    "\n",
    "fig.show()"
   ]
  },
  {
   "cell_type": "code",
   "execution_count": 52,
   "metadata": {},
   "outputs": [
    {
     "name": "stderr",
     "output_type": "stream",
     "text": [
      "C:\\Users\\darks\\AppData\\Local\\Temp\\ipykernel_9212\\539698172.py:7: SettingWithCopyWarning:\n",
      "\n",
      "\n",
      "A value is trying to be set on a copy of a slice from a DataFrame.\n",
      "Try using .loc[row_indexer,col_indexer] = value instead\n",
      "\n",
      "See the caveats in the documentation: https://pandas.pydata.org/pandas-docs/stable/user_guide/indexing.html#returning-a-view-versus-a-copy\n",
      "\n"
     ]
    },
    {
     "data": {
      "application/vnd.plotly.v1+json": {
       "config": {
        "plotlyServerURL": "https://plot.ly"
       },
       "data": [
        {
         "coloraxis": "coloraxis",
         "geo": "geo",
         "hovertemplate": "<b>%{hovertext}</b><br><br>Commitment Year=2000<br>Recipient=%{location}<br>Amount (Nominal USD)=%{z}<extra></extra>",
         "hovertext": [
          "Mexico",
          "Peru",
          "Jamaica",
          "Saint Lucia",
          "Guyana",
          "Cuba",
          "Barbados",
          "Trinidad and Tobago",
          "Ecuador"
         ],
         "locationmode": "country names",
         "locations": [
          "Mexico",
          "Peru",
          "Jamaica",
          "Saint Lucia",
          "Guyana",
          "Cuba",
          "Barbados",
          "Trinidad and Tobago",
          "Ecuador"
         ],
         "name": "",
         "type": "choropleth",
         "z": [
          0,
          0,
          12079494.551602,
          21070370.3703703,
          0,
          0,
          0,
          3717541.102119781,
          1116597.847350094
         ]
        }
       ],
       "frames": [
        {
         "data": [
          {
           "coloraxis": "coloraxis",
           "geo": "geo",
           "hovertemplate": "<b>%{hovertext}</b><br><br>Commitment Year=2000<br>Recipient=%{location}<br>Amount (Nominal USD)=%{z}<extra></extra>",
           "hovertext": [
            "Mexico",
            "Peru",
            "Jamaica",
            "Saint Lucia",
            "Guyana",
            "Cuba",
            "Barbados",
            "Trinidad and Tobago",
            "Ecuador"
           ],
           "locationmode": "country names",
           "locations": [
            "Mexico",
            "Peru",
            "Jamaica",
            "Saint Lucia",
            "Guyana",
            "Cuba",
            "Barbados",
            "Trinidad and Tobago",
            "Ecuador"
           ],
           "name": "",
           "type": "choropleth",
           "z": [
            0,
            0,
            12079494.551602,
            21070370.3703703,
            0,
            0,
            0,
            3717541.102119781,
            1116597.847350094
           ]
          }
         ],
         "name": "2000"
        },
        {
         "data": [
          {
           "coloraxis": "coloraxis",
           "geo": "geo",
           "hovertemplate": "<b>%{hovertext}</b><br><br>Commitment Year=2001<br>Recipient=%{location}<br>Amount (Nominal USD)=%{z}<extra></extra>",
           "hovertext": [
            "Suriname",
            "Guyana",
            "Peru",
            "Antigua and Barbuda",
            "Bolivia",
            "Colombia",
            "Ecuador",
            "Venezuela",
            "Trinidad and Tobago",
            "Cuba"
           ],
           "locationmode": "country names",
           "locations": [
            "Suriname",
            "Guyana",
            "Peru",
            "Antigua and Barbuda",
            "Bolivia",
            "Colombia",
            "Ecuador",
            "Venezuela",
            "Trinidad and Tobago",
            "Cuba"
           ],
           "name": "",
           "type": "choropleth",
           "z": [
            5000000,
            0,
            291629.087811212,
            3624436.31716819,
            1766308.63189996,
            1208145.43905606,
            228500,
            18000000,
            325113.177444311,
            784728436.3171682
           ]
          }
         ],
         "name": "2001"
        },
        {
         "data": [
          {
           "coloraxis": "coloraxis",
           "geo": "geo",
           "hovertemplate": "<b>%{hovertext}</b><br><br>Commitment Year=2002<br>Recipient=%{location}<br>Amount (Nominal USD)=%{z}<extra></extra>",
           "hovertext": [
            "Suriname",
            "Bolivia",
            "Venezuela",
            "Panama",
            "Jamaica",
            "Guyana",
            "Ecuador",
            "Peru",
            "Trinidad and Tobago"
           ],
           "locationmode": "country names",
           "locations": [
            "Suriname",
            "Bolivia",
            "Venezuela",
            "Panama",
            "Jamaica",
            "Guyana",
            "Ecuador",
            "Peru",
            "Trinidad and Tobago"
           ],
           "name": "",
           "type": "choropleth",
           "z": [
            21077240,
            0,
            86780000,
            15277777.7778,
            0,
            3624493.31575406,
            49860295.24130765,
            1208164.43858468,
            3869856.656487437
           ]
          }
         ],
         "name": "2002"
        },
        {
         "data": [
          {
           "coloraxis": "coloraxis",
           "geo": "geo",
           "hovertemplate": "<b>%{hovertext}</b><br><br>Commitment Year=2003<br>Recipient=%{location}<br>Amount (Nominal USD)=%{z}<extra></extra>",
           "hovertext": [
            "Jamaica",
            "Peru",
            "Bolivia",
            "Colombia",
            "Guyana",
            "Saint Lucia",
            "Barbados",
            "Cuba",
            "Ecuador",
            "Suriname",
            "America, regional",
            "Venezuela",
            "Antigua and Barbuda"
           ],
           "locationmode": "country names",
           "locations": [
            "Jamaica",
            "Peru",
            "Bolivia",
            "Colombia",
            "Guyana",
            "Saint Lucia",
            "Barbados",
            "Cuba",
            "Ecuador",
            "Suriname",
            "America, regional",
            "Venezuela",
            "Antigua and Barbuda"
           ],
           "name": "",
           "type": "choropleth",
           "z": [
            2750000,
            2408152.8453359697,
            30000,
            229549.040613835,
            20205385.983707115,
            2407407.4074074,
            1320000,
            6000000,
            3624458.5360079203,
            350000,
            0,
            150000000,
            0
           ]
          }
         ],
         "name": "2003"
        },
        {
         "data": [
          {
           "coloraxis": "coloraxis",
           "geo": "geo",
           "hovertemplate": "<b>%{hovertext}</b><br><br>Commitment Year=2004<br>Recipient=%{location}<br>Amount (Nominal USD)=%{z}<extra></extra>",
           "hovertext": [
            "Peru",
            "Antigua and Barbuda",
            "Barbados",
            "Saint Lucia",
            "Haiti",
            "Guyana",
            "Venezuela",
            "Uruguay",
            "Suriname",
            "Jamaica",
            "Colombia",
            "Cuba",
            "Bolivia",
            "Bahamas",
            "Ecuador",
            "Dominican Republic",
            "Dominica",
            "Mexico"
           ],
           "locationmode": "country names",
           "locations": [
            "Peru",
            "Antigua and Barbuda",
            "Barbados",
            "Saint Lucia",
            "Haiti",
            "Guyana",
            "Venezuela",
            "Uruguay",
            "Suriname",
            "Jamaica",
            "Colombia",
            "Cuba",
            "Bolivia",
            "Bahamas",
            "Ecuador",
            "Dominican Republic",
            "Dominica",
            "Mexico"
           ],
           "name": "",
           "type": "choropleth",
           "z": [
            0,
            3020445.27335836,
            0,
            5041111.111111111,
            0,
            0,
            41812267.16401502,
            604089.054671673,
            43341789,
            100500,
            374535.213896437,
            530081781.09343344,
            10972116.377251843,
            26679918.4055536,
            8605852.67285266,
            2000000,
            116900000,
            152000000
           ]
          }
         ],
         "name": "2004"
        },
        {
         "data": [
          {
           "coloraxis": "coloraxis",
           "geo": "geo",
           "hovertemplate": "<b>%{hovertext}</b><br><br>Commitment Year=2005<br>Recipient=%{location}<br>Amount (Nominal USD)=%{z}<extra></extra>",
           "hovertext": [
            "Jamaica",
            "Peru",
            "Mexico",
            "Antigua and Barbuda",
            "Bolivia",
            "Brazil",
            "Saint Lucia",
            "Dominica",
            "Chile",
            "Barbados",
            "Grenada",
            "Uruguay",
            "Trinidad and Tobago",
            "Guyana",
            "Venezuela",
            "America, regional",
            "Suriname",
            "Bahamas",
            "Ecuador",
            "Colombia",
            "Cuba"
           ],
           "locationmode": "country names",
           "locations": [
            "Jamaica",
            "Peru",
            "Mexico",
            "Antigua and Barbuda",
            "Bolivia",
            "Brazil",
            "Saint Lucia",
            "Dominica",
            "Chile",
            "Barbados",
            "Grenada",
            "Uruguay",
            "Trinidad and Tobago",
            "Guyana",
            "Venezuela",
            "America, regional",
            "Suriname",
            "Bahamas",
            "Ecuador",
            "Colombia",
            "Cuba"
           ],
           "name": "",
           "type": "choropleth",
           "z": [
            46936375.43255143,
            1220454.87312643,
            0,
            7932956.67532179,
            25343005.622849457,
            100500000,
            500000,
            14346964.44444444,
            0,
            0,
            47597863,
            0,
            1220454.87312643,
            3900000,
            98028764.2373433,
            120000,
            2440909.74625286,
            50000,
            1273200,
            6102274.36563215,
            351342500.36043906
           ]
          }
         ],
         "name": "2005"
        },
        {
         "data": [
          {
           "coloraxis": "coloraxis",
           "geo": "geo",
           "hovertemplate": "<b>%{hovertext}</b><br><br>Commitment Year=2006<br>Recipient=%{location}<br>Amount (Nominal USD)=%{z}<extra></extra>",
           "hovertext": [
            "Brazil",
            "Mexico",
            "Colombia",
            "Grenada",
            "Venezuela",
            "Chile",
            "Antigua and Barbuda",
            "Guyana",
            "Ecuador",
            "Trinidad and Tobago",
            "Jamaica",
            "Dominica",
            "Saint Lucia",
            "Peru",
            "Bahamas",
            "Uruguay",
            "Barbados",
            "Bolivia",
            "Suriname"
           ],
           "locationmode": "country names",
           "locations": [
            "Brazil",
            "Mexico",
            "Colombia",
            "Grenada",
            "Venezuela",
            "Chile",
            "Antigua and Barbuda",
            "Guyana",
            "Ecuador",
            "Trinidad and Tobago",
            "Jamaica",
            "Dominica",
            "Saint Lucia",
            "Peru",
            "Bahamas",
            "Uruguay",
            "Barbados",
            "Bolivia",
            "Suriname"
           ],
           "name": "",
           "type": "choropleth",
           "z": [
            0,
            0,
            620.174479811847,
            56500000,
            823500000,
            330000000,
            21620370.3703703,
            0,
            5107637.003847581,
            101851700.567884,
            35705784,
            1228678.14814814,
            4990144.05704513,
            1254331.28778182,
            4079576.68529093,
            28899619.61898197,
            0,
            1200000,
            500000
           ]
          }
         ],
         "name": "2006"
        },
        {
         "data": [
          {
           "coloraxis": "coloraxis",
           "geo": "geo",
           "hovertemplate": "<b>%{hovertext}</b><br><br>Commitment Year=2007<br>Recipient=%{location}<br>Amount (Nominal USD)=%{z}<extra></extra>",
           "hovertext": [
            "Costa Rica",
            "Peru",
            "Argentina",
            "Guyana",
            "Chile",
            "Ecuador",
            "Antigua and Barbuda",
            "Uruguay",
            "Suriname",
            "Grenada",
            "Trinidad and Tobago",
            "Haiti",
            "Venezuela",
            "Barbados",
            "Colombia",
            "Jamaica",
            "Saint Lucia",
            "Bolivia",
            "Cuba",
            "America, regional",
            "Mexico",
            "Brazil",
            "Dominica"
           ],
           "locationmode": "country names",
           "locations": [
            "Costa Rica",
            "Peru",
            "Argentina",
            "Guyana",
            "Chile",
            "Ecuador",
            "Antigua and Barbuda",
            "Uruguay",
            "Suriname",
            "Grenada",
            "Trinidad and Tobago",
            "Haiti",
            "Venezuela",
            "Barbados",
            "Colombia",
            "Jamaica",
            "Saint Lucia",
            "Bolivia",
            "Cuba",
            "America, regional",
            "Mexico",
            "Brazil",
            "Dominica"
           ],
           "name": "",
           "type": "choropleth",
           "z": [
            258505814.9990441,
            8977113.38968455,
            116087958.55,
            15400550.928606834,
            0,
            31553139.59885292,
            0,
            50000,
            5600000,
            5000000,
            0,
            0,
            54000000000,
            0,
            1314714.1499522,
            46014995.2483272,
            0,
            5692612.100498879,
            156400000,
            150000000,
            0,
            1256000000,
            4851347.929534029
           ]
          }
         ],
         "name": "2007"
        },
        {
         "data": [
          {
           "coloraxis": "coloraxis",
           "geo": "geo",
           "hovertemplate": "<b>%{hovertext}</b><br><br>Commitment Year=2008<br>Recipient=%{location}<br>Amount (Nominal USD)=%{z}<extra></extra>",
           "hovertext": [
            "Venezuela",
            "Barbados",
            "Costa Rica",
            "Dominica",
            "Grenada",
            "Jamaica",
            "Haiti",
            "Brazil",
            "Suriname",
            "Guyana",
            "Bolivia",
            "Ecuador",
            "Cuba",
            "Chile",
            "Uruguay",
            "Antigua and Barbuda",
            "Peru",
            "Dominican Republic",
            "Colombia"
           ],
           "locationmode": "country names",
           "locations": [
            "Venezuela",
            "Barbados",
            "Costa Rica",
            "Dominica",
            "Grenada",
            "Jamaica",
            "Haiti",
            "Brazil",
            "Suriname",
            "Guyana",
            "Bolivia",
            "Ecuador",
            "Cuba",
            "Chile",
            "Uruguay",
            "Antigua and Barbuda",
            "Peru",
            "Dominican Republic",
            "Colombia"
           ],
           "name": "",
           "type": "choropleth",
           "z": [
            0,
            3021535.0513813184,
            63500000,
            3720074.62962962,
            93156407.4074074,
            40753929.6237653,
            0,
            80000000,
            198053048.5977394,
            7366.18104556657,
            66616447.08360189,
            11799957.819886971,
            80746004.56540392,
            100000000,
            2877652.42988697,
            47468490.1520082,
            9688731.216614347,
            0,
            75300000
           ]
          }
         ],
         "name": "2008"
        },
        {
         "data": [
          {
           "coloraxis": "coloraxis",
           "geo": "geo",
           "hovertemplate": "<b>%{hovertext}</b><br><br>Commitment Year=2009<br>Recipient=%{location}<br>Amount (Nominal USD)=%{z}<extra></extra>",
           "hovertext": [
            "Dominica",
            "Trinidad and Tobago",
            "Venezuela",
            "Grenada",
            "Bahamas",
            "Cuba",
            "Ecuador",
            "Suriname",
            "Costa Rica",
            "America, regional",
            "Bolivia",
            "Colombia",
            "Chile",
            "Argentina",
            "Uruguay",
            "Brazil",
            "Peru",
            "Mexico",
            "Barbados",
            "Antigua and Barbuda",
            "Guyana",
            "Jamaica"
           ],
           "locationmode": "country names",
           "locations": [
            "Dominica",
            "Trinidad and Tobago",
            "Venezuela",
            "Grenada",
            "Bahamas",
            "Cuba",
            "Ecuador",
            "Suriname",
            "Costa Rica",
            "America, regional",
            "Bolivia",
            "Colombia",
            "Chile",
            "Argentina",
            "Uruguay",
            "Brazil",
            "Peru",
            "Mexico",
            "Barbados",
            "Antigua and Barbuda",
            "Guyana",
            "Jamaica"
           ],
           "name": "",
           "type": "choropleth",
           "z": [
            37957443.703703664,
            400000000,
            5500000000,
            7000000,
            0,
            561100000,
            2278228304.886113,
            0,
            112091911.72354326,
            50000000,
            73242352.44943403,
            11873189.320148226,
            200000000,
            0,
            11282837.023129899,
            18661144444.4444,
            52978845.55701156,
            1005000000,
            0,
            10819030.85260825,
            24046104.578541018,
            20275856.0317262
           ]
          }
         ],
         "name": "2009"
        },
        {
         "data": [
          {
           "coloraxis": "coloraxis",
           "geo": "geo",
           "hovertemplate": "<b>%{hovertext}</b><br><br>Commitment Year=2010<br>Recipient=%{location}<br>Amount (Nominal USD)=%{z}<extra></extra>",
           "hovertext": [
            "Panama",
            "Dominican Republic",
            "Dominica",
            "Uruguay",
            "Cuba",
            "Brazil",
            "Antigua and Barbuda",
            "Jamaica",
            "Trinidad and Tobago",
            "Argentina",
            "Chile",
            "Colombia",
            "Bolivia",
            "Barbados",
            "Costa Rica",
            "Grenada",
            "Venezuela",
            "Guyana",
            "Bahamas",
            "Haiti",
            "Ecuador",
            "Peru"
           ],
           "locationmode": "country names",
           "locations": [
            "Panama",
            "Dominican Republic",
            "Dominica",
            "Uruguay",
            "Cuba",
            "Brazil",
            "Antigua and Barbuda",
            "Jamaica",
            "Trinidad and Tobago",
            "Argentina",
            "Chile",
            "Colombia",
            "Bolivia",
            "Barbados",
            "Costa Rica",
            "Grenada",
            "Venezuela",
            "Guyana",
            "Bahamas",
            "Haiti",
            "Ecuador",
            "Peru"
           ],
           "name": "",
           "type": "choropleth",
           "z": [
            0,
            100000000,
            43616095.839138895,
            11477303.35113327,
            11818426.80906615,
            7644000000,
            8427257.496407084,
            473480257.0231485,
            0,
            10652049364.05,
            78780000,
            178154606.70226654,
            358801224.1668448,
            100000,
            60000,
            1616827,
            21031345680.1528,
            62229640.661294095,
            2504364763.3217044,
            16722966.138839494,
            3017925525.764533,
            2002682278.21
           ]
          }
         ],
         "name": "2010"
        },
        {
         "data": [
          {
           "coloraxis": "coloraxis",
           "geo": "geo",
           "hovertemplate": "<b>%{hovertext}</b><br><br>Commitment Year=2011<br>Recipient=%{location}<br>Amount (Nominal USD)=%{z}<extra></extra>",
           "hovertext": [
            "Venezuela",
            "Guyana",
            "Trinidad and Tobago",
            "Haiti",
            "Grenada",
            "Peru",
            "Dominica",
            "Panama",
            "Jamaica",
            "Uruguay",
            "Suriname",
            "Mexico",
            "Ecuador",
            "America, regional",
            "Antigua and Barbuda",
            "Chile",
            "Cuba",
            "Costa Rica",
            "Bahamas",
            "Colombia",
            "Bolivia",
            "Argentina",
            "Brazil",
            "Barbados"
           ],
           "locationmode": "country names",
           "locations": [
            "Venezuela",
            "Guyana",
            "Trinidad and Tobago",
            "Haiti",
            "Grenada",
            "Peru",
            "Dominica",
            "Panama",
            "Jamaica",
            "Uruguay",
            "Suriname",
            "Mexico",
            "Ecuador",
            "America, regional",
            "Antigua and Barbuda",
            "Chile",
            "Cuba",
            "Costa Rica",
            "Bahamas",
            "Colombia",
            "Bolivia",
            "Argentina",
            "Brazil",
            "Barbados"
           ],
           "name": "",
           "type": "choropleth",
           "z": [
            5500000000,
            486982278.7208859,
            42849019.80559224,
            0,
            0,
            248198922.70931268,
            731505.555555555,
            68600000,
            16146371.106388543,
            14200000,
            13901342.1745869,
            375000000,
            3577901125.710602,
            0,
            60056222.38377182,
            23333333,
            4640688.0655876,
            66369632.9182265,
            330000,
            3137081.698766876,
            421946967.22085774,
            1700687550,
            671211111.1110001,
            4783792.04372507
           ]
          }
         ],
         "name": "2011"
        },
        {
         "data": [
          {
           "coloraxis": "coloraxis",
           "geo": "geo",
           "hovertemplate": "<b>%{hovertext}</b><br><br>Commitment Year=2012<br>Recipient=%{location}<br>Amount (Nominal USD)=%{z}<extra></extra>",
           "hovertext": [
            "Colombia",
            "Mexico",
            "Peru",
            "Cuba",
            "Chile",
            "Guyana",
            "Argentina",
            "Suriname",
            "Jamaica",
            "Trinidad and Tobago",
            "Ecuador",
            "Barbados",
            "Dominica",
            "Bolivia",
            "Antigua and Barbuda",
            "Venezuela",
            "Grenada",
            "Bahamas",
            "Brazil",
            "Costa Rica"
           ],
           "locationmode": "country names",
           "locations": [
            "Colombia",
            "Mexico",
            "Peru",
            "Cuba",
            "Chile",
            "Guyana",
            "Argentina",
            "Suriname",
            "Jamaica",
            "Trinidad and Tobago",
            "Ecuador",
            "Barbados",
            "Dominica",
            "Bolivia",
            "Antigua and Barbuda",
            "Venezuela",
            "Grenada",
            "Bahamas",
            "Brazil",
            "Costa Rica"
           ],
           "name": "",
           "type": "choropleth",
           "z": [
            9510782.78880075,
            54700000,
            408605107.0840734,
            400000,
            0,
            235658771.44758588,
            2640965834,
            52341007.94770018,
            5726585.938854542,
            0,
            2016188862.4952252,
            0,
            44947679.25925926,
            28626722.265316386,
            19889694.314601757,
            10501585130.4648,
            72673771,
            47269555.5546592,
            2708684700,
            98600000
           ]
          }
         ],
         "name": "2012"
        },
        {
         "data": [
          {
           "coloraxis": "coloraxis",
           "geo": "geo",
           "hovertemplate": "<b>%{hovertext}</b><br><br>Commitment Year=2013<br>Recipient=%{location}<br>Amount (Nominal USD)=%{z}<extra></extra>",
           "hovertext": [
            "Argentina",
            "Barbados",
            "Uruguay",
            "Mexico",
            "Costa Rica",
            "Grenada",
            "Colombia",
            "Panama",
            "Trinidad and Tobago",
            "Guyana",
            "Nicaragua",
            "Antigua and Barbuda",
            "Jamaica",
            "Dominica",
            "Brazil",
            "Chile",
            "Ecuador",
            "Cuba",
            "Peru",
            "Suriname",
            "Bolivia",
            "Honduras",
            "America, regional",
            "Venezuela",
            "Bahamas"
           ],
           "locationmode": "country names",
           "locations": [
            "Argentina",
            "Barbados",
            "Uruguay",
            "Mexico",
            "Costa Rica",
            "Grenada",
            "Colombia",
            "Panama",
            "Trinidad and Tobago",
            "Guyana",
            "Nicaragua",
            "Antigua and Barbuda",
            "Jamaica",
            "Dominica",
            "Brazil",
            "Chile",
            "Ecuador",
            "Cuba",
            "Peru",
            "Suriname",
            "Bolivia",
            "Honduras",
            "America, regional",
            "Venezuela",
            "Bahamas"
           ],
           "name": "",
           "type": "choropleth",
           "z": [
            483591300.0894604,
            8028000,
            500000,
            1000000000,
            1432110198.758935,
            5655555.555555555,
            8133269.796406889,
            59096700,
            384822142.7981131,
            650545.431585577,
            5000000,
            51718361.81105338,
            790896332.5200031,
            23026902.82667645,
            226428381,
            52000000,
            12406351554.843018,
            10500000,
            450028764.79472595,
            52187909.073689185,
            61815089.22153978,
            297719934.1,
            2000000000,
            15106000000,
            0
           ]
          }
         ],
         "name": "2013"
        },
        {
         "data": [
          {
           "coloraxis": "coloraxis",
           "geo": "geo",
           "hovertemplate": "<b>%{hovertext}</b><br><br>Commitment Year=2014<br>Recipient=%{location}<br>Amount (Nominal USD)=%{z}<extra></extra>",
           "hovertext": [
            "Colombia",
            "Brazil",
            "Bahamas",
            "Honduras",
            "Suriname",
            "Guyana",
            "Argentina",
            "Barbados",
            "Chile",
            "Jamaica",
            "Trinidad and Tobago",
            "Panama",
            "Uruguay",
            "Bolivia",
            "Peru",
            "America, regional",
            "Ecuador",
            "Costa Rica",
            "Antigua and Barbuda",
            "Grenada",
            "Mexico",
            "Dominica",
            "Curacao",
            "Venezuela",
            "Cuba"
           ],
           "locationmode": "country names",
           "locations": [
            "Colombia",
            "Brazil",
            "Bahamas",
            "Honduras",
            "Suriname",
            "Guyana",
            "Argentina",
            "Barbados",
            "Chile",
            "Jamaica",
            "Trinidad and Tobago",
            "Panama",
            "Uruguay",
            "Bolivia",
            "Peru",
            "America, regional",
            "Ecuador",
            "Costa Rica",
            "Antigua and Barbuda",
            "Grenada",
            "Mexico",
            "Dominica",
            "Curacao",
            "Venezuela",
            "Cuba"
           ],
           "name": "",
           "type": "choropleth",
           "z": [
            163953.76,
            12344046703.8,
            1075000,
            60000000,
            26156085.56872378,
            72657.1108993485,
            15333784122.91329,
            32459.5876778223,
            13900000,
            28785716.64,
            0,
            35000000,
            45200000,
            2006014731.9905844,
            7288863598.578814,
            0,
            4525693971.37,
            75052000,
            13245958.76778223,
            211177,
            3230000000,
            598499.629629629,
            0,
            7194245958.767782,
            180000000
           ]
          }
         ],
         "name": "2014"
        },
        {
         "data": [
          {
           "coloraxis": "coloraxis",
           "geo": "geo",
           "hovertemplate": "<b>%{hovertext}</b><br><br>Commitment Year=2015<br>Recipient=%{location}<br>Amount (Nominal USD)=%{z}<extra></extra>",
           "hovertext": [
            "Ecuador",
            "Paraguay",
            "Peru",
            "Bolivia",
            "Suriname",
            "Trinidad and Tobago",
            "Saint Lucia",
            "Uruguay",
            "America, regional",
            "Jamaica",
            "Venezuela",
            "Dominica",
            "Bahamas",
            "Barbados",
            "Cuba",
            "Brazil",
            "Mexico",
            "Costa Rica",
            "Haiti",
            "Chile",
            "Guyana",
            "Panama",
            "El Salvador",
            "Grenada",
            "Colombia",
            "Argentina",
            "Antigua and Barbuda"
           ],
           "locationmode": "country names",
           "locations": [
            "Ecuador",
            "Paraguay",
            "Peru",
            "Bolivia",
            "Suriname",
            "Trinidad and Tobago",
            "Saint Lucia",
            "Uruguay",
            "America, regional",
            "Jamaica",
            "Venezuela",
            "Dominica",
            "Bahamas",
            "Barbados",
            "Cuba",
            "Brazil",
            "Mexico",
            "Costa Rica",
            "Haiti",
            "Chile",
            "Guyana",
            "Panama",
            "El Salvador",
            "Grenada",
            "Colombia",
            "Argentina",
            "Antigua and Barbuda"
           ],
           "name": "",
           "type": "choropleth",
           "z": [
            5682986070.07028,
            65000000,
            171096989.1242999,
            506150495.01530415,
            256375991.1523676,
            1748430.595812627,
            0,
            95378995.46845831,
            7500000,
            411972.5551851819,
            20041000000,
            17075595.925925925,
            149553.914807016,
            192550000,
            108260893.3754335,
            10198901976.992886,
            322880000,
            24008176.32380715,
            800000000,
            54600000,
            43359881.09868206,
            50000000,
            20000000,
            0,
            264288329.4684583,
            13094113831.967772,
            1259344.44444444
           ]
          }
         ],
         "name": "2015"
        },
        {
         "data": [
          {
           "coloraxis": "coloraxis",
           "geo": "geo",
           "hovertemplate": "<b>%{hovertext}</b><br><br>Commitment Year=2016<br>Recipient=%{location}<br>Amount (Nominal USD)=%{z}<extra></extra>",
           "hovertext": [
            "Dominican Republic",
            "Grenada",
            "Uruguay",
            "Jamaica",
            "Panama",
            "Bahamas",
            "Mexico",
            "Venezuela",
            "Dominica",
            "Peru",
            "Haiti",
            "Chile",
            "Ecuador",
            "Suriname",
            "Bolivia",
            "Costa Rica",
            "Argentina",
            "Honduras",
            "Cuba",
            "Guyana",
            "Brazil",
            "Antigua and Barbuda",
            "Barbados"
           ],
           "locationmode": "country names",
           "locations": [
            "Dominican Republic",
            "Grenada",
            "Uruguay",
            "Jamaica",
            "Panama",
            "Bahamas",
            "Mexico",
            "Venezuela",
            "Dominica",
            "Peru",
            "Haiti",
            "Chile",
            "Ecuador",
            "Suriname",
            "Bolivia",
            "Costa Rica",
            "Argentina",
            "Honduras",
            "Cuba",
            "Guyana",
            "Brazil",
            "Antigua and Barbuda",
            "Barbados"
           ],
           "name": "",
           "type": "choropleth",
           "z": [
            0,
            7803,
            32529061.80935727,
            329428379.8325418,
            0,
            74221,
            0,
            2200000000,
            11510854.074074075,
            64776428.955335215,
            1200060000,
            0,
            3514817229.64398,
            426410570.511092,
            1647336077.0476577,
            0,
            11230414506.239433,
            6000000,
            3327791443.493443,
            1820000,
            19165201016.061733,
            90292542.3066553,
            12533251.41022184
           ]
          }
         ],
         "name": "2016"
        },
        {
         "data": [
          {
           "coloraxis": "coloraxis",
           "geo": "geo",
           "hovertemplate": "<b>%{hovertext}</b><br><br>Commitment Year=2017<br>Recipient=%{location}<br>Amount (Nominal USD)=%{z}<extra></extra>",
           "hovertext": [
            "Panama",
            "Bolivia",
            "Mexico",
            "Sint Maarten (Dutch part)",
            "Peru",
            "Guyana",
            "Bahamas",
            "Curacao",
            "Dominica",
            "Venezuela",
            "Dominican Republic",
            "America, regional",
            "Cuba",
            "Ecuador",
            "Uruguay",
            "Costa Rica",
            "Grenada",
            "Trinidad and Tobago",
            "Antigua and Barbuda",
            "Barbados",
            "Jamaica",
            "Argentina",
            "Brazil",
            "Chile",
            "Haiti",
            "Honduras",
            "Colombia",
            "Suriname"
           ],
           "locationmode": "country names",
           "locations": [
            "Panama",
            "Bolivia",
            "Mexico",
            "Sint Maarten (Dutch part)",
            "Peru",
            "Guyana",
            "Bahamas",
            "Curacao",
            "Dominica",
            "Venezuela",
            "Dominican Republic",
            "America, regional",
            "Cuba",
            "Ecuador",
            "Uruguay",
            "Costa Rica",
            "Grenada",
            "Trinidad and Tobago",
            "Antigua and Barbuda",
            "Barbados",
            "Jamaica",
            "Argentina",
            "Brazil",
            "Chile",
            "Haiti",
            "Honduras",
            "Colombia",
            "Suriname"
           ],
           "name": "",
           "type": "choropleth",
           "z": [
            14798489.4873379,
            419401557.73464525,
            127350000,
            105275,
            525970649.6464364,
            49593221.98445191,
            50000,
            0,
            37710169.57471703,
            0,
            350000000,
            35000000,
            282000000,
            523125518.82856154,
            59877750.53341574,
            32431999.598212592,
            124144528.30927819,
            0,
            2175000,
            15140744.74366898,
            328700000,
            14735436819.16931,
            5628074900,
            198960000,
            0,
            4000000,
            209300000,
            246815832.72044697
           ]
          }
         ],
         "name": "2017"
        },
        {
         "data": [
          {
           "coloraxis": "coloraxis",
           "geo": "geo",
           "hovertemplate": "<b>%{hovertext}</b><br><br>Commitment Year=2018<br>Recipient=%{location}<br>Amount (Nominal USD)=%{z}<extra></extra>",
           "hovertext": [
            "Venezuela",
            "Saint Lucia",
            "Trinidad and Tobago",
            "Uruguay",
            "Argentina",
            "Peru",
            "Bahamas",
            "Antigua and Barbuda",
            "Suriname",
            "America, regional",
            "Curacao",
            "Bolivia",
            "Barbados",
            "Ecuador",
            "Grenada",
            "Costa Rica",
            "Mexico",
            "Chile",
            "Guyana",
            "Dominican Republic",
            "Panama",
            "Cuba",
            "Jamaica",
            "Colombia",
            "Paraguay",
            "Dominica",
            "Brazil",
            "El Salvador",
            "Haiti"
           ],
           "locationmode": "country names",
           "locations": [
            "Venezuela",
            "Saint Lucia",
            "Trinidad and Tobago",
            "Uruguay",
            "Argentina",
            "Peru",
            "Bahamas",
            "Antigua and Barbuda",
            "Suriname",
            "America, regional",
            "Curacao",
            "Bolivia",
            "Barbados",
            "Ecuador",
            "Grenada",
            "Costa Rica",
            "Mexico",
            "Chile",
            "Guyana",
            "Dominican Republic",
            "Panama",
            "Cuba",
            "Jamaica",
            "Colombia",
            "Paraguay",
            "Dominica",
            "Brazil",
            "El Salvador",
            "Haiti"
           ],
           "name": "",
           "type": "choropleth",
           "z": [
            5250000000,
            0,
            10150616.303373747,
            11951000,
            20474449534.8798,
            1184720,
            3000,
            61407407.40740736,
            185857703.54522452,
            20000000,
            0,
            83158789.2464146,
            254887.3726207848,
            1065040427.4241465,
            0,
            32431726.59777112,
            111600000,
            2974000000,
            48973155.56328586,
            685030754.245348,
            145854823.5657034,
            53600000,
            41300551.00095709,
            71730984.3930589,
            3000000,
            62374007.73710155,
            2256018337.84,
            165547679.30220526,
            0
           ]
          }
         ],
         "name": "2018"
        },
        {
         "data": [
          {
           "coloraxis": "coloraxis",
           "geo": "geo",
           "hovertemplate": "<b>%{hovertext}</b><br><br>Commitment Year=2019<br>Recipient=%{location}<br>Amount (Nominal USD)=%{z}<extra></extra>",
           "hovertext": [
            "Barbados",
            "Argentina",
            "Suriname",
            "Chile",
            "Colombia",
            "El Salvador",
            "Antigua and Barbuda",
            "Grenada",
            "Ecuador",
            "Uruguay",
            "Costa Rica",
            "Dominican Republic",
            "Cuba",
            "Dominica",
            "Venezuela",
            "Trinidad and Tobago",
            "Haiti",
            "Guyana",
            "Bahamas",
            "Brazil",
            "Mexico",
            "Panama",
            "Jamaica",
            "Peru",
            "Bolivia",
            "Saint Lucia",
            "Nicaragua"
           ],
           "locationmode": "country names",
           "locations": [
            "Barbados",
            "Argentina",
            "Suriname",
            "Chile",
            "Colombia",
            "El Salvador",
            "Antigua and Barbuda",
            "Grenada",
            "Ecuador",
            "Uruguay",
            "Costa Rica",
            "Dominican Republic",
            "Cuba",
            "Dominica",
            "Venezuela",
            "Trinidad and Tobago",
            "Haiti",
            "Guyana",
            "Bahamas",
            "Brazil",
            "Mexico",
            "Panama",
            "Jamaica",
            "Peru",
            "Bolivia",
            "Saint Lucia",
            "Nicaragua"
           ],
           "name": "",
           "type": "choropleth",
           "z": [
            8637835.21878829,
            20376356301.6599,
            379391814.288308,
            978410000,
            449200000,
            629026310.3425381,
            39950196.2492183,
            63451851.85185182,
            205028344.83821762,
            160000,
            17475098.1246091,
            86482354.99287969,
            114000000,
            13460564.074074073,
            0,
            263009313.8382157,
            0,
            34007000,
            12520000,
            2588949726.551073,
            636600000,
            206600000,
            26212647.1869137,
            931229247.7705076,
            0,
            0,
            13000000
           ]
          }
         ],
         "name": "2019"
        },
        {
         "data": [
          {
           "coloraxis": "coloraxis",
           "geo": "geo",
           "hovertemplate": "<b>%{hovertext}</b><br><br>Commitment Year=2020<br>Recipient=%{location}<br>Amount (Nominal USD)=%{z}<extra></extra>",
           "hovertext": [
            "Honduras",
            "Mexico",
            "Bahamas",
            "Ecuador",
            "Venezuela",
            "America, regional",
            "Costa Rica",
            "Dominican Republic",
            "Peru",
            "Panama",
            "Cuba",
            "Dominica",
            "Barbados",
            "Uruguay",
            "Saint Lucia",
            "El Salvador",
            "Suriname",
            "Grenada",
            "Jamaica",
            "Bolivia",
            "Chile",
            "Argentina",
            "Curacao",
            "Guyana",
            "Trinidad and Tobago",
            "Brazil",
            "Colombia"
           ],
           "locationmode": "country names",
           "locations": [
            "Honduras",
            "Mexico",
            "Bahamas",
            "Ecuador",
            "Venezuela",
            "America, regional",
            "Costa Rica",
            "Dominican Republic",
            "Peru",
            "Panama",
            "Cuba",
            "Dominica",
            "Barbados",
            "Uruguay",
            "Saint Lucia",
            "El Salvador",
            "Suriname",
            "Grenada",
            "Jamaica",
            "Bolivia",
            "Chile",
            "Argentina",
            "Curacao",
            "Guyana",
            "Trinidad and Tobago",
            "Brazil",
            "Colombia"
           ],
           "name": "",
           "type": "choropleth",
           "z": [
            32210000,
            65518045.4004649,
            9730,
            55405754.91246377,
            27418987.7,
            25154950,
            50273447.923968606,
            1902652.2506619594,
            2832109041,
            1731015.91,
            1060020,
            836269.0016103059,
            180947.92079207918,
            201407.34057971014,
            0,
            62737214.15,
            144927536.231884,
            1513483.5185185175,
            124671.89440225036,
            204353.768115942,
            108885700,
            19231649992.63859,
            0,
            63992270.01282966,
            14795329.408284,
            229498070.91666645,
            240277286
           ]
          }
         ],
         "name": "2020"
        },
        {
         "data": [
          {
           "coloraxis": "coloraxis",
           "geo": "geo",
           "hovertemplate": "<b>%{hovertext}</b><br><br>Commitment Year=2021<br>Recipient=%{location}<br>Amount (Nominal USD)=%{z}<extra></extra>",
           "hovertext": [
            "Dominica",
            "Argentina",
            "Dominican Republic",
            "Suriname",
            "Panama",
            "Barbados",
            "Cuba",
            "Jamaica",
            "Guyana",
            "Antigua and Barbuda",
            "Bolivia",
            "America, regional",
            "Peru",
            "Nicaragua",
            "Uruguay",
            "Chile",
            "Mexico",
            "Bahamas",
            "Ecuador",
            "Colombia",
            "Brazil",
            "El Salvador",
            "Grenada",
            "Trinidad and Tobago",
            "Costa Rica",
            "Venezuela"
           ],
           "locationmode": "country names",
           "locations": [
            "Dominica",
            "Argentina",
            "Dominican Republic",
            "Suriname",
            "Panama",
            "Barbados",
            "Cuba",
            "Jamaica",
            "Guyana",
            "Antigua and Barbuda",
            "Bolivia",
            "America, regional",
            "Peru",
            "Nicaragua",
            "Uruguay",
            "Chile",
            "Mexico",
            "Bahamas",
            "Ecuador",
            "Colombia",
            "Brazil",
            "El Salvador",
            "Grenada",
            "Trinidad and Tobago",
            "Costa Rica",
            "Venezuela"
           ],
           "name": "",
           "type": "choropleth",
           "z": [
            32690511.85185185,
            20256568060.460854,
            68569741.9379844,
            156885271.31782898,
            0,
            650000,
            3018684.52,
            1950155.2589999342,
            210592134.29256594,
            360000,
            73179500.5,
            977000,
            372467666.59360826,
            18000000,
            23000000,
            588226567.23529,
            373214285.72,
            12745969.9751937,
            12607570,
            103221090,
            1903267083,
            56634200,
            828114.4999999999,
            411836872.32102096,
            4826720.72593879,
            16054029.14
           ]
          }
         ],
         "name": "2021"
        }
       ],
       "layout": {
        "coloraxis": {
         "colorbar": {
          "title": {
           "text": "Amount (Nominal USD)"
          }
         },
         "colorscale": [
          [
           0,
           "rgb(214, 249, 207)"
          ],
          [
           0.09090909090909091,
           "rgb(186, 228, 174)"
          ],
          [
           0.18181818181818182,
           "rgb(156, 209, 143)"
          ],
          [
           0.2727272727272727,
           "rgb(124, 191, 115)"
          ],
          [
           0.36363636363636365,
           "rgb(85, 174, 91)"
          ],
          [
           0.45454545454545453,
           "rgb(37, 157, 81)"
          ],
          [
           0.5454545454545454,
           "rgb(7, 138, 78)"
          ],
          [
           0.6363636363636364,
           "rgb(13, 117, 71)"
          ],
          [
           0.7272727272727273,
           "rgb(23, 95, 61)"
          ],
          [
           0.8181818181818182,
           "rgb(25, 75, 49)"
          ],
          [
           0.9090909090909091,
           "rgb(23, 55, 35)"
          ],
          [
           1,
           "rgb(17, 36, 20)"
          ]
         ]
        },
        "geo": {
         "center": {},
         "coastlinecolor": "Black",
         "domain": {
          "x": [
           0,
           1
          ],
          "y": [
           0,
           1
          ]
         },
         "landcolor": "White",
         "scope": "south america",
         "showcoastlines": true,
         "showland": true
        },
        "legend": {
         "tracegroupgap": 0
        },
        "sliders": [
         {
          "active": 0,
          "currentvalue": {
           "prefix": "Commitment Year="
          },
          "len": 0.9,
          "pad": {
           "b": 10,
           "t": 60
          },
          "steps": [
           {
            "args": [
             [
              "2000"
             ],
             {
              "frame": {
               "duration": 0,
               "redraw": true
              },
              "fromcurrent": true,
              "mode": "immediate",
              "transition": {
               "duration": 0,
               "easing": "linear"
              }
             }
            ],
            "label": "2000",
            "method": "animate"
           },
           {
            "args": [
             [
              "2001"
             ],
             {
              "frame": {
               "duration": 0,
               "redraw": true
              },
              "fromcurrent": true,
              "mode": "immediate",
              "transition": {
               "duration": 0,
               "easing": "linear"
              }
             }
            ],
            "label": "2001",
            "method": "animate"
           },
           {
            "args": [
             [
              "2002"
             ],
             {
              "frame": {
               "duration": 0,
               "redraw": true
              },
              "fromcurrent": true,
              "mode": "immediate",
              "transition": {
               "duration": 0,
               "easing": "linear"
              }
             }
            ],
            "label": "2002",
            "method": "animate"
           },
           {
            "args": [
             [
              "2003"
             ],
             {
              "frame": {
               "duration": 0,
               "redraw": true
              },
              "fromcurrent": true,
              "mode": "immediate",
              "transition": {
               "duration": 0,
               "easing": "linear"
              }
             }
            ],
            "label": "2003",
            "method": "animate"
           },
           {
            "args": [
             [
              "2004"
             ],
             {
              "frame": {
               "duration": 0,
               "redraw": true
              },
              "fromcurrent": true,
              "mode": "immediate",
              "transition": {
               "duration": 0,
               "easing": "linear"
              }
             }
            ],
            "label": "2004",
            "method": "animate"
           },
           {
            "args": [
             [
              "2005"
             ],
             {
              "frame": {
               "duration": 0,
               "redraw": true
              },
              "fromcurrent": true,
              "mode": "immediate",
              "transition": {
               "duration": 0,
               "easing": "linear"
              }
             }
            ],
            "label": "2005",
            "method": "animate"
           },
           {
            "args": [
             [
              "2006"
             ],
             {
              "frame": {
               "duration": 0,
               "redraw": true
              },
              "fromcurrent": true,
              "mode": "immediate",
              "transition": {
               "duration": 0,
               "easing": "linear"
              }
             }
            ],
            "label": "2006",
            "method": "animate"
           },
           {
            "args": [
             [
              "2007"
             ],
             {
              "frame": {
               "duration": 0,
               "redraw": true
              },
              "fromcurrent": true,
              "mode": "immediate",
              "transition": {
               "duration": 0,
               "easing": "linear"
              }
             }
            ],
            "label": "2007",
            "method": "animate"
           },
           {
            "args": [
             [
              "2008"
             ],
             {
              "frame": {
               "duration": 0,
               "redraw": true
              },
              "fromcurrent": true,
              "mode": "immediate",
              "transition": {
               "duration": 0,
               "easing": "linear"
              }
             }
            ],
            "label": "2008",
            "method": "animate"
           },
           {
            "args": [
             [
              "2009"
             ],
             {
              "frame": {
               "duration": 0,
               "redraw": true
              },
              "fromcurrent": true,
              "mode": "immediate",
              "transition": {
               "duration": 0,
               "easing": "linear"
              }
             }
            ],
            "label": "2009",
            "method": "animate"
           },
           {
            "args": [
             [
              "2010"
             ],
             {
              "frame": {
               "duration": 0,
               "redraw": true
              },
              "fromcurrent": true,
              "mode": "immediate",
              "transition": {
               "duration": 0,
               "easing": "linear"
              }
             }
            ],
            "label": "2010",
            "method": "animate"
           },
           {
            "args": [
             [
              "2011"
             ],
             {
              "frame": {
               "duration": 0,
               "redraw": true
              },
              "fromcurrent": true,
              "mode": "immediate",
              "transition": {
               "duration": 0,
               "easing": "linear"
              }
             }
            ],
            "label": "2011",
            "method": "animate"
           },
           {
            "args": [
             [
              "2012"
             ],
             {
              "frame": {
               "duration": 0,
               "redraw": true
              },
              "fromcurrent": true,
              "mode": "immediate",
              "transition": {
               "duration": 0,
               "easing": "linear"
              }
             }
            ],
            "label": "2012",
            "method": "animate"
           },
           {
            "args": [
             [
              "2013"
             ],
             {
              "frame": {
               "duration": 0,
               "redraw": true
              },
              "fromcurrent": true,
              "mode": "immediate",
              "transition": {
               "duration": 0,
               "easing": "linear"
              }
             }
            ],
            "label": "2013",
            "method": "animate"
           },
           {
            "args": [
             [
              "2014"
             ],
             {
              "frame": {
               "duration": 0,
               "redraw": true
              },
              "fromcurrent": true,
              "mode": "immediate",
              "transition": {
               "duration": 0,
               "easing": "linear"
              }
             }
            ],
            "label": "2014",
            "method": "animate"
           },
           {
            "args": [
             [
              "2015"
             ],
             {
              "frame": {
               "duration": 0,
               "redraw": true
              },
              "fromcurrent": true,
              "mode": "immediate",
              "transition": {
               "duration": 0,
               "easing": "linear"
              }
             }
            ],
            "label": "2015",
            "method": "animate"
           },
           {
            "args": [
             [
              "2016"
             ],
             {
              "frame": {
               "duration": 0,
               "redraw": true
              },
              "fromcurrent": true,
              "mode": "immediate",
              "transition": {
               "duration": 0,
               "easing": "linear"
              }
             }
            ],
            "label": "2016",
            "method": "animate"
           },
           {
            "args": [
             [
              "2017"
             ],
             {
              "frame": {
               "duration": 0,
               "redraw": true
              },
              "fromcurrent": true,
              "mode": "immediate",
              "transition": {
               "duration": 0,
               "easing": "linear"
              }
             }
            ],
            "label": "2017",
            "method": "animate"
           },
           {
            "args": [
             [
              "2018"
             ],
             {
              "frame": {
               "duration": 0,
               "redraw": true
              },
              "fromcurrent": true,
              "mode": "immediate",
              "transition": {
               "duration": 0,
               "easing": "linear"
              }
             }
            ],
            "label": "2018",
            "method": "animate"
           },
           {
            "args": [
             [
              "2019"
             ],
             {
              "frame": {
               "duration": 0,
               "redraw": true
              },
              "fromcurrent": true,
              "mode": "immediate",
              "transition": {
               "duration": 0,
               "easing": "linear"
              }
             }
            ],
            "label": "2019",
            "method": "animate"
           },
           {
            "args": [
             [
              "2020"
             ],
             {
              "frame": {
               "duration": 0,
               "redraw": true
              },
              "fromcurrent": true,
              "mode": "immediate",
              "transition": {
               "duration": 0,
               "easing": "linear"
              }
             }
            ],
            "label": "2020",
            "method": "animate"
           },
           {
            "args": [
             [
              "2021"
             ],
             {
              "frame": {
               "duration": 0,
               "redraw": true
              },
              "fromcurrent": true,
              "mode": "immediate",
              "transition": {
               "duration": 0,
               "easing": "linear"
              }
             }
            ],
            "label": "2021",
            "method": "animate"
           }
          ],
          "x": 0.1,
          "xanchor": "left",
          "y": 0,
          "yanchor": "top"
         }
        ],
        "template": {
         "data": {
          "bar": [
           {
            "error_x": {
             "color": "#2a3f5f"
            },
            "error_y": {
             "color": "#2a3f5f"
            },
            "marker": {
             "line": {
              "color": "#E5ECF6",
              "width": 0.5
             },
             "pattern": {
              "fillmode": "overlay",
              "size": 10,
              "solidity": 0.2
             }
            },
            "type": "bar"
           }
          ],
          "barpolar": [
           {
            "marker": {
             "line": {
              "color": "#E5ECF6",
              "width": 0.5
             },
             "pattern": {
              "fillmode": "overlay",
              "size": 10,
              "solidity": 0.2
             }
            },
            "type": "barpolar"
           }
          ],
          "carpet": [
           {
            "aaxis": {
             "endlinecolor": "#2a3f5f",
             "gridcolor": "white",
             "linecolor": "white",
             "minorgridcolor": "white",
             "startlinecolor": "#2a3f5f"
            },
            "baxis": {
             "endlinecolor": "#2a3f5f",
             "gridcolor": "white",
             "linecolor": "white",
             "minorgridcolor": "white",
             "startlinecolor": "#2a3f5f"
            },
            "type": "carpet"
           }
          ],
          "choropleth": [
           {
            "colorbar": {
             "outlinewidth": 0,
             "ticks": ""
            },
            "type": "choropleth"
           }
          ],
          "contour": [
           {
            "colorbar": {
             "outlinewidth": 0,
             "ticks": ""
            },
            "colorscale": [
             [
              0,
              "#0d0887"
             ],
             [
              0.1111111111111111,
              "#46039f"
             ],
             [
              0.2222222222222222,
              "#7201a8"
             ],
             [
              0.3333333333333333,
              "#9c179e"
             ],
             [
              0.4444444444444444,
              "#bd3786"
             ],
             [
              0.5555555555555556,
              "#d8576b"
             ],
             [
              0.6666666666666666,
              "#ed7953"
             ],
             [
              0.7777777777777778,
              "#fb9f3a"
             ],
             [
              0.8888888888888888,
              "#fdca26"
             ],
             [
              1,
              "#f0f921"
             ]
            ],
            "type": "contour"
           }
          ],
          "contourcarpet": [
           {
            "colorbar": {
             "outlinewidth": 0,
             "ticks": ""
            },
            "type": "contourcarpet"
           }
          ],
          "heatmap": [
           {
            "colorbar": {
             "outlinewidth": 0,
             "ticks": ""
            },
            "colorscale": [
             [
              0,
              "#0d0887"
             ],
             [
              0.1111111111111111,
              "#46039f"
             ],
             [
              0.2222222222222222,
              "#7201a8"
             ],
             [
              0.3333333333333333,
              "#9c179e"
             ],
             [
              0.4444444444444444,
              "#bd3786"
             ],
             [
              0.5555555555555556,
              "#d8576b"
             ],
             [
              0.6666666666666666,
              "#ed7953"
             ],
             [
              0.7777777777777778,
              "#fb9f3a"
             ],
             [
              0.8888888888888888,
              "#fdca26"
             ],
             [
              1,
              "#f0f921"
             ]
            ],
            "type": "heatmap"
           }
          ],
          "heatmapgl": [
           {
            "colorbar": {
             "outlinewidth": 0,
             "ticks": ""
            },
            "colorscale": [
             [
              0,
              "#0d0887"
             ],
             [
              0.1111111111111111,
              "#46039f"
             ],
             [
              0.2222222222222222,
              "#7201a8"
             ],
             [
              0.3333333333333333,
              "#9c179e"
             ],
             [
              0.4444444444444444,
              "#bd3786"
             ],
             [
              0.5555555555555556,
              "#d8576b"
             ],
             [
              0.6666666666666666,
              "#ed7953"
             ],
             [
              0.7777777777777778,
              "#fb9f3a"
             ],
             [
              0.8888888888888888,
              "#fdca26"
             ],
             [
              1,
              "#f0f921"
             ]
            ],
            "type": "heatmapgl"
           }
          ],
          "histogram": [
           {
            "marker": {
             "pattern": {
              "fillmode": "overlay",
              "size": 10,
              "solidity": 0.2
             }
            },
            "type": "histogram"
           }
          ],
          "histogram2d": [
           {
            "colorbar": {
             "outlinewidth": 0,
             "ticks": ""
            },
            "colorscale": [
             [
              0,
              "#0d0887"
             ],
             [
              0.1111111111111111,
              "#46039f"
             ],
             [
              0.2222222222222222,
              "#7201a8"
             ],
             [
              0.3333333333333333,
              "#9c179e"
             ],
             [
              0.4444444444444444,
              "#bd3786"
             ],
             [
              0.5555555555555556,
              "#d8576b"
             ],
             [
              0.6666666666666666,
              "#ed7953"
             ],
             [
              0.7777777777777778,
              "#fb9f3a"
             ],
             [
              0.8888888888888888,
              "#fdca26"
             ],
             [
              1,
              "#f0f921"
             ]
            ],
            "type": "histogram2d"
           }
          ],
          "histogram2dcontour": [
           {
            "colorbar": {
             "outlinewidth": 0,
             "ticks": ""
            },
            "colorscale": [
             [
              0,
              "#0d0887"
             ],
             [
              0.1111111111111111,
              "#46039f"
             ],
             [
              0.2222222222222222,
              "#7201a8"
             ],
             [
              0.3333333333333333,
              "#9c179e"
             ],
             [
              0.4444444444444444,
              "#bd3786"
             ],
             [
              0.5555555555555556,
              "#d8576b"
             ],
             [
              0.6666666666666666,
              "#ed7953"
             ],
             [
              0.7777777777777778,
              "#fb9f3a"
             ],
             [
              0.8888888888888888,
              "#fdca26"
             ],
             [
              1,
              "#f0f921"
             ]
            ],
            "type": "histogram2dcontour"
           }
          ],
          "mesh3d": [
           {
            "colorbar": {
             "outlinewidth": 0,
             "ticks": ""
            },
            "type": "mesh3d"
           }
          ],
          "parcoords": [
           {
            "line": {
             "colorbar": {
              "outlinewidth": 0,
              "ticks": ""
             }
            },
            "type": "parcoords"
           }
          ],
          "pie": [
           {
            "automargin": true,
            "type": "pie"
           }
          ],
          "scatter": [
           {
            "fillpattern": {
             "fillmode": "overlay",
             "size": 10,
             "solidity": 0.2
            },
            "type": "scatter"
           }
          ],
          "scatter3d": [
           {
            "line": {
             "colorbar": {
              "outlinewidth": 0,
              "ticks": ""
             }
            },
            "marker": {
             "colorbar": {
              "outlinewidth": 0,
              "ticks": ""
             }
            },
            "type": "scatter3d"
           }
          ],
          "scattercarpet": [
           {
            "marker": {
             "colorbar": {
              "outlinewidth": 0,
              "ticks": ""
             }
            },
            "type": "scattercarpet"
           }
          ],
          "scattergeo": [
           {
            "marker": {
             "colorbar": {
              "outlinewidth": 0,
              "ticks": ""
             }
            },
            "type": "scattergeo"
           }
          ],
          "scattergl": [
           {
            "marker": {
             "colorbar": {
              "outlinewidth": 0,
              "ticks": ""
             }
            },
            "type": "scattergl"
           }
          ],
          "scattermapbox": [
           {
            "marker": {
             "colorbar": {
              "outlinewidth": 0,
              "ticks": ""
             }
            },
            "type": "scattermapbox"
           }
          ],
          "scatterpolar": [
           {
            "marker": {
             "colorbar": {
              "outlinewidth": 0,
              "ticks": ""
             }
            },
            "type": "scatterpolar"
           }
          ],
          "scatterpolargl": [
           {
            "marker": {
             "colorbar": {
              "outlinewidth": 0,
              "ticks": ""
             }
            },
            "type": "scatterpolargl"
           }
          ],
          "scatterternary": [
           {
            "marker": {
             "colorbar": {
              "outlinewidth": 0,
              "ticks": ""
             }
            },
            "type": "scatterternary"
           }
          ],
          "surface": [
           {
            "colorbar": {
             "outlinewidth": 0,
             "ticks": ""
            },
            "colorscale": [
             [
              0,
              "#0d0887"
             ],
             [
              0.1111111111111111,
              "#46039f"
             ],
             [
              0.2222222222222222,
              "#7201a8"
             ],
             [
              0.3333333333333333,
              "#9c179e"
             ],
             [
              0.4444444444444444,
              "#bd3786"
             ],
             [
              0.5555555555555556,
              "#d8576b"
             ],
             [
              0.6666666666666666,
              "#ed7953"
             ],
             [
              0.7777777777777778,
              "#fb9f3a"
             ],
             [
              0.8888888888888888,
              "#fdca26"
             ],
             [
              1,
              "#f0f921"
             ]
            ],
            "type": "surface"
           }
          ],
          "table": [
           {
            "cells": {
             "fill": {
              "color": "#EBF0F8"
             },
             "line": {
              "color": "white"
             }
            },
            "header": {
             "fill": {
              "color": "#C8D4E3"
             },
             "line": {
              "color": "white"
             }
            },
            "type": "table"
           }
          ]
         },
         "layout": {
          "annotationdefaults": {
           "arrowcolor": "#2a3f5f",
           "arrowhead": 0,
           "arrowwidth": 1
          },
          "autotypenumbers": "strict",
          "coloraxis": {
           "colorbar": {
            "outlinewidth": 0,
            "ticks": ""
           }
          },
          "colorscale": {
           "diverging": [
            [
             0,
             "#8e0152"
            ],
            [
             0.1,
             "#c51b7d"
            ],
            [
             0.2,
             "#de77ae"
            ],
            [
             0.3,
             "#f1b6da"
            ],
            [
             0.4,
             "#fde0ef"
            ],
            [
             0.5,
             "#f7f7f7"
            ],
            [
             0.6,
             "#e6f5d0"
            ],
            [
             0.7,
             "#b8e186"
            ],
            [
             0.8,
             "#7fbc41"
            ],
            [
             0.9,
             "#4d9221"
            ],
            [
             1,
             "#276419"
            ]
           ],
           "sequential": [
            [
             0,
             "#0d0887"
            ],
            [
             0.1111111111111111,
             "#46039f"
            ],
            [
             0.2222222222222222,
             "#7201a8"
            ],
            [
             0.3333333333333333,
             "#9c179e"
            ],
            [
             0.4444444444444444,
             "#bd3786"
            ],
            [
             0.5555555555555556,
             "#d8576b"
            ],
            [
             0.6666666666666666,
             "#ed7953"
            ],
            [
             0.7777777777777778,
             "#fb9f3a"
            ],
            [
             0.8888888888888888,
             "#fdca26"
            ],
            [
             1,
             "#f0f921"
            ]
           ],
           "sequentialminus": [
            [
             0,
             "#0d0887"
            ],
            [
             0.1111111111111111,
             "#46039f"
            ],
            [
             0.2222222222222222,
             "#7201a8"
            ],
            [
             0.3333333333333333,
             "#9c179e"
            ],
            [
             0.4444444444444444,
             "#bd3786"
            ],
            [
             0.5555555555555556,
             "#d8576b"
            ],
            [
             0.6666666666666666,
             "#ed7953"
            ],
            [
             0.7777777777777778,
             "#fb9f3a"
            ],
            [
             0.8888888888888888,
             "#fdca26"
            ],
            [
             1,
             "#f0f921"
            ]
           ]
          },
          "colorway": [
           "#636efa",
           "#EF553B",
           "#00cc96",
           "#ab63fa",
           "#FFA15A",
           "#19d3f3",
           "#FF6692",
           "#B6E880",
           "#FF97FF",
           "#FECB52"
          ],
          "font": {
           "color": "#2a3f5f"
          },
          "geo": {
           "bgcolor": "white",
           "lakecolor": "white",
           "landcolor": "#E5ECF6",
           "showlakes": true,
           "showland": true,
           "subunitcolor": "white"
          },
          "hoverlabel": {
           "align": "left"
          },
          "hovermode": "closest",
          "mapbox": {
           "style": "light"
          },
          "paper_bgcolor": "white",
          "plot_bgcolor": "#E5ECF6",
          "polar": {
           "angularaxis": {
            "gridcolor": "white",
            "linecolor": "white",
            "ticks": ""
           },
           "bgcolor": "#E5ECF6",
           "radialaxis": {
            "gridcolor": "white",
            "linecolor": "white",
            "ticks": ""
           }
          },
          "scene": {
           "xaxis": {
            "backgroundcolor": "#E5ECF6",
            "gridcolor": "white",
            "gridwidth": 2,
            "linecolor": "white",
            "showbackground": true,
            "ticks": "",
            "zerolinecolor": "white"
           },
           "yaxis": {
            "backgroundcolor": "#E5ECF6",
            "gridcolor": "white",
            "gridwidth": 2,
            "linecolor": "white",
            "showbackground": true,
            "ticks": "",
            "zerolinecolor": "white"
           },
           "zaxis": {
            "backgroundcolor": "#E5ECF6",
            "gridcolor": "white",
            "gridwidth": 2,
            "linecolor": "white",
            "showbackground": true,
            "ticks": "",
            "zerolinecolor": "white"
           }
          },
          "shapedefaults": {
           "line": {
            "color": "#2a3f5f"
           }
          },
          "ternary": {
           "aaxis": {
            "gridcolor": "white",
            "linecolor": "white",
            "ticks": ""
           },
           "baxis": {
            "gridcolor": "white",
            "linecolor": "white",
            "ticks": ""
           },
           "bgcolor": "#E5ECF6",
           "caxis": {
            "gridcolor": "white",
            "linecolor": "white",
            "ticks": ""
           }
          },
          "title": {
           "x": 0.05
          },
          "xaxis": {
           "automargin": true,
           "gridcolor": "white",
           "linecolor": "white",
           "ticks": "",
           "title": {
            "standoff": 15
           },
           "zerolinecolor": "white",
           "zerolinewidth": 2
          },
          "yaxis": {
           "automargin": true,
           "gridcolor": "white",
           "linecolor": "white",
           "ticks": "",
           "title": {
            "standoff": 15
           },
           "zerolinecolor": "white",
           "zerolinewidth": 2
          }
         }
        },
        "title": {
         "text": "Chinese Loans in South America from 2000 to 2021"
        },
        "updatemenus": [
         {
          "buttons": [
           {
            "args": [
             null,
             {
              "frame": {
               "duration": 500,
               "redraw": true
              },
              "fromcurrent": true,
              "mode": "immediate",
              "transition": {
               "duration": 500,
               "easing": "linear"
              }
             }
            ],
            "label": "&#9654;",
            "method": "animate"
           },
           {
            "args": [
             [
              null
             ],
             {
              "frame": {
               "duration": 0,
               "redraw": true
              },
              "fromcurrent": true,
              "mode": "immediate",
              "transition": {
               "duration": 0,
               "easing": "linear"
              }
             }
            ],
            "label": "&#9724;",
            "method": "animate"
           }
          ],
          "direction": "left",
          "pad": {
           "r": 10,
           "t": 70
          },
          "showactive": false,
          "type": "buttons",
          "x": 0.1,
          "xanchor": "right",
          "y": 0,
          "yanchor": "top"
         }
        ]
       }
      }
     },
     "metadata": {},
     "output_type": "display_data"
    }
   ],
   "source": [
    "# We animate this now.\n",
    "\n",
    "# Filter region to Africa\n",
    "south_america_animate_df = chinese_finance_df[chinese_finance_df['Recipient Region'] == 'America']\n",
    "\n",
    "# The years were looping weirdly, so we're setting them as an integer.\n",
    "south_america_animate_df['Commitment Year'] = south_america_animate_df['Commitment Year'].astype(\n",
    "    int)\n",
    "\n",
    "# We want totals for each year. Groupby 'Recipient' and 'Commitment Year', then sum 'Amount (Nominal USD)'\n",
    "sa_recipient_sum_yearly = south_america_animate_df.groupby(['Recipient', 'Commitment Year'])[\n",
    "    'Amount (Nominal USD)'].sum().reset_index()\n",
    "\n",
    "# Now that we've set them as integers we sort the years to make sure they're in order.\n",
    "sa_recipient_sum_yearly = sa_recipient_sum_yearly.sort_values(by='Commitment Year')\n",
    "\n",
    "# Create the animated choropleth map using Plotly. Algae color scheme is best for my colorblind ass.\n",
    "fig = px.choropleth(sa_recipient_sum_yearly,\n",
    "                    locations='Recipient',\n",
    "                    locationmode='country names',\n",
    "                    color='Amount (Nominal USD)',\n",
    "                    hover_name='Recipient',\n",
    "                    animation_frame='Commitment Year',\n",
    "                    color_continuous_scale='Algae',\n",
    "                    scope='south america',\n",
    "                    title='Chinese Loans in South America from 2000 to 2021')\n",
    "\n",
    "fig.update_geos(showcoastlines=True, coastlinecolor=\"Black\",\n",
    "                showland=True, landcolor=\"White\")\n",
    "\n",
    "fig.show()"
   ]
  }
 ],
 "metadata": {
  "kernelspec": {
   "display_name": "Python 3",
   "language": "python",
   "name": "python3"
  },
  "language_info": {
   "codemirror_mode": {
    "name": "ipython",
    "version": 3
   },
   "file_extension": ".py",
   "mimetype": "text/x-python",
   "name": "python",
   "nbconvert_exporter": "python",
   "pygments_lexer": "ipython3",
   "version": "3.12.3"
  }
 },
 "nbformat": 4,
 "nbformat_minor": 2
}
